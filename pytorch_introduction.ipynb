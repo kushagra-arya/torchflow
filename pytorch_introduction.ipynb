{
  "nbformat": 4,
  "nbformat_minor": 0,
  "metadata": {
    "colab": {
      "provenance": []
    },
    "kernelspec": {
      "name": "python3",
      "display_name": "Python 3"
    },
    "language_info": {
      "name": "python"
    }
  },
  "cells": [
    {
      "cell_type": "code",
      "execution_count": 1,
      "metadata": {
        "colab": {
          "base_uri": "https://localhost:8080/"
        },
        "id": "cidEYuAjz61H",
        "outputId": "9c98f2c2-7dd6-43cd-b392-282efa960671"
      },
      "outputs": [
        {
          "output_type": "stream",
          "name": "stdout",
          "text": [
            "2.8.0+cu126\n"
          ]
        }
      ],
      "source": [
        "import torch\n",
        "import pandas as pd\n",
        "import numpy as np\n",
        "import matplotlib.pyplot as plt\n",
        "import random\n",
        "\n",
        "print(torch.__version__)"
      ]
    },
    {
      "cell_type": "code",
      "source": [
        "# Creating a Tensor\n",
        "scalar = torch.tensor(7)\n",
        "scalar"
      ],
      "metadata": {
        "colab": {
          "base_uri": "https://localhost:8080/"
        },
        "id": "QTNID2jy0rns",
        "outputId": "6064799c-5fdd-4dd8-fecb-a8afa008e9e9"
      },
      "execution_count": 2,
      "outputs": [
        {
          "output_type": "execute_result",
          "data": {
            "text/plain": [
              "tensor(7)"
            ]
          },
          "metadata": {},
          "execution_count": 2
        }
      ]
    },
    {
      "cell_type": "code",
      "source": [
        "scalar.ndim"
      ],
      "metadata": {
        "colab": {
          "base_uri": "https://localhost:8080/"
        },
        "id": "ccAtUmB6037o",
        "outputId": "547dc144-305f-4612-9ad5-6d1e558e1151"
      },
      "execution_count": 3,
      "outputs": [
        {
          "output_type": "execute_result",
          "data": {
            "text/plain": [
              "0"
            ]
          },
          "metadata": {},
          "execution_count": 3
        }
      ]
    },
    {
      "cell_type": "code",
      "source": [
        "# Getting tensor back as Python item\n",
        "scalar.item()"
      ],
      "metadata": {
        "colab": {
          "base_uri": "https://localhost:8080/"
        },
        "id": "5ktSeLwh1U2P",
        "outputId": "7e810184-a9c9-4102-d74a-10e0960a9093"
      },
      "execution_count": 4,
      "outputs": [
        {
          "output_type": "execute_result",
          "data": {
            "text/plain": [
              "7"
            ]
          },
          "metadata": {},
          "execution_count": 4
        }
      ]
    },
    {
      "cell_type": "code",
      "source": [
        "# Creating the Vector\n",
        "vector = torch.tensor([7,7])\n",
        "vector"
      ],
      "metadata": {
        "colab": {
          "base_uri": "https://localhost:8080/"
        },
        "id": "WE2qeH_51wsU",
        "outputId": "3624044e-146b-4b61-e0fa-da1d88a88968"
      },
      "execution_count": 5,
      "outputs": [
        {
          "output_type": "execute_result",
          "data": {
            "text/plain": [
              "tensor([7, 7])"
            ]
          },
          "metadata": {},
          "execution_count": 5
        }
      ]
    },
    {
      "cell_type": "code",
      "source": [
        "vector.ndim"
      ],
      "metadata": {
        "colab": {
          "base_uri": "https://localhost:8080/"
        },
        "id": "zUgj9IVI15nI",
        "outputId": "8c9f056d-a7ca-45f7-980a-f5fccffc3222"
      },
      "execution_count": 6,
      "outputs": [
        {
          "output_type": "execute_result",
          "data": {
            "text/plain": [
              "1"
            ]
          },
          "metadata": {},
          "execution_count": 6
        }
      ]
    },
    {
      "cell_type": "code",
      "source": [
        "vector.shape"
      ],
      "metadata": {
        "colab": {
          "base_uri": "https://localhost:8080/"
        },
        "id": "kLJAFhQf17mw",
        "outputId": "3599ac8b-1868-4659-c947-974c1b1c6852"
      },
      "execution_count": 7,
      "outputs": [
        {
          "output_type": "execute_result",
          "data": {
            "text/plain": [
              "torch.Size([2])"
            ]
          },
          "metadata": {},
          "execution_count": 7
        }
      ]
    },
    {
      "cell_type": "code",
      "source": [
        "# Creating the Matrix\n",
        "MATRIX = torch.tensor([[7,8],\n",
        "                       [9,10]])\n",
        "MATRIX"
      ],
      "metadata": {
        "colab": {
          "base_uri": "https://localhost:8080/"
        },
        "id": "prDeJ1ob2BVz",
        "outputId": "74c509e2-b820-4acc-97ca-fb938a30e234"
      },
      "execution_count": 8,
      "outputs": [
        {
          "output_type": "execute_result",
          "data": {
            "text/plain": [
              "tensor([[ 7,  8],\n",
              "        [ 9, 10]])"
            ]
          },
          "metadata": {},
          "execution_count": 8
        }
      ]
    },
    {
      "cell_type": "code",
      "source": [
        "MATRIX.ndim"
      ],
      "metadata": {
        "colab": {
          "base_uri": "https://localhost:8080/"
        },
        "id": "qZ71slOo2OIY",
        "outputId": "4f49b910-bf96-446a-9755-b4624860fdfa"
      },
      "execution_count": 9,
      "outputs": [
        {
          "output_type": "execute_result",
          "data": {
            "text/plain": [
              "2"
            ]
          },
          "metadata": {},
          "execution_count": 9
        }
      ]
    },
    {
      "cell_type": "code",
      "source": [
        "MATRIX[0]"
      ],
      "metadata": {
        "colab": {
          "base_uri": "https://localhost:8080/"
        },
        "id": "LckiIdye2Vvk",
        "outputId": "33f29c58-0530-4eb5-aaf5-edda8f0d17e5"
      },
      "execution_count": 10,
      "outputs": [
        {
          "output_type": "execute_result",
          "data": {
            "text/plain": [
              "tensor([7, 8])"
            ]
          },
          "metadata": {},
          "execution_count": 10
        }
      ]
    },
    {
      "cell_type": "code",
      "source": [
        "MATRIX[1]"
      ],
      "metadata": {
        "colab": {
          "base_uri": "https://localhost:8080/"
        },
        "id": "yoqcJTfH2ck_",
        "outputId": "27e6ed39-ae84-4c0f-bd96-7eb978caa927"
      },
      "execution_count": 11,
      "outputs": [
        {
          "output_type": "execute_result",
          "data": {
            "text/plain": [
              "tensor([ 9, 10])"
            ]
          },
          "metadata": {},
          "execution_count": 11
        }
      ]
    },
    {
      "cell_type": "code",
      "source": [
        "MATRIX.shape"
      ],
      "metadata": {
        "colab": {
          "base_uri": "https://localhost:8080/"
        },
        "id": "qmA5Gy7I2df6",
        "outputId": "54d4e357-fb86-48c6-8972-191d05eae191"
      },
      "execution_count": 12,
      "outputs": [
        {
          "output_type": "execute_result",
          "data": {
            "text/plain": [
              "torch.Size([2, 2])"
            ]
          },
          "metadata": {},
          "execution_count": 12
        }
      ]
    },
    {
      "cell_type": "code",
      "source": [
        "# TENSOR\n",
        "T = torch.tensor([[[1,2,3],\n",
        "                   [4,5,6],\n",
        "                   [7,8,9]]])\n",
        "T"
      ],
      "metadata": {
        "colab": {
          "base_uri": "https://localhost:8080/"
        },
        "id": "4v9yF9312fkM",
        "outputId": "e6a1c8d1-4d31-48c8-bc3b-753752e4571d"
      },
      "execution_count": 13,
      "outputs": [
        {
          "output_type": "execute_result",
          "data": {
            "text/plain": [
              "tensor([[[1, 2, 3],\n",
              "         [4, 5, 6],\n",
              "         [7, 8, 9]]])"
            ]
          },
          "metadata": {},
          "execution_count": 13
        }
      ]
    },
    {
      "cell_type": "code",
      "source": [
        "T.ndim"
      ],
      "metadata": {
        "colab": {
          "base_uri": "https://localhost:8080/"
        },
        "id": "CdkxCh1A2tZg",
        "outputId": "379add9a-0d05-458d-a6ec-14b6a7a0a8ab"
      },
      "execution_count": 14,
      "outputs": [
        {
          "output_type": "execute_result",
          "data": {
            "text/plain": [
              "3"
            ]
          },
          "metadata": {},
          "execution_count": 14
        }
      ]
    },
    {
      "cell_type": "code",
      "source": [
        "T.shape"
      ],
      "metadata": {
        "colab": {
          "base_uri": "https://localhost:8080/"
        },
        "id": "F4XIQJ7Z20N8",
        "outputId": "6d45a327-6f31-4925-b060-86764a84e4b1"
      },
      "execution_count": 15,
      "outputs": [
        {
          "output_type": "execute_result",
          "data": {
            "text/plain": [
              "torch.Size([1, 3, 3])"
            ]
          },
          "metadata": {},
          "execution_count": 15
        }
      ]
    },
    {
      "cell_type": "code",
      "source": [
        "T[0]"
      ],
      "metadata": {
        "colab": {
          "base_uri": "https://localhost:8080/"
        },
        "id": "-32rP3Rt229r",
        "outputId": "7e7a8bff-68fc-47ac-d4fc-e08d46a499bc"
      },
      "execution_count": 16,
      "outputs": [
        {
          "output_type": "execute_result",
          "data": {
            "text/plain": [
              "tensor([[1, 2, 3],\n",
              "        [4, 5, 6],\n",
              "        [7, 8, 9]])"
            ]
          },
          "metadata": {},
          "execution_count": 16
        }
      ]
    },
    {
      "cell_type": "code",
      "source": [
        "# Generating the Random Tensor\n",
        "A = torch.rand(2,4,3,3)\n",
        "A"
      ],
      "metadata": {
        "colab": {
          "base_uri": "https://localhost:8080/"
        },
        "id": "7lTPIhNc3F9P",
        "outputId": "f55e2a78-4881-408c-9963-f7de2af1fb5b"
      },
      "execution_count": 17,
      "outputs": [
        {
          "output_type": "execute_result",
          "data": {
            "text/plain": [
              "tensor([[[[0.0229, 0.6942, 0.4168],\n",
              "          [0.7515, 0.4683, 0.3074],\n",
              "          [0.3539, 0.2892, 0.2200]],\n",
              "\n",
              "         [[0.4296, 0.5479, 0.0062],\n",
              "          [0.0171, 0.3266, 0.7629],\n",
              "          [0.1819, 0.1393, 0.5410]],\n",
              "\n",
              "         [[0.6567, 0.7633, 0.8096],\n",
              "          [0.6389, 0.2824, 0.2708],\n",
              "          [0.6895, 0.8540, 0.4130]],\n",
              "\n",
              "         [[0.9730, 0.5877, 0.1450],\n",
              "          [0.7232, 0.9593, 0.3634],\n",
              "          [0.1488, 0.1228, 0.4877]]],\n",
              "\n",
              "\n",
              "        [[[0.9065, 0.7158, 0.4320],\n",
              "          [0.7462, 0.0283, 0.4065],\n",
              "          [0.5375, 0.8820, 0.5465]],\n",
              "\n",
              "         [[0.5291, 0.8500, 0.6323],\n",
              "          [0.9086, 0.1363, 0.6540],\n",
              "          [0.8734, 0.2745, 0.9666]],\n",
              "\n",
              "         [[0.2097, 0.0530, 0.0732],\n",
              "          [0.6618, 0.4827, 0.1496],\n",
              "          [0.9994, 0.2555, 0.3963]],\n",
              "\n",
              "         [[0.2450, 0.2363, 0.2484],\n",
              "          [0.8016, 0.0242, 0.5511],\n",
              "          [0.3930, 0.1269, 0.6422]]]])"
            ]
          },
          "metadata": {},
          "execution_count": 17
        }
      ]
    },
    {
      "cell_type": "code",
      "source": [
        "A.ndim"
      ],
      "metadata": {
        "colab": {
          "base_uri": "https://localhost:8080/"
        },
        "id": "0B7fhlgm6InJ",
        "outputId": "63e2ae5f-0809-45fb-edfa-7e43d817d459"
      },
      "execution_count": 18,
      "outputs": [
        {
          "output_type": "execute_result",
          "data": {
            "text/plain": [
              "4"
            ]
          },
          "metadata": {},
          "execution_count": 18
        }
      ]
    },
    {
      "cell_type": "code",
      "source": [
        "A.shape"
      ],
      "metadata": {
        "colab": {
          "base_uri": "https://localhost:8080/"
        },
        "id": "GnI5reKj6NXf",
        "outputId": "0fa52b0e-2d92-4dc6-8808-4f923c2b4e85"
      },
      "execution_count": 19,
      "outputs": [
        {
          "output_type": "execute_result",
          "data": {
            "text/plain": [
              "torch.Size([2, 4, 3, 3])"
            ]
          },
          "metadata": {},
          "execution_count": 19
        }
      ]
    },
    {
      "cell_type": "code",
      "source": [
        "# Using arange function to generate Random Tensors\n",
        "B = torch.arange(0,360,1).reshape(4, 3, 2, 5, 3)\n",
        "print(B)\n",
        "print(B.shape)"
      ],
      "metadata": {
        "colab": {
          "base_uri": "https://localhost:8080/"
        },
        "id": "zKU0hDW2-Eom",
        "outputId": "ebbbe3fc-e4bf-4534-e8d1-5cbdb901b186"
      },
      "execution_count": 20,
      "outputs": [
        {
          "output_type": "stream",
          "name": "stdout",
          "text": [
            "tensor([[[[[  0,   1,   2],\n",
            "           [  3,   4,   5],\n",
            "           [  6,   7,   8],\n",
            "           [  9,  10,  11],\n",
            "           [ 12,  13,  14]],\n",
            "\n",
            "          [[ 15,  16,  17],\n",
            "           [ 18,  19,  20],\n",
            "           [ 21,  22,  23],\n",
            "           [ 24,  25,  26],\n",
            "           [ 27,  28,  29]]],\n",
            "\n",
            "\n",
            "         [[[ 30,  31,  32],\n",
            "           [ 33,  34,  35],\n",
            "           [ 36,  37,  38],\n",
            "           [ 39,  40,  41],\n",
            "           [ 42,  43,  44]],\n",
            "\n",
            "          [[ 45,  46,  47],\n",
            "           [ 48,  49,  50],\n",
            "           [ 51,  52,  53],\n",
            "           [ 54,  55,  56],\n",
            "           [ 57,  58,  59]]],\n",
            "\n",
            "\n",
            "         [[[ 60,  61,  62],\n",
            "           [ 63,  64,  65],\n",
            "           [ 66,  67,  68],\n",
            "           [ 69,  70,  71],\n",
            "           [ 72,  73,  74]],\n",
            "\n",
            "          [[ 75,  76,  77],\n",
            "           [ 78,  79,  80],\n",
            "           [ 81,  82,  83],\n",
            "           [ 84,  85,  86],\n",
            "           [ 87,  88,  89]]]],\n",
            "\n",
            "\n",
            "\n",
            "        [[[[ 90,  91,  92],\n",
            "           [ 93,  94,  95],\n",
            "           [ 96,  97,  98],\n",
            "           [ 99, 100, 101],\n",
            "           [102, 103, 104]],\n",
            "\n",
            "          [[105, 106, 107],\n",
            "           [108, 109, 110],\n",
            "           [111, 112, 113],\n",
            "           [114, 115, 116],\n",
            "           [117, 118, 119]]],\n",
            "\n",
            "\n",
            "         [[[120, 121, 122],\n",
            "           [123, 124, 125],\n",
            "           [126, 127, 128],\n",
            "           [129, 130, 131],\n",
            "           [132, 133, 134]],\n",
            "\n",
            "          [[135, 136, 137],\n",
            "           [138, 139, 140],\n",
            "           [141, 142, 143],\n",
            "           [144, 145, 146],\n",
            "           [147, 148, 149]]],\n",
            "\n",
            "\n",
            "         [[[150, 151, 152],\n",
            "           [153, 154, 155],\n",
            "           [156, 157, 158],\n",
            "           [159, 160, 161],\n",
            "           [162, 163, 164]],\n",
            "\n",
            "          [[165, 166, 167],\n",
            "           [168, 169, 170],\n",
            "           [171, 172, 173],\n",
            "           [174, 175, 176],\n",
            "           [177, 178, 179]]]],\n",
            "\n",
            "\n",
            "\n",
            "        [[[[180, 181, 182],\n",
            "           [183, 184, 185],\n",
            "           [186, 187, 188],\n",
            "           [189, 190, 191],\n",
            "           [192, 193, 194]],\n",
            "\n",
            "          [[195, 196, 197],\n",
            "           [198, 199, 200],\n",
            "           [201, 202, 203],\n",
            "           [204, 205, 206],\n",
            "           [207, 208, 209]]],\n",
            "\n",
            "\n",
            "         [[[210, 211, 212],\n",
            "           [213, 214, 215],\n",
            "           [216, 217, 218],\n",
            "           [219, 220, 221],\n",
            "           [222, 223, 224]],\n",
            "\n",
            "          [[225, 226, 227],\n",
            "           [228, 229, 230],\n",
            "           [231, 232, 233],\n",
            "           [234, 235, 236],\n",
            "           [237, 238, 239]]],\n",
            "\n",
            "\n",
            "         [[[240, 241, 242],\n",
            "           [243, 244, 245],\n",
            "           [246, 247, 248],\n",
            "           [249, 250, 251],\n",
            "           [252, 253, 254]],\n",
            "\n",
            "          [[255, 256, 257],\n",
            "           [258, 259, 260],\n",
            "           [261, 262, 263],\n",
            "           [264, 265, 266],\n",
            "           [267, 268, 269]]]],\n",
            "\n",
            "\n",
            "\n",
            "        [[[[270, 271, 272],\n",
            "           [273, 274, 275],\n",
            "           [276, 277, 278],\n",
            "           [279, 280, 281],\n",
            "           [282, 283, 284]],\n",
            "\n",
            "          [[285, 286, 287],\n",
            "           [288, 289, 290],\n",
            "           [291, 292, 293],\n",
            "           [294, 295, 296],\n",
            "           [297, 298, 299]]],\n",
            "\n",
            "\n",
            "         [[[300, 301, 302],\n",
            "           [303, 304, 305],\n",
            "           [306, 307, 308],\n",
            "           [309, 310, 311],\n",
            "           [312, 313, 314]],\n",
            "\n",
            "          [[315, 316, 317],\n",
            "           [318, 319, 320],\n",
            "           [321, 322, 323],\n",
            "           [324, 325, 326],\n",
            "           [327, 328, 329]]],\n",
            "\n",
            "\n",
            "         [[[330, 331, 332],\n",
            "           [333, 334, 335],\n",
            "           [336, 337, 338],\n",
            "           [339, 340, 341],\n",
            "           [342, 343, 344]],\n",
            "\n",
            "          [[345, 346, 347],\n",
            "           [348, 349, 350],\n",
            "           [351, 352, 353],\n",
            "           [354, 355, 356],\n",
            "           [357, 358, 359]]]]])\n",
            "torch.Size([4, 3, 2, 5, 3])\n"
          ]
        }
      ]
    },
    {
      "cell_type": "code",
      "source": [
        "# Another way of Generating Tensor\n",
        "C = torch.tensor(\n",
        "    [[[[i + j + k + l for l in range(4)]\n",
        "       for k in range(3)]\n",
        "       for j in range(3)]\n",
        "       for i in range(2)]\n",
        ")\n",
        "\n",
        "print(C)\n",
        "print(C.shape)\n"
      ],
      "metadata": {
        "colab": {
          "base_uri": "https://localhost:8080/"
        },
        "id": "hZfKfXZb8a5r",
        "outputId": "2e43452a-35c7-4114-b123-313818a18897"
      },
      "execution_count": 21,
      "outputs": [
        {
          "output_type": "stream",
          "name": "stdout",
          "text": [
            "tensor([[[[0, 1, 2, 3],\n",
            "          [1, 2, 3, 4],\n",
            "          [2, 3, 4, 5]],\n",
            "\n",
            "         [[1, 2, 3, 4],\n",
            "          [2, 3, 4, 5],\n",
            "          [3, 4, 5, 6]],\n",
            "\n",
            "         [[2, 3, 4, 5],\n",
            "          [3, 4, 5, 6],\n",
            "          [4, 5, 6, 7]]],\n",
            "\n",
            "\n",
            "        [[[1, 2, 3, 4],\n",
            "          [2, 3, 4, 5],\n",
            "          [3, 4, 5, 6]],\n",
            "\n",
            "         [[2, 3, 4, 5],\n",
            "          [3, 4, 5, 6],\n",
            "          [4, 5, 6, 7]],\n",
            "\n",
            "         [[3, 4, 5, 6],\n",
            "          [4, 5, 6, 7],\n",
            "          [5, 6, 7, 8]]]])\n",
            "torch.Size([2, 3, 3, 4])\n"
          ]
        }
      ]
    }
  ]
}