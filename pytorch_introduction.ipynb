{
  "nbformat": 4,
  "nbformat_minor": 0,
  "metadata": {
    "colab": {
      "provenance": [],
      "toc_visible": true
    },
    "kernelspec": {
      "name": "python3",
      "display_name": "Python 3"
    },
    "language_info": {
      "name": "python"
    }
  },
  "cells": [
    {
      "cell_type": "code",
      "execution_count": 1,
      "metadata": {
        "colab": {
          "base_uri": "https://localhost:8080/"
        },
        "id": "cidEYuAjz61H",
        "outputId": "71d109b7-e825-48fe-ccec-9571b992eb16"
      },
      "outputs": [
        {
          "output_type": "stream",
          "name": "stdout",
          "text": [
            "2.8.0+cu126\n"
          ]
        }
      ],
      "source": [
        "import torch\n",
        "import pandas as pd\n",
        "import numpy as np\n",
        "import matplotlib.pyplot as plt\n",
        "import random\n",
        "\n",
        "print(torch.__version__)"
      ]
    },
    {
      "cell_type": "code",
      "source": [
        "# Creating a Tensor\n",
        "scalar = torch.tensor(7)\n",
        "scalar"
      ],
      "metadata": {
        "colab": {
          "base_uri": "https://localhost:8080/"
        },
        "id": "QTNID2jy0rns",
        "outputId": "c5beb01c-63d0-4b88-ff5f-e71c5945f2c5"
      },
      "execution_count": 2,
      "outputs": [
        {
          "output_type": "execute_result",
          "data": {
            "text/plain": [
              "tensor(7)"
            ]
          },
          "metadata": {},
          "execution_count": 2
        }
      ]
    },
    {
      "cell_type": "code",
      "source": [
        "scalar.ndim"
      ],
      "metadata": {
        "colab": {
          "base_uri": "https://localhost:8080/"
        },
        "id": "ccAtUmB6037o",
        "outputId": "f093b3df-f733-4320-8515-2717f55f008f"
      },
      "execution_count": 3,
      "outputs": [
        {
          "output_type": "execute_result",
          "data": {
            "text/plain": [
              "0"
            ]
          },
          "metadata": {},
          "execution_count": 3
        }
      ]
    },
    {
      "cell_type": "code",
      "source": [
        "# Getting tensor back as Python item\n",
        "scalar.item()"
      ],
      "metadata": {
        "colab": {
          "base_uri": "https://localhost:8080/"
        },
        "id": "5ktSeLwh1U2P",
        "outputId": "98cf2fd2-bb05-4930-8fc8-b8f4b15efc29"
      },
      "execution_count": 4,
      "outputs": [
        {
          "output_type": "execute_result",
          "data": {
            "text/plain": [
              "7"
            ]
          },
          "metadata": {},
          "execution_count": 4
        }
      ]
    },
    {
      "cell_type": "code",
      "source": [
        "# Creating the Vector\n",
        "vector = torch.tensor([7,7])\n",
        "vector"
      ],
      "metadata": {
        "colab": {
          "base_uri": "https://localhost:8080/"
        },
        "id": "WE2qeH_51wsU",
        "outputId": "d6f57ada-2bf1-49a3-ef5a-67648cac3479"
      },
      "execution_count": 5,
      "outputs": [
        {
          "output_type": "execute_result",
          "data": {
            "text/plain": [
              "tensor([7, 7])"
            ]
          },
          "metadata": {},
          "execution_count": 5
        }
      ]
    },
    {
      "cell_type": "code",
      "source": [
        "vector.ndim"
      ],
      "metadata": {
        "colab": {
          "base_uri": "https://localhost:8080/"
        },
        "id": "zUgj9IVI15nI",
        "outputId": "195f7d16-efc7-4f2c-9a02-b154c7993a40"
      },
      "execution_count": 6,
      "outputs": [
        {
          "output_type": "execute_result",
          "data": {
            "text/plain": [
              "1"
            ]
          },
          "metadata": {},
          "execution_count": 6
        }
      ]
    },
    {
      "cell_type": "code",
      "source": [
        "vector.shape"
      ],
      "metadata": {
        "colab": {
          "base_uri": "https://localhost:8080/"
        },
        "id": "kLJAFhQf17mw",
        "outputId": "08194036-b1a9-4348-e397-8f75f2d57ec7"
      },
      "execution_count": 7,
      "outputs": [
        {
          "output_type": "execute_result",
          "data": {
            "text/plain": [
              "torch.Size([2])"
            ]
          },
          "metadata": {},
          "execution_count": 7
        }
      ]
    },
    {
      "cell_type": "code",
      "source": [
        "# Creating the Matrix\n",
        "MATRIX = torch.tensor([[7,8],\n",
        "                       [9,10]])\n",
        "MATRIX"
      ],
      "metadata": {
        "colab": {
          "base_uri": "https://localhost:8080/"
        },
        "id": "prDeJ1ob2BVz",
        "outputId": "d060cb63-388d-4da1-bcf4-01fedfe1d1e5"
      },
      "execution_count": 8,
      "outputs": [
        {
          "output_type": "execute_result",
          "data": {
            "text/plain": [
              "tensor([[ 7,  8],\n",
              "        [ 9, 10]])"
            ]
          },
          "metadata": {},
          "execution_count": 8
        }
      ]
    },
    {
      "cell_type": "code",
      "source": [
        "MATRIX.ndim"
      ],
      "metadata": {
        "colab": {
          "base_uri": "https://localhost:8080/"
        },
        "id": "qZ71slOo2OIY",
        "outputId": "0a88c1f8-4754-4229-b218-08165f0b2f41"
      },
      "execution_count": 9,
      "outputs": [
        {
          "output_type": "execute_result",
          "data": {
            "text/plain": [
              "2"
            ]
          },
          "metadata": {},
          "execution_count": 9
        }
      ]
    },
    {
      "cell_type": "code",
      "source": [
        "MATRIX[0]"
      ],
      "metadata": {
        "colab": {
          "base_uri": "https://localhost:8080/"
        },
        "id": "LckiIdye2Vvk",
        "outputId": "a446375b-e7d7-40df-8d74-7fe7a845bcae"
      },
      "execution_count": 10,
      "outputs": [
        {
          "output_type": "execute_result",
          "data": {
            "text/plain": [
              "tensor([7, 8])"
            ]
          },
          "metadata": {},
          "execution_count": 10
        }
      ]
    },
    {
      "cell_type": "code",
      "source": [
        "MATRIX[1]"
      ],
      "metadata": {
        "colab": {
          "base_uri": "https://localhost:8080/"
        },
        "id": "yoqcJTfH2ck_",
        "outputId": "dbeec2c7-7cfe-486a-bd31-f072c733b397"
      },
      "execution_count": 11,
      "outputs": [
        {
          "output_type": "execute_result",
          "data": {
            "text/plain": [
              "tensor([ 9, 10])"
            ]
          },
          "metadata": {},
          "execution_count": 11
        }
      ]
    },
    {
      "cell_type": "code",
      "source": [
        "MATRIX.shape"
      ],
      "metadata": {
        "colab": {
          "base_uri": "https://localhost:8080/"
        },
        "id": "qmA5Gy7I2df6",
        "outputId": "8d371b6b-be13-4d1c-be7b-58ae1f7999eb"
      },
      "execution_count": 12,
      "outputs": [
        {
          "output_type": "execute_result",
          "data": {
            "text/plain": [
              "torch.Size([2, 2])"
            ]
          },
          "metadata": {},
          "execution_count": 12
        }
      ]
    },
    {
      "cell_type": "code",
      "source": [
        "# TENSOR\n",
        "T = torch.tensor([[[1,2,3],\n",
        "                   [4,5,6],\n",
        "                   [7,8,9]]])\n",
        "T"
      ],
      "metadata": {
        "colab": {
          "base_uri": "https://localhost:8080/"
        },
        "id": "4v9yF9312fkM",
        "outputId": "080b8795-cef5-4118-f200-f70f1d2840b8"
      },
      "execution_count": 13,
      "outputs": [
        {
          "output_type": "execute_result",
          "data": {
            "text/plain": [
              "tensor([[[1, 2, 3],\n",
              "         [4, 5, 6],\n",
              "         [7, 8, 9]]])"
            ]
          },
          "metadata": {},
          "execution_count": 13
        }
      ]
    },
    {
      "cell_type": "code",
      "source": [
        "T.ndim"
      ],
      "metadata": {
        "colab": {
          "base_uri": "https://localhost:8080/"
        },
        "id": "CdkxCh1A2tZg",
        "outputId": "6045d88d-a59b-4931-e0c7-2b807fcabe1f"
      },
      "execution_count": 14,
      "outputs": [
        {
          "output_type": "execute_result",
          "data": {
            "text/plain": [
              "3"
            ]
          },
          "metadata": {},
          "execution_count": 14
        }
      ]
    },
    {
      "cell_type": "code",
      "source": [
        "T.shape"
      ],
      "metadata": {
        "colab": {
          "base_uri": "https://localhost:8080/"
        },
        "id": "F4XIQJ7Z20N8",
        "outputId": "d63f79ec-2940-4f27-ae74-2462e5c4f638"
      },
      "execution_count": 15,
      "outputs": [
        {
          "output_type": "execute_result",
          "data": {
            "text/plain": [
              "torch.Size([1, 3, 3])"
            ]
          },
          "metadata": {},
          "execution_count": 15
        }
      ]
    },
    {
      "cell_type": "code",
      "source": [
        "T[0]"
      ],
      "metadata": {
        "colab": {
          "base_uri": "https://localhost:8080/"
        },
        "id": "-32rP3Rt229r",
        "outputId": "44165784-bf5f-4e69-dcad-717a0d723c87"
      },
      "execution_count": 16,
      "outputs": [
        {
          "output_type": "execute_result",
          "data": {
            "text/plain": [
              "tensor([[1, 2, 3],\n",
              "        [4, 5, 6],\n",
              "        [7, 8, 9]])"
            ]
          },
          "metadata": {},
          "execution_count": 16
        }
      ]
    },
    {
      "cell_type": "code",
      "source": [
        "# Generating the Random Tensor\n",
        "A = torch.rand(2,4,3,3)\n",
        "A"
      ],
      "metadata": {
        "colab": {
          "base_uri": "https://localhost:8080/"
        },
        "id": "7lTPIhNc3F9P",
        "outputId": "ff596f31-2d69-41ea-a678-454ba72ebebf"
      },
      "execution_count": 17,
      "outputs": [
        {
          "output_type": "execute_result",
          "data": {
            "text/plain": [
              "tensor([[[[0.9477, 0.9960, 0.6090],\n",
              "          [0.8050, 0.7896, 0.0627],\n",
              "          [0.5048, 0.1254, 0.6732]],\n",
              "\n",
              "         [[0.6942, 0.7906, 0.0625],\n",
              "          [0.6337, 0.0090, 0.3814],\n",
              "          [0.3131, 0.6457, 0.7087]],\n",
              "\n",
              "         [[0.9788, 0.3452, 0.9262],\n",
              "          [0.9076, 0.6426, 0.0621],\n",
              "          [0.9345, 0.9792, 0.9536]],\n",
              "\n",
              "         [[0.7652, 0.3324, 0.6622],\n",
              "          [0.4776, 0.7970, 0.6278],\n",
              "          [0.3802, 0.9535, 0.7630]]],\n",
              "\n",
              "\n",
              "        [[[0.3770, 0.0466, 0.8549],\n",
              "          [0.5815, 0.6799, 0.0668],\n",
              "          [0.1403, 0.4532, 0.6303]],\n",
              "\n",
              "         [[0.9378, 0.5534, 0.1581],\n",
              "          [0.6415, 0.7400, 0.6141],\n",
              "          [0.5991, 0.4136, 0.8161]],\n",
              "\n",
              "         [[0.4277, 0.6672, 0.7045],\n",
              "          [0.7548, 0.7327, 0.1253],\n",
              "          [0.3487, 0.8647, 0.5465]],\n",
              "\n",
              "         [[0.5401, 0.1619, 0.8832],\n",
              "          [0.6939, 0.2736, 0.1811],\n",
              "          [0.5722, 0.9315, 0.8921]]]])"
            ]
          },
          "metadata": {},
          "execution_count": 17
        }
      ]
    },
    {
      "cell_type": "code",
      "source": [
        "A.ndim"
      ],
      "metadata": {
        "colab": {
          "base_uri": "https://localhost:8080/"
        },
        "id": "0B7fhlgm6InJ",
        "outputId": "fad6fdbc-d328-47ea-f567-c8093cd0d948"
      },
      "execution_count": 18,
      "outputs": [
        {
          "output_type": "execute_result",
          "data": {
            "text/plain": [
              "4"
            ]
          },
          "metadata": {},
          "execution_count": 18
        }
      ]
    },
    {
      "cell_type": "code",
      "source": [
        "A.shape"
      ],
      "metadata": {
        "colab": {
          "base_uri": "https://localhost:8080/"
        },
        "id": "GnI5reKj6NXf",
        "outputId": "33d593ee-5e87-47d3-93c4-36352a43f0ce"
      },
      "execution_count": 19,
      "outputs": [
        {
          "output_type": "execute_result",
          "data": {
            "text/plain": [
              "torch.Size([2, 4, 3, 3])"
            ]
          },
          "metadata": {},
          "execution_count": 19
        }
      ]
    },
    {
      "cell_type": "code",
      "source": [
        "# Using arange function to generate Random Tensors\n",
        "B = torch.arange(0,360,1).reshape(4, 3, 2, 5, 3)\n",
        "print(B)\n",
        "print(B.shape)"
      ],
      "metadata": {
        "colab": {
          "base_uri": "https://localhost:8080/"
        },
        "id": "zKU0hDW2-Eom",
        "outputId": "972fd5a3-30d9-4df3-e39d-f07180b85d58"
      },
      "execution_count": 20,
      "outputs": [
        {
          "output_type": "stream",
          "name": "stdout",
          "text": [
            "tensor([[[[[  0,   1,   2],\n",
            "           [  3,   4,   5],\n",
            "           [  6,   7,   8],\n",
            "           [  9,  10,  11],\n",
            "           [ 12,  13,  14]],\n",
            "\n",
            "          [[ 15,  16,  17],\n",
            "           [ 18,  19,  20],\n",
            "           [ 21,  22,  23],\n",
            "           [ 24,  25,  26],\n",
            "           [ 27,  28,  29]]],\n",
            "\n",
            "\n",
            "         [[[ 30,  31,  32],\n",
            "           [ 33,  34,  35],\n",
            "           [ 36,  37,  38],\n",
            "           [ 39,  40,  41],\n",
            "           [ 42,  43,  44]],\n",
            "\n",
            "          [[ 45,  46,  47],\n",
            "           [ 48,  49,  50],\n",
            "           [ 51,  52,  53],\n",
            "           [ 54,  55,  56],\n",
            "           [ 57,  58,  59]]],\n",
            "\n",
            "\n",
            "         [[[ 60,  61,  62],\n",
            "           [ 63,  64,  65],\n",
            "           [ 66,  67,  68],\n",
            "           [ 69,  70,  71],\n",
            "           [ 72,  73,  74]],\n",
            "\n",
            "          [[ 75,  76,  77],\n",
            "           [ 78,  79,  80],\n",
            "           [ 81,  82,  83],\n",
            "           [ 84,  85,  86],\n",
            "           [ 87,  88,  89]]]],\n",
            "\n",
            "\n",
            "\n",
            "        [[[[ 90,  91,  92],\n",
            "           [ 93,  94,  95],\n",
            "           [ 96,  97,  98],\n",
            "           [ 99, 100, 101],\n",
            "           [102, 103, 104]],\n",
            "\n",
            "          [[105, 106, 107],\n",
            "           [108, 109, 110],\n",
            "           [111, 112, 113],\n",
            "           [114, 115, 116],\n",
            "           [117, 118, 119]]],\n",
            "\n",
            "\n",
            "         [[[120, 121, 122],\n",
            "           [123, 124, 125],\n",
            "           [126, 127, 128],\n",
            "           [129, 130, 131],\n",
            "           [132, 133, 134]],\n",
            "\n",
            "          [[135, 136, 137],\n",
            "           [138, 139, 140],\n",
            "           [141, 142, 143],\n",
            "           [144, 145, 146],\n",
            "           [147, 148, 149]]],\n",
            "\n",
            "\n",
            "         [[[150, 151, 152],\n",
            "           [153, 154, 155],\n",
            "           [156, 157, 158],\n",
            "           [159, 160, 161],\n",
            "           [162, 163, 164]],\n",
            "\n",
            "          [[165, 166, 167],\n",
            "           [168, 169, 170],\n",
            "           [171, 172, 173],\n",
            "           [174, 175, 176],\n",
            "           [177, 178, 179]]]],\n",
            "\n",
            "\n",
            "\n",
            "        [[[[180, 181, 182],\n",
            "           [183, 184, 185],\n",
            "           [186, 187, 188],\n",
            "           [189, 190, 191],\n",
            "           [192, 193, 194]],\n",
            "\n",
            "          [[195, 196, 197],\n",
            "           [198, 199, 200],\n",
            "           [201, 202, 203],\n",
            "           [204, 205, 206],\n",
            "           [207, 208, 209]]],\n",
            "\n",
            "\n",
            "         [[[210, 211, 212],\n",
            "           [213, 214, 215],\n",
            "           [216, 217, 218],\n",
            "           [219, 220, 221],\n",
            "           [222, 223, 224]],\n",
            "\n",
            "          [[225, 226, 227],\n",
            "           [228, 229, 230],\n",
            "           [231, 232, 233],\n",
            "           [234, 235, 236],\n",
            "           [237, 238, 239]]],\n",
            "\n",
            "\n",
            "         [[[240, 241, 242],\n",
            "           [243, 244, 245],\n",
            "           [246, 247, 248],\n",
            "           [249, 250, 251],\n",
            "           [252, 253, 254]],\n",
            "\n",
            "          [[255, 256, 257],\n",
            "           [258, 259, 260],\n",
            "           [261, 262, 263],\n",
            "           [264, 265, 266],\n",
            "           [267, 268, 269]]]],\n",
            "\n",
            "\n",
            "\n",
            "        [[[[270, 271, 272],\n",
            "           [273, 274, 275],\n",
            "           [276, 277, 278],\n",
            "           [279, 280, 281],\n",
            "           [282, 283, 284]],\n",
            "\n",
            "          [[285, 286, 287],\n",
            "           [288, 289, 290],\n",
            "           [291, 292, 293],\n",
            "           [294, 295, 296],\n",
            "           [297, 298, 299]]],\n",
            "\n",
            "\n",
            "         [[[300, 301, 302],\n",
            "           [303, 304, 305],\n",
            "           [306, 307, 308],\n",
            "           [309, 310, 311],\n",
            "           [312, 313, 314]],\n",
            "\n",
            "          [[315, 316, 317],\n",
            "           [318, 319, 320],\n",
            "           [321, 322, 323],\n",
            "           [324, 325, 326],\n",
            "           [327, 328, 329]]],\n",
            "\n",
            "\n",
            "         [[[330, 331, 332],\n",
            "           [333, 334, 335],\n",
            "           [336, 337, 338],\n",
            "           [339, 340, 341],\n",
            "           [342, 343, 344]],\n",
            "\n",
            "          [[345, 346, 347],\n",
            "           [348, 349, 350],\n",
            "           [351, 352, 353],\n",
            "           [354, 355, 356],\n",
            "           [357, 358, 359]]]]])\n",
            "torch.Size([4, 3, 2, 5, 3])\n"
          ]
        }
      ]
    },
    {
      "cell_type": "code",
      "source": [
        "# Another way of Generating Tensor\n",
        "C = torch.tensor(\n",
        "    [[[[i + j + k + l for l in range(4)]\n",
        "       for k in range(3)]\n",
        "       for j in range(3)]\n",
        "       for i in range(1)]\n",
        ")\n",
        "\n",
        "print(C)\n",
        "print(C.shape)\n"
      ],
      "metadata": {
        "colab": {
          "base_uri": "https://localhost:8080/"
        },
        "id": "hZfKfXZb8a5r",
        "outputId": "d6be15b3-faa7-49cf-a5d9-b4809221eb92"
      },
      "execution_count": 21,
      "outputs": [
        {
          "output_type": "stream",
          "name": "stdout",
          "text": [
            "tensor([[[[0, 1, 2, 3],\n",
            "          [1, 2, 3, 4],\n",
            "          [2, 3, 4, 5]],\n",
            "\n",
            "         [[1, 2, 3, 4],\n",
            "          [2, 3, 4, 5],\n",
            "          [3, 4, 5, 6]],\n",
            "\n",
            "         [[2, 3, 4, 5],\n",
            "          [3, 4, 5, 6],\n",
            "          [4, 5, 6, 7]]]])\n",
            "torch.Size([1, 3, 3, 4])\n"
          ]
        }
      ]
    },
    {
      "cell_type": "markdown",
      "source": [
        "## Creating Tensors with Zeroes and Ones"
      ],
      "metadata": {
        "id": "gWhxBNcaOrUf"
      }
    },
    {
      "cell_type": "code",
      "source": [
        "zeroes = torch.zeros(3, 3, 4)\n",
        "zeroes"
      ],
      "metadata": {
        "colab": {
          "base_uri": "https://localhost:8080/"
        },
        "id": "PTkxdgdmOd3C",
        "outputId": "b4e34c91-d549-4c66-effc-681961f4913a"
      },
      "execution_count": 22,
      "outputs": [
        {
          "output_type": "execute_result",
          "data": {
            "text/plain": [
              "tensor([[[0., 0., 0., 0.],\n",
              "         [0., 0., 0., 0.],\n",
              "         [0., 0., 0., 0.]],\n",
              "\n",
              "        [[0., 0., 0., 0.],\n",
              "         [0., 0., 0., 0.],\n",
              "         [0., 0., 0., 0.]],\n",
              "\n",
              "        [[0., 0., 0., 0.],\n",
              "         [0., 0., 0., 0.],\n",
              "         [0., 0., 0., 0.]]])"
            ]
          },
          "metadata": {},
          "execution_count": 22
        }
      ]
    },
    {
      "cell_type": "code",
      "source": [
        "zeroes * C"
      ],
      "metadata": {
        "colab": {
          "base_uri": "https://localhost:8080/"
        },
        "id": "NlyK_HtwOdz5",
        "outputId": "1b42f45f-0c43-42f0-e5f2-9707a9ed3c9d"
      },
      "execution_count": 23,
      "outputs": [
        {
          "output_type": "execute_result",
          "data": {
            "text/plain": [
              "tensor([[[[0., 0., 0., 0.],\n",
              "          [0., 0., 0., 0.],\n",
              "          [0., 0., 0., 0.]],\n",
              "\n",
              "         [[0., 0., 0., 0.],\n",
              "          [0., 0., 0., 0.],\n",
              "          [0., 0., 0., 0.]],\n",
              "\n",
              "         [[0., 0., 0., 0.],\n",
              "          [0., 0., 0., 0.],\n",
              "          [0., 0., 0., 0.]]]])"
            ]
          },
          "metadata": {},
          "execution_count": 23
        }
      ]
    },
    {
      "cell_type": "code",
      "source": [
        "ones = torch.ones(3, 3, 4)\n",
        "ones"
      ],
      "metadata": {
        "colab": {
          "base_uri": "https://localhost:8080/"
        },
        "id": "COj1VW-_OdwB",
        "outputId": "121443ee-1582-436f-b98d-d3755dbae9e5"
      },
      "execution_count": 24,
      "outputs": [
        {
          "output_type": "execute_result",
          "data": {
            "text/plain": [
              "tensor([[[1., 1., 1., 1.],\n",
              "         [1., 1., 1., 1.],\n",
              "         [1., 1., 1., 1.]],\n",
              "\n",
              "        [[1., 1., 1., 1.],\n",
              "         [1., 1., 1., 1.],\n",
              "         [1., 1., 1., 1.]],\n",
              "\n",
              "        [[1., 1., 1., 1.],\n",
              "         [1., 1., 1., 1.],\n",
              "         [1., 1., 1., 1.]]])"
            ]
          },
          "metadata": {},
          "execution_count": 24
        }
      ]
    },
    {
      "cell_type": "code",
      "source": [
        "print(ones.ndim)\n",
        "print(ones.shape)\n",
        "print(ones.dtype)"
      ],
      "metadata": {
        "colab": {
          "base_uri": "https://localhost:8080/"
        },
        "id": "rlIbyDaiOdrg",
        "outputId": "4296af06-754f-46cb-8ed9-857d83074305"
      },
      "execution_count": 25,
      "outputs": [
        {
          "output_type": "stream",
          "name": "stdout",
          "text": [
            "3\n",
            "torch.Size([3, 3, 4])\n",
            "torch.float32\n"
          ]
        }
      ]
    },
    {
      "cell_type": "markdown",
      "source": [
        "## Creating Tensors like other Tensors"
      ],
      "metadata": {
        "id": "Zapb9RrKQ72x"
      }
    },
    {
      "cell_type": "code",
      "source": [
        "# It will create the same shape tensor like the given tensor, we can fill it up with ones or zeros.\n",
        "CT = torch.ones_like(input=A)\n",
        "CT"
      ],
      "metadata": {
        "colab": {
          "base_uri": "https://localhost:8080/"
        },
        "id": "6Udfyv96OdoH",
        "outputId": "d0d43672-9e2b-4c33-b7a6-b531c5475c71"
      },
      "execution_count": 26,
      "outputs": [
        {
          "output_type": "execute_result",
          "data": {
            "text/plain": [
              "tensor([[[[1., 1., 1.],\n",
              "          [1., 1., 1.],\n",
              "          [1., 1., 1.]],\n",
              "\n",
              "         [[1., 1., 1.],\n",
              "          [1., 1., 1.],\n",
              "          [1., 1., 1.]],\n",
              "\n",
              "         [[1., 1., 1.],\n",
              "          [1., 1., 1.],\n",
              "          [1., 1., 1.]],\n",
              "\n",
              "         [[1., 1., 1.],\n",
              "          [1., 1., 1.],\n",
              "          [1., 1., 1.]]],\n",
              "\n",
              "\n",
              "        [[[1., 1., 1.],\n",
              "          [1., 1., 1.],\n",
              "          [1., 1., 1.]],\n",
              "\n",
              "         [[1., 1., 1.],\n",
              "          [1., 1., 1.],\n",
              "          [1., 1., 1.]],\n",
              "\n",
              "         [[1., 1., 1.],\n",
              "          [1., 1., 1.],\n",
              "          [1., 1., 1.]],\n",
              "\n",
              "         [[1., 1., 1.],\n",
              "          [1., 1., 1.],\n",
              "          [1., 1., 1.]]]])"
            ]
          },
          "metadata": {},
          "execution_count": 26
        }
      ]
    },
    {
      "cell_type": "code",
      "source": [
        "CT = torch.zeros_like(input=A)\n",
        "CT"
      ],
      "metadata": {
        "colab": {
          "base_uri": "https://localhost:8080/"
        },
        "id": "g6yM_95ZOdj-",
        "outputId": "11b8517c-ea8d-4cf0-8637-8c22cd626625"
      },
      "execution_count": 27,
      "outputs": [
        {
          "output_type": "execute_result",
          "data": {
            "text/plain": [
              "tensor([[[[0., 0., 0.],\n",
              "          [0., 0., 0.],\n",
              "          [0., 0., 0.]],\n",
              "\n",
              "         [[0., 0., 0.],\n",
              "          [0., 0., 0.],\n",
              "          [0., 0., 0.]],\n",
              "\n",
              "         [[0., 0., 0.],\n",
              "          [0., 0., 0.],\n",
              "          [0., 0., 0.]],\n",
              "\n",
              "         [[0., 0., 0.],\n",
              "          [0., 0., 0.],\n",
              "          [0., 0., 0.]]],\n",
              "\n",
              "\n",
              "        [[[0., 0., 0.],\n",
              "          [0., 0., 0.],\n",
              "          [0., 0., 0.]],\n",
              "\n",
              "         [[0., 0., 0.],\n",
              "          [0., 0., 0.],\n",
              "          [0., 0., 0.]],\n",
              "\n",
              "         [[0., 0., 0.],\n",
              "          [0., 0., 0.],\n",
              "          [0., 0., 0.]],\n",
              "\n",
              "         [[0., 0., 0.],\n",
              "          [0., 0., 0.],\n",
              "          [0., 0., 0.]]]])"
            ]
          },
          "metadata": {},
          "execution_count": 27
        }
      ]
    },
    {
      "cell_type": "markdown",
      "source": [
        "## Tensor Datatypes"
      ],
      "metadata": {
        "id": "8k7N9WZoSMoS"
      }
    },
    {
      "cell_type": "code",
      "source": [
        "fl_32_tensor = torch.tensor([2.0, 4.0, 7.0], dtype = None)\n",
        "fl_32_tensor"
      ],
      "metadata": {
        "colab": {
          "base_uri": "https://localhost:8080/"
        },
        "id": "ZzBvvzq7Rtht",
        "outputId": "96a89640-af3a-4d27-8a29-f7f0ac7f812e"
      },
      "execution_count": 28,
      "outputs": [
        {
          "output_type": "execute_result",
          "data": {
            "text/plain": [
              "tensor([2., 4., 7.])"
            ]
          },
          "metadata": {},
          "execution_count": 28
        }
      ]
    },
    {
      "cell_type": "code",
      "source": [
        "# Even after defining the Datatype as NONE, it will allot float32 by default\n",
        "fl_32_tensor.dtype"
      ],
      "metadata": {
        "colab": {
          "base_uri": "https://localhost:8080/"
        },
        "id": "H2sgtwxQSh_g",
        "outputId": "677b0748-ec4c-4e4b-d522-2d3f822f78f9"
      },
      "execution_count": 29,
      "outputs": [
        {
          "output_type": "execute_result",
          "data": {
            "text/plain": [
              "torch.float32"
            ]
          },
          "metadata": {},
          "execution_count": 29
        }
      ]
    },
    {
      "cell_type": "code",
      "source": [
        "fl_16_tensor = torch.tensor([2.0, 4.0, 7.0], dtype = torch.float16, device=None, requires_grad=False)\n",
        "fl_16_tensor"
      ],
      "metadata": {
        "colab": {
          "base_uri": "https://localhost:8080/"
        },
        "id": "kkitkySoSyCt",
        "outputId": "6f09f279-5c8f-4506-8a06-16d0b6af2ab5"
      },
      "execution_count": 30,
      "outputs": [
        {
          "output_type": "execute_result",
          "data": {
            "text/plain": [
              "tensor([2., 4., 7.], dtype=torch.float16)"
            ]
          },
          "metadata": {},
          "execution_count": 30
        }
      ]
    },
    {
      "cell_type": "code",
      "source": [
        "fl_16_tensor.dtype"
      ],
      "metadata": {
        "colab": {
          "base_uri": "https://localhost:8080/"
        },
        "id": "XFvM0tVCTN8C",
        "outputId": "c17aeae5-47e0-4f93-b6b5-fdfed2f46477"
      },
      "execution_count": 31,
      "outputs": [
        {
          "output_type": "execute_result",
          "data": {
            "text/plain": [
              "torch.float16"
            ]
          },
          "metadata": {},
          "execution_count": 31
        }
      ]
    },
    {
      "cell_type": "code",
      "source": [
        "# Changing the Datatype of float32 to float16\n",
        "fl_32_tensor = fl_32_tensor.type(torch.float16)\n",
        "fl_32_tensor"
      ],
      "metadata": {
        "colab": {
          "base_uri": "https://localhost:8080/"
        },
        "id": "siBoy3_HTTgF",
        "outputId": "b4a24335-43ac-444b-e903-fb874d58f115"
      },
      "execution_count": 32,
      "outputs": [
        {
          "output_type": "execute_result",
          "data": {
            "text/plain": [
              "tensor([2., 4., 7.], dtype=torch.float16)"
            ]
          },
          "metadata": {},
          "execution_count": 32
        }
      ]
    },
    {
      "cell_type": "markdown",
      "source": [
        "## Checking Tensor Device"
      ],
      "metadata": {
        "id": "x6-0Vrp-XjHw"
      }
    },
    {
      "cell_type": "code",
      "source": [
        "fl_16_tensor.device"
      ],
      "metadata": {
        "colab": {
          "base_uri": "https://localhost:8080/"
        },
        "id": "bZ3eeT5cas4r",
        "outputId": "3342bc84-2154-4a58-9e21-e0f1eca3de69"
      },
      "execution_count": 33,
      "outputs": [
        {
          "output_type": "execute_result",
          "data": {
            "text/plain": [
              "device(type='cpu')"
            ]
          },
          "metadata": {},
          "execution_count": 33
        }
      ]
    },
    {
      "cell_type": "markdown",
      "source": [
        "## Tensor Operations"
      ],
      "metadata": {
        "id": "oI5MRnojXdEv"
      }
    },
    {
      "cell_type": "markdown",
      "source": [
        "#### Addition"
      ],
      "metadata": {
        "id": "TauSlejKX_l7"
      }
    },
    {
      "cell_type": "code",
      "source": [
        "tensor = torch.tensor([1,2,3])\n",
        "tensor = tensor + 10"
      ],
      "metadata": {
        "id": "Gvb_NJ3bXgqw"
      },
      "execution_count": 34,
      "outputs": []
    },
    {
      "cell_type": "markdown",
      "source": [
        "#### Subtraction"
      ],
      "metadata": {
        "id": "B1PpL3ejYCW3"
      }
    },
    {
      "cell_type": "code",
      "source": [
        "tensor - 10"
      ],
      "metadata": {
        "colab": {
          "base_uri": "https://localhost:8080/"
        },
        "id": "1uTM9IZ2XgnW",
        "outputId": "796ac63d-3f2e-4a6d-9860-4ede45db4a9b"
      },
      "execution_count": 35,
      "outputs": [
        {
          "output_type": "execute_result",
          "data": {
            "text/plain": [
              "tensor([1, 2, 3])"
            ]
          },
          "metadata": {},
          "execution_count": 35
        }
      ]
    },
    {
      "cell_type": "code",
      "source": [
        "tensor.sub(10) # Built-in Function for Subtraction"
      ],
      "metadata": {
        "colab": {
          "base_uri": "https://localhost:8080/"
        },
        "id": "W-gm1v56YS4h",
        "outputId": "3cc17683-9340-4ff1-f02a-bf3bc9d81dfe"
      },
      "execution_count": 36,
      "outputs": [
        {
          "output_type": "execute_result",
          "data": {
            "text/plain": [
              "tensor([1, 2, 3])"
            ]
          },
          "metadata": {},
          "execution_count": 36
        }
      ]
    },
    {
      "cell_type": "markdown",
      "source": [
        "#### Multiplication"
      ],
      "metadata": {
        "id": "2XVbqOhbYE3b"
      }
    },
    {
      "cell_type": "code",
      "source": [
        "tensor * 10"
      ],
      "metadata": {
        "colab": {
          "base_uri": "https://localhost:8080/"
        },
        "id": "yEgqPJh_XgkU",
        "outputId": "a51e5a35-fd2c-49a6-83f6-a3d1a02af988"
      },
      "execution_count": 37,
      "outputs": [
        {
          "output_type": "execute_result",
          "data": {
            "text/plain": [
              "tensor([110, 120, 130])"
            ]
          },
          "metadata": {},
          "execution_count": 37
        }
      ]
    },
    {
      "cell_type": "code",
      "source": [
        "tensor.mul(10)"
      ],
      "metadata": {
        "colab": {
          "base_uri": "https://localhost:8080/"
        },
        "id": "xrPClhA9Xghl",
        "outputId": "d4f74eac-7fbe-4862-d285-20c808b45fdb"
      },
      "execution_count": 38,
      "outputs": [
        {
          "output_type": "execute_result",
          "data": {
            "text/plain": [
              "tensor([110, 120, 130])"
            ]
          },
          "metadata": {},
          "execution_count": 38
        }
      ]
    },
    {
      "cell_type": "markdown",
      "source": [
        "#### Element-Wise Multiplication, Dot Product, Matrix Multiplication"
      ],
      "metadata": {
        "id": "wTBnDfwyd11L"
      }
    },
    {
      "cell_type": "code",
      "source": [
        "tensor"
      ],
      "metadata": {
        "colab": {
          "base_uri": "https://localhost:8080/"
        },
        "id": "M-bWWQQ_Xfpw",
        "outputId": "595097cd-0be9-4cc7-9901-27e7dcc7b25c"
      },
      "execution_count": 39,
      "outputs": [
        {
          "output_type": "execute_result",
          "data": {
            "text/plain": [
              "tensor([11, 12, 13])"
            ]
          },
          "metadata": {},
          "execution_count": 39
        }
      ]
    },
    {
      "cell_type": "code",
      "source": [
        "# Element - Wise Multiplication\n",
        "tensor * tensor"
      ],
      "metadata": {
        "colab": {
          "base_uri": "https://localhost:8080/"
        },
        "id": "TOjdG_S2d-gu",
        "outputId": "72609018-63ec-4aea-8a85-dac09edcd1c6"
      },
      "execution_count": 40,
      "outputs": [
        {
          "output_type": "execute_result",
          "data": {
            "text/plain": [
              "tensor([121, 144, 169])"
            ]
          },
          "metadata": {},
          "execution_count": 40
        }
      ]
    },
    {
      "cell_type": "code",
      "source": [
        "# Dot Product (It is always equal to the summation of Element-Wise Multiplication Matrix)\n",
        "# So, in this case it is (121 + 144 + 169)\n",
        "torch.dot(tensor, tensor)"
      ],
      "metadata": {
        "colab": {
          "base_uri": "https://localhost:8080/"
        },
        "id": "Y15HpT4NeAon",
        "outputId": "ec170ac2-98c2-47ba-822e-0d01350b0c12"
      },
      "execution_count": 41,
      "outputs": [
        {
          "output_type": "execute_result",
          "data": {
            "text/plain": [
              "tensor(434)"
            ]
          },
          "metadata": {},
          "execution_count": 41
        }
      ]
    },
    {
      "cell_type": "code",
      "source": [
        "# matmul does dot product for 1D Vectors instead of Matrix Multiplication\n",
        "torch.matmul(tensor, tensor)"
      ],
      "metadata": {
        "colab": {
          "base_uri": "https://localhost:8080/"
        },
        "id": "8eGkcaOrfulW",
        "outputId": "99212175-fb70-4795-c935-2523211fed75"
      },
      "execution_count": 42,
      "outputs": [
        {
          "output_type": "execute_result",
          "data": {
            "text/plain": [
              "tensor(434)"
            ]
          },
          "metadata": {},
          "execution_count": 42
        }
      ]
    },
    {
      "cell_type": "code",
      "source": [
        "# Matrix Multiplication\n",
        "matrix1 = torch.tensor([[1,2,3],\n",
        "                        [4,5,6],\n",
        "                        [7,8,9]])\n",
        "\n",
        "matrix2 = torch.tensor([[1,2,3],\n",
        "                        [4,5,6],\n",
        "                        [7,8,9]])\n",
        "\n",
        "matrix1.matmul(matrix2)"
      ],
      "metadata": {
        "colab": {
          "base_uri": "https://localhost:8080/"
        },
        "id": "gbageX5yeK1V",
        "outputId": "edbccf8b-2d85-4fb3-81bc-3aabb918431c"
      },
      "execution_count": 43,
      "outputs": [
        {
          "output_type": "execute_result",
          "data": {
            "text/plain": [
              "tensor([[ 30,  36,  42],\n",
              "        [ 66,  81,  96],\n",
              "        [102, 126, 150]])"
            ]
          },
          "metadata": {},
          "execution_count": 43
        }
      ]
    },
    {
      "cell_type": "markdown",
      "source": [
        "### Tensor Aggregation (Min, Max, Mean, Sum, etc.)"
      ],
      "metadata": {
        "id": "OOC7XUtpNAfQ"
      }
    },
    {
      "cell_type": "code",
      "source": [
        "x = torch.arange(0, 101, 4)\n",
        "x"
      ],
      "metadata": {
        "id": "P3mkuNzJeyQT",
        "colab": {
          "base_uri": "https://localhost:8080/"
        },
        "outputId": "171aef96-7ef7-4ca5-9e0f-86d23d5ff635"
      },
      "execution_count": 44,
      "outputs": [
        {
          "output_type": "execute_result",
          "data": {
            "text/plain": [
              "tensor([  0,   4,   8,  12,  16,  20,  24,  28,  32,  36,  40,  44,  48,  52,\n",
              "         56,  60,  64,  68,  72,  76,  80,  84,  88,  92,  96, 100])"
            ]
          },
          "metadata": {},
          "execution_count": 44
        }
      ]
    },
    {
      "cell_type": "code",
      "source": [
        "x.dtype"
      ],
      "metadata": {
        "colab": {
          "base_uri": "https://localhost:8080/"
        },
        "id": "dR7FJ26UPePg",
        "outputId": "f267b5e1-8331-416d-bc34-94ee7e0fb541"
      },
      "execution_count": 45,
      "outputs": [
        {
          "output_type": "execute_result",
          "data": {
            "text/plain": [
              "torch.int64"
            ]
          },
          "metadata": {},
          "execution_count": 45
        }
      ]
    },
    {
      "cell_type": "markdown",
      "source": [
        "#### Minimum"
      ],
      "metadata": {
        "id": "gio8Hvl6PBnL"
      }
    },
    {
      "cell_type": "code",
      "source": [
        "torch.min(x)"
      ],
      "metadata": {
        "colab": {
          "base_uri": "https://localhost:8080/"
        },
        "id": "U-LzrizkNbKd",
        "outputId": "c48cef4e-fcd7-4218-dd16-ee8de04d8eb2"
      },
      "execution_count": 46,
      "outputs": [
        {
          "output_type": "execute_result",
          "data": {
            "text/plain": [
              "tensor(0)"
            ]
          },
          "metadata": {},
          "execution_count": 46
        }
      ]
    },
    {
      "cell_type": "code",
      "source": [
        "x.min()"
      ],
      "metadata": {
        "colab": {
          "base_uri": "https://localhost:8080/"
        },
        "id": "00lBMy3NO9Bm",
        "outputId": "625de6c7-7e0c-49ae-ef82-10c7ccd216af"
      },
      "execution_count": 47,
      "outputs": [
        {
          "output_type": "execute_result",
          "data": {
            "text/plain": [
              "tensor(0)"
            ]
          },
          "metadata": {},
          "execution_count": 47
        }
      ]
    },
    {
      "cell_type": "markdown",
      "source": [
        "#### Maximum"
      ],
      "metadata": {
        "id": "4oGHh9RbPEHk"
      }
    },
    {
      "cell_type": "code",
      "source": [
        "torch.max(x)"
      ],
      "metadata": {
        "colab": {
          "base_uri": "https://localhost:8080/"
        },
        "id": "efHp8kwxO_h0",
        "outputId": "a7818534-8ead-486a-a22e-21421998bfe2"
      },
      "execution_count": 48,
      "outputs": [
        {
          "output_type": "execute_result",
          "data": {
            "text/plain": [
              "tensor(100)"
            ]
          },
          "metadata": {},
          "execution_count": 48
        }
      ]
    },
    {
      "cell_type": "code",
      "source": [
        "x.max()"
      ],
      "metadata": {
        "colab": {
          "base_uri": "https://localhost:8080/"
        },
        "id": "6HVGbK8JPK1p",
        "outputId": "e13ec3ba-fe6a-4940-b84e-d0525095ebf8"
      },
      "execution_count": 49,
      "outputs": [
        {
          "output_type": "execute_result",
          "data": {
            "text/plain": [
              "tensor(100)"
            ]
          },
          "metadata": {},
          "execution_count": 49
        }
      ]
    },
    {
      "cell_type": "markdown",
      "source": [
        "#### Mean"
      ],
      "metadata": {
        "id": "UhreSBJBPN7m"
      }
    },
    {
      "cell_type": "code",
      "source": [
        "torch.mean(x.type(torch.float32)) # Changed the Datatype to float32 as torch.mean() requires float32 datatype"
      ],
      "metadata": {
        "colab": {
          "base_uri": "https://localhost:8080/"
        },
        "id": "X4MScdjzPMKJ",
        "outputId": "87d9098e-80e5-4086-f550-996ac394ecca"
      },
      "execution_count": 50,
      "outputs": [
        {
          "output_type": "execute_result",
          "data": {
            "text/plain": [
              "tensor(50.)"
            ]
          },
          "metadata": {},
          "execution_count": 50
        }
      ]
    },
    {
      "cell_type": "code",
      "source": [
        "x.type(torch.float32).mean()"
      ],
      "metadata": {
        "colab": {
          "base_uri": "https://localhost:8080/"
        },
        "id": "ySJejGG1PQSy",
        "outputId": "6135ee78-1e01-4263-f18c-1940057e8f72"
      },
      "execution_count": 51,
      "outputs": [
        {
          "output_type": "execute_result",
          "data": {
            "text/plain": [
              "tensor(50.)"
            ]
          },
          "metadata": {},
          "execution_count": 51
        }
      ]
    },
    {
      "cell_type": "markdown",
      "source": [
        "#### Sum"
      ],
      "metadata": {
        "id": "bYgzY5OoQT1P"
      }
    },
    {
      "cell_type": "code",
      "source": [
        "torch.sum(x)"
      ],
      "metadata": {
        "colab": {
          "base_uri": "https://localhost:8080/"
        },
        "id": "yYImyr61P5EC",
        "outputId": "90b8f60f-5085-476c-f235-60844c96e679"
      },
      "execution_count": 52,
      "outputs": [
        {
          "output_type": "execute_result",
          "data": {
            "text/plain": [
              "tensor(1300)"
            ]
          },
          "metadata": {},
          "execution_count": 52
        }
      ]
    },
    {
      "cell_type": "code",
      "source": [
        "x.sum()"
      ],
      "metadata": {
        "colab": {
          "base_uri": "https://localhost:8080/"
        },
        "id": "4F12yfpdQWSQ",
        "outputId": "f71f9af4-fcb9-4f6d-e1a5-b4ba5c7bf8d7"
      },
      "execution_count": 53,
      "outputs": [
        {
          "output_type": "execute_result",
          "data": {
            "text/plain": [
              "tensor(1300)"
            ]
          },
          "metadata": {},
          "execution_count": 53
        }
      ]
    },
    {
      "cell_type": "markdown",
      "source": [
        "### Index Position of Min and Max"
      ],
      "metadata": {
        "id": "H_Cl0BkfQ-F1"
      }
    },
    {
      "cell_type": "code",
      "source": [
        "# It returns the index value of minimum value in a tensor\n",
        "torch.argmin(x), x.argmin()"
      ],
      "metadata": {
        "colab": {
          "base_uri": "https://localhost:8080/"
        },
        "id": "qM8lQCPsQYaE",
        "outputId": "87a32376-c364-4395-9bdc-13bc63b08c60"
      },
      "execution_count": 54,
      "outputs": [
        {
          "output_type": "execute_result",
          "data": {
            "text/plain": [
              "(tensor(0), tensor(0))"
            ]
          },
          "metadata": {},
          "execution_count": 54
        }
      ]
    },
    {
      "cell_type": "code",
      "source": [
        "# It returns the index value of maximum value in a tensor\n",
        "torch.argmax(x), x.argmax()"
      ],
      "metadata": {
        "colab": {
          "base_uri": "https://localhost:8080/"
        },
        "id": "fmLlOL4-RHYx",
        "outputId": "641b9484-b745-4a5a-9967-bfbd96aa274f"
      },
      "execution_count": 55,
      "outputs": [
        {
          "output_type": "execute_result",
          "data": {
            "text/plain": [
              "(tensor(25), tensor(25))"
            ]
          },
          "metadata": {},
          "execution_count": 55
        }
      ]
    },
    {
      "cell_type": "markdown",
      "source": [
        "### View and Stacking Tensors"
      ],
      "metadata": {
        "id": "lhepdDs4V_vd"
      }
    },
    {
      "cell_type": "markdown",
      "source": [
        "#### View"
      ],
      "metadata": {
        "id": "i3M_haFGWmJ7"
      }
    },
    {
      "cell_type": "code",
      "source": [
        "x = torch.arange(1,11)\n",
        "x, x.shape"
      ],
      "metadata": {
        "colab": {
          "base_uri": "https://localhost:8080/"
        },
        "id": "iSlbizgzWGHD",
        "outputId": "ee2a44fc-f2ce-4da4-cfbd-866e8f0c1528"
      },
      "execution_count": 56,
      "outputs": [
        {
          "output_type": "execute_result",
          "data": {
            "text/plain": [
              "(tensor([ 1,  2,  3,  4,  5,  6,  7,  8,  9, 10]), torch.Size([10]))"
            ]
          },
          "metadata": {},
          "execution_count": 56
        }
      ]
    },
    {
      "cell_type": "code",
      "source": [
        "# Here z shares the same memory as of x, so changing z will change x as well\n",
        "z = x.view(1, 10)\n",
        "z, z.shape"
      ],
      "metadata": {
        "colab": {
          "base_uri": "https://localhost:8080/"
        },
        "id": "n3vuZJsBRnAD",
        "outputId": "a6e1e3a7-a832-4aef-b031-a7838bd4048a"
      },
      "execution_count": 57,
      "outputs": [
        {
          "output_type": "execute_result",
          "data": {
            "text/plain": [
              "(tensor([[ 1,  2,  3,  4,  5,  6,  7,  8,  9, 10]]), torch.Size([1, 10]))"
            ]
          },
          "metadata": {},
          "execution_count": 57
        }
      ]
    },
    {
      "cell_type": "code",
      "source": [
        "z[:, 0] = 4\n",
        "z, x"
      ],
      "metadata": {
        "colab": {
          "base_uri": "https://localhost:8080/"
        },
        "id": "Y5SOXMvXWSau",
        "outputId": "b92de924-55ba-4543-af44-a4f1aa5d3878"
      },
      "execution_count": 58,
      "outputs": [
        {
          "output_type": "execute_result",
          "data": {
            "text/plain": [
              "(tensor([[ 4,  2,  3,  4,  5,  6,  7,  8,  9, 10]]),\n",
              " tensor([ 4,  2,  3,  4,  5,  6,  7,  8,  9, 10]))"
            ]
          },
          "metadata": {},
          "execution_count": 58
        }
      ]
    },
    {
      "cell_type": "markdown",
      "source": [
        "#### Stacking"
      ],
      "metadata": {
        "id": "spaNxDt7WpMG"
      }
    },
    {
      "cell_type": "code",
      "source": [
        "x_stacked = torch.stack((x, x, x, x), dim = 0)\n",
        "x_stacked"
      ],
      "metadata": {
        "colab": {
          "base_uri": "https://localhost:8080/"
        },
        "id": "LDOnIJkiWbgA",
        "outputId": "9187760a-6c78-4606-92db-e5ec5dc8074b"
      },
      "execution_count": 59,
      "outputs": [
        {
          "output_type": "execute_result",
          "data": {
            "text/plain": [
              "tensor([[ 4,  2,  3,  4,  5,  6,  7,  8,  9, 10],\n",
              "        [ 4,  2,  3,  4,  5,  6,  7,  8,  9, 10],\n",
              "        [ 4,  2,  3,  4,  5,  6,  7,  8,  9, 10],\n",
              "        [ 4,  2,  3,  4,  5,  6,  7,  8,  9, 10]])"
            ]
          },
          "metadata": {},
          "execution_count": 59
        }
      ]
    },
    {
      "cell_type": "code",
      "source": [
        "x_stacked.shape"
      ],
      "metadata": {
        "colab": {
          "base_uri": "https://localhost:8080/"
        },
        "id": "QIgc6PxPbLFf",
        "outputId": "a8ddabf3-cd46-41a5-d369-c83611d74664"
      },
      "execution_count": 60,
      "outputs": [
        {
          "output_type": "execute_result",
          "data": {
            "text/plain": [
              "torch.Size([4, 10])"
            ]
          },
          "metadata": {},
          "execution_count": 60
        }
      ]
    },
    {
      "cell_type": "code",
      "source": [
        "x_stacked = torch.vstack((x, x, x, x))\n",
        "x_stacked"
      ],
      "metadata": {
        "colab": {
          "base_uri": "https://localhost:8080/"
        },
        "id": "Ov5XUeGRXPIv",
        "outputId": "daa82146-8ba6-49d2-942a-50d9698962b3"
      },
      "execution_count": 61,
      "outputs": [
        {
          "output_type": "execute_result",
          "data": {
            "text/plain": [
              "tensor([[ 4,  2,  3,  4,  5,  6,  7,  8,  9, 10],\n",
              "        [ 4,  2,  3,  4,  5,  6,  7,  8,  9, 10],\n",
              "        [ 4,  2,  3,  4,  5,  6,  7,  8,  9, 10],\n",
              "        [ 4,  2,  3,  4,  5,  6,  7,  8,  9, 10]])"
            ]
          },
          "metadata": {},
          "execution_count": 61
        }
      ]
    },
    {
      "cell_type": "code",
      "source": [
        "# Creates a Dimension, and transposes the first tensor as first row etc.\n",
        "x_stacked = torch.stack([x, x, x, x], dim = 1)\n",
        "x_stacked"
      ],
      "metadata": {
        "colab": {
          "base_uri": "https://localhost:8080/"
        },
        "id": "9U4Ca-gUW9Rm",
        "outputId": "da0694e1-2e29-4fdc-a980-818303907daf"
      },
      "execution_count": 62,
      "outputs": [
        {
          "output_type": "execute_result",
          "data": {
            "text/plain": [
              "tensor([[ 4,  4,  4,  4],\n",
              "        [ 2,  2,  2,  2],\n",
              "        [ 3,  3,  3,  3],\n",
              "        [ 4,  4,  4,  4],\n",
              "        [ 5,  5,  5,  5],\n",
              "        [ 6,  6,  6,  6],\n",
              "        [ 7,  7,  7,  7],\n",
              "        [ 8,  8,  8,  8],\n",
              "        [ 9,  9,  9,  9],\n",
              "        [10, 10, 10, 10]])"
            ]
          },
          "metadata": {},
          "execution_count": 62
        }
      ]
    },
    {
      "cell_type": "code",
      "source": [
        "# It just concatenates horizontally, it is different from others.\n",
        "x_stacked = torch.hstack((x, x, x, x))\n",
        "x_stacked"
      ],
      "metadata": {
        "colab": {
          "base_uri": "https://localhost:8080/"
        },
        "id": "jtB_4NxRXCIB",
        "outputId": "edc6f069-fac5-4056-a5e5-6c1d84a0f19c"
      },
      "execution_count": 63,
      "outputs": [
        {
          "output_type": "execute_result",
          "data": {
            "text/plain": [
              "tensor([ 4,  2,  3,  4,  5,  6,  7,  8,  9, 10,  4,  2,  3,  4,  5,  6,  7,  8,\n",
              "         9, 10,  4,  2,  3,  4,  5,  6,  7,  8,  9, 10,  4,  2,  3,  4,  5,  6,\n",
              "         7,  8,  9, 10])"
            ]
          },
          "metadata": {},
          "execution_count": 63
        }
      ]
    },
    {
      "cell_type": "markdown",
      "source": [
        "### Squeeze\n",
        "The `squeeze()` function removes all dimensions of size 1 from a tensor."
      ],
      "metadata": {
        "id": "ayKJkQ8HhYBU"
      }
    },
    {
      "cell_type": "code",
      "source": [
        "# Create a tensor with a size of (1, 3, 1, 4)\n",
        "tensor = torch.randn(1, 3, 1, 4)\n",
        "print(\"Original tensor shape:\", tensor.shape)\n",
        "\n",
        "# Apply squeeze to remove all dimensions of size 1\n",
        "squeezed_tensor = tensor.squeeze()\n",
        "print(\"After squeeze:\", squeezed_tensor.shape)"
      ],
      "metadata": {
        "colab": {
          "base_uri": "https://localhost:8080/"
        },
        "id": "D96w9_gcYG5F",
        "outputId": "51957ca0-87f5-4aa0-e366-e6ea5b488272"
      },
      "execution_count": 64,
      "outputs": [
        {
          "output_type": "stream",
          "name": "stdout",
          "text": [
            "Original tensor shape: torch.Size([1, 3, 1, 4])\n",
            "After squeeze: torch.Size([3, 4])\n"
          ]
        }
      ]
    },
    {
      "cell_type": "markdown",
      "source": [
        "### Unsqueeze\n",
        "The `unsqueeze()` function adds a singleton dimension (dimension of size 1) at a specific position in the tensor."
      ],
      "metadata": {
        "id": "PEmPz9EZhUis"
      }
    },
    {
      "cell_type": "code",
      "source": [
        "# Create a tensor with a size of (3, 4)\n",
        "tensor = torch.randn(3, 4)\n",
        "print(\"Original tensor shape:\", tensor.shape)\n",
        "\n",
        "# Apply unsqueeze to add a dimension at position 0\n",
        "unsqueezed_tensor = tensor.unsqueeze(0)\n",
        "print(\"After unsqueeze at 0:\", unsqueezed_tensor.shape)\n",
        "\n",
        "# Apply unsqueeze to add a dimension at position 1\n",
        "unsqueezed_tensor_1 = tensor.unsqueeze(1)\n",
        "print(\"After unsqueeze at 1:\", unsqueezed_tensor_1.shape)\n",
        "\n",
        "# Apply unsqueeze to add a dimension at position 2\n",
        "unsqueezed_tensor_2 = tensor.unsqueeze(2)\n",
        "print(\"After unsqueeze at 2:\", unsqueezed_tensor_2.shape)"
      ],
      "metadata": {
        "colab": {
          "base_uri": "https://localhost:8080/"
        },
        "id": "FoIeuj1_f77s",
        "outputId": "70f97d40-7678-4f40-b3e3-f89a0f95a3b0"
      },
      "execution_count": 65,
      "outputs": [
        {
          "output_type": "stream",
          "name": "stdout",
          "text": [
            "Original tensor shape: torch.Size([3, 4])\n",
            "After unsqueeze at 0: torch.Size([1, 3, 4])\n",
            "After unsqueeze at 1: torch.Size([3, 1, 4])\n",
            "After unsqueeze at 2: torch.Size([3, 4, 1])\n"
          ]
        }
      ]
    },
    {
      "cell_type": "markdown",
      "source": [
        "### Permute\n",
        "In PyTorch, `permute()` is used to change the order of dimensions in a tensor. It allows you to rearrange the axes of the tensor to a new specified order."
      ],
      "metadata": {
        "id": "1hCIVQDLlicW"
      }
    },
    {
      "cell_type": "code",
      "source": [
        "tensor = torch.randn(2, 3, 4)\n",
        "print(\"Original tensor shape:\", tensor.shape)\n",
        "\n",
        "# Applying permute to change the dimension order\n",
        "permuted_tensor = tensor.permute(1, 0, 2)  # Swap 0th and 1st dimensions\n",
        "print(\"Permuted tensor shape:\", permuted_tensor.shape)"
      ],
      "metadata": {
        "colab": {
          "base_uri": "https://localhost:8080/"
        },
        "id": "qlTTmN4gjPqF",
        "outputId": "bfe948f3-f22e-44df-f16e-7999a7b13a1a"
      },
      "execution_count": 66,
      "outputs": [
        {
          "output_type": "stream",
          "name": "stdout",
          "text": [
            "Original tensor shape: torch.Size([2, 3, 4])\n",
            "Permuted tensor shape: torch.Size([3, 2, 4])\n"
          ]
        }
      ]
    },
    {
      "cell_type": "markdown",
      "source": [
        "## Indexing"
      ],
      "metadata": {
        "id": "fEoCjEgMw0w4"
      }
    },
    {
      "cell_type": "code",
      "source": [
        "x = torch.arange(0, 18).reshape(2, 3, 3)\n",
        "x"
      ],
      "metadata": {
        "id": "FN_d81jHm2EF",
        "colab": {
          "base_uri": "https://localhost:8080/"
        },
        "outputId": "43700b6f-fb0c-44dd-81f5-dc0143a0b865"
      },
      "execution_count": 67,
      "outputs": [
        {
          "output_type": "execute_result",
          "data": {
            "text/plain": [
              "tensor([[[ 0,  1,  2],\n",
              "         [ 3,  4,  5],\n",
              "         [ 6,  7,  8]],\n",
              "\n",
              "        [[ 9, 10, 11],\n",
              "         [12, 13, 14],\n",
              "         [15, 16, 17]]])"
            ]
          },
          "metadata": {},
          "execution_count": 67
        }
      ]
    },
    {
      "cell_type": "code",
      "source": [
        "x[0]"
      ],
      "metadata": {
        "colab": {
          "base_uri": "https://localhost:8080/"
        },
        "id": "9pY54X6gwayG",
        "outputId": "132a7dce-c0be-4421-a3d4-b90484528519"
      },
      "execution_count": 68,
      "outputs": [
        {
          "output_type": "execute_result",
          "data": {
            "text/plain": [
              "tensor([[0, 1, 2],\n",
              "        [3, 4, 5],\n",
              "        [6, 7, 8]])"
            ]
          },
          "metadata": {},
          "execution_count": 68
        }
      ]
    },
    {
      "cell_type": "code",
      "source": [
        "x[1,1,1]"
      ],
      "metadata": {
        "colab": {
          "base_uri": "https://localhost:8080/"
        },
        "id": "LMqv9krWv7UN",
        "outputId": "76c9a4f4-012c-4bb7-e93c-73af4b78df66"
      },
      "execution_count": 69,
      "outputs": [
        {
          "output_type": "execute_result",
          "data": {
            "text/plain": [
              "tensor(13)"
            ]
          },
          "metadata": {},
          "execution_count": 69
        }
      ]
    },
    {
      "cell_type": "code",
      "source": [
        "x[0,1]"
      ],
      "metadata": {
        "colab": {
          "base_uri": "https://localhost:8080/"
        },
        "id": "aGtGTdQNwB_L",
        "outputId": "bc9d9bcb-1674-4d9d-86d7-ed910dea30d9"
      },
      "execution_count": 70,
      "outputs": [
        {
          "output_type": "execute_result",
          "data": {
            "text/plain": [
              "tensor([3, 4, 5])"
            ]
          },
          "metadata": {},
          "execution_count": 70
        }
      ]
    },
    {
      "cell_type": "code",
      "source": [
        "x[0,2,:2]"
      ],
      "metadata": {
        "colab": {
          "base_uri": "https://localhost:8080/"
        },
        "id": "k8huWiBKwIVF",
        "outputId": "40c723cf-eb0f-45da-ff5e-cda65081c521"
      },
      "execution_count": 71,
      "outputs": [
        {
          "output_type": "execute_result",
          "data": {
            "text/plain": [
              "tensor([6, 7])"
            ]
          },
          "metadata": {},
          "execution_count": 71
        }
      ]
    },
    {
      "cell_type": "code",
      "source": [
        "x[0,2,0:1]"
      ],
      "metadata": {
        "colab": {
          "base_uri": "https://localhost:8080/"
        },
        "id": "RygLft5Lx0Ik",
        "outputId": "ee057426-1c77-451f-ca36-51f0b237445a"
      },
      "execution_count": 72,
      "outputs": [
        {
          "output_type": "execute_result",
          "data": {
            "text/plain": [
              "tensor([6])"
            ]
          },
          "metadata": {},
          "execution_count": 72
        }
      ]
    },
    {
      "cell_type": "code",
      "source": [
        "x[0,:,-1]"
      ],
      "metadata": {
        "colab": {
          "base_uri": "https://localhost:8080/"
        },
        "id": "ZjEZJoQj1VvZ",
        "outputId": "5e54ad00-6447-4386-b09e-0a70b7fc8f5b"
      },
      "execution_count": 73,
      "outputs": [
        {
          "output_type": "execute_result",
          "data": {
            "text/plain": [
              "tensor([2, 5, 8])"
            ]
          },
          "metadata": {},
          "execution_count": 73
        }
      ]
    },
    {
      "cell_type": "code",
      "source": [
        "x[1,1:,1]"
      ],
      "metadata": {
        "colab": {
          "base_uri": "https://localhost:8080/"
        },
        "id": "B1I_hv232eWZ",
        "outputId": "0facdefc-fbc1-4c4b-bccf-f98df69d89ab"
      },
      "execution_count": 74,
      "outputs": [
        {
          "output_type": "execute_result",
          "data": {
            "text/plain": [
              "tensor([13, 16])"
            ]
          },
          "metadata": {},
          "execution_count": 74
        }
      ]
    },
    {
      "cell_type": "markdown",
      "source": [
        "## Tensors and NumPy"
      ],
      "metadata": {
        "id": "SCO2q3i5-NP2"
      }
    },
    {
      "cell_type": "markdown",
      "source": [
        "### NumPy to Tensor"
      ],
      "metadata": {
        "id": "5UbEFlDZBh1p"
      }
    },
    {
      "cell_type": "code",
      "source": [
        "import numpy as np\n",
        "\n",
        "a = np.arange(1,11)\n",
        "tensor = torch.from_numpy(a)\n",
        "a, tensor, tensor.dtype"
      ],
      "metadata": {
        "colab": {
          "base_uri": "https://localhost:8080/"
        },
        "id": "cKqVxQdN2AK3",
        "outputId": "7ddd8a74-87a5-44ff-eb53-95f7a937f200"
      },
      "execution_count": 75,
      "outputs": [
        {
          "output_type": "execute_result",
          "data": {
            "text/plain": [
              "(array([ 1,  2,  3,  4,  5,  6,  7,  8,  9, 10]),\n",
              " tensor([ 1,  2,  3,  4,  5,  6,  7,  8,  9, 10]),\n",
              " torch.int64)"
            ]
          },
          "metadata": {},
          "execution_count": 75
        }
      ]
    },
    {
      "cell_type": "code",
      "source": [
        "a = a + 1\n",
        "a, tensor"
      ],
      "metadata": {
        "colab": {
          "base_uri": "https://localhost:8080/"
        },
        "id": "kpxo_ofpB-Se",
        "outputId": "0476f1b1-bf73-4885-e35f-46dc127aa281"
      },
      "execution_count": 76,
      "outputs": [
        {
          "output_type": "execute_result",
          "data": {
            "text/plain": [
              "(array([ 2,  3,  4,  5,  6,  7,  8,  9, 10, 11]),\n",
              " tensor([ 1,  2,  3,  4,  5,  6,  7,  8,  9, 10]))"
            ]
          },
          "metadata": {},
          "execution_count": 76
        }
      ]
    },
    {
      "cell_type": "markdown",
      "source": [
        "### Tensor to NumPy"
      ],
      "metadata": {
        "id": "hNfsMK0_CcLs"
      }
    },
    {
      "cell_type": "code",
      "source": [
        "tensor = torch.ones(7)\n",
        "numpy_tensor = tensor.numpy()\n",
        "tensor, numpy_tensor"
      ],
      "metadata": {
        "colab": {
          "base_uri": "https://localhost:8080/"
        },
        "id": "9GHajlTnCaXF",
        "outputId": "54e39474-f22a-4dd2-91bb-03164e019cc0"
      },
      "execution_count": 77,
      "outputs": [
        {
          "output_type": "execute_result",
          "data": {
            "text/plain": [
              "(tensor([1., 1., 1., 1., 1., 1., 1.]),\n",
              " array([1., 1., 1., 1., 1., 1., 1.], dtype=float32))"
            ]
          },
          "metadata": {},
          "execution_count": 77
        }
      ]
    },
    {
      "cell_type": "markdown",
      "source": [
        "## Reproducibility (Seed)"
      ],
      "metadata": {
        "id": "Ik0Jfoh5-QMf"
      }
    },
    {
      "cell_type": "code",
      "source": [
        "# We need to call Random Seed everytime before creating tensor if we want the reproducibility.\n",
        "random_seed = 42\n",
        "\n",
        "torch.manual_seed(random_seed)\n",
        "random1 = torch.rand(7,7)\n",
        "\n",
        "torch.manual_seed(random_seed)\n",
        "random2 = torch.rand(7,7)\n",
        "\n",
        "print(random1)\n",
        "print(\"\\n\", random2)\n",
        "print(\"\\n\", random1 == random2)"
      ],
      "metadata": {
        "colab": {
          "base_uri": "https://localhost:8080/"
        },
        "id": "V7x2vHLL-S5h",
        "outputId": "439eade5-263c-4ba2-d0d9-9de05357334c"
      },
      "execution_count": 78,
      "outputs": [
        {
          "output_type": "stream",
          "name": "stdout",
          "text": [
            "tensor([[0.8823, 0.9150, 0.3829, 0.9593, 0.3904, 0.6009, 0.2566],\n",
            "        [0.7936, 0.9408, 0.1332, 0.9346, 0.5936, 0.8694, 0.5677],\n",
            "        [0.7411, 0.4294, 0.8854, 0.5739, 0.2666, 0.6274, 0.2696],\n",
            "        [0.4414, 0.2969, 0.8317, 0.1053, 0.2695, 0.3588, 0.1994],\n",
            "        [0.5472, 0.0062, 0.9516, 0.0753, 0.8860, 0.5832, 0.3376],\n",
            "        [0.8090, 0.5779, 0.9040, 0.5547, 0.3423, 0.6343, 0.3644],\n",
            "        [0.7104, 0.9464, 0.7890, 0.2814, 0.7886, 0.5895, 0.7539]])\n",
            "\n",
            " tensor([[0.8823, 0.9150, 0.3829, 0.9593, 0.3904, 0.6009, 0.2566],\n",
            "        [0.7936, 0.9408, 0.1332, 0.9346, 0.5936, 0.8694, 0.5677],\n",
            "        [0.7411, 0.4294, 0.8854, 0.5739, 0.2666, 0.6274, 0.2696],\n",
            "        [0.4414, 0.2969, 0.8317, 0.1053, 0.2695, 0.3588, 0.1994],\n",
            "        [0.5472, 0.0062, 0.9516, 0.0753, 0.8860, 0.5832, 0.3376],\n",
            "        [0.8090, 0.5779, 0.9040, 0.5547, 0.3423, 0.6343, 0.3644],\n",
            "        [0.7104, 0.9464, 0.7890, 0.2814, 0.7886, 0.5895, 0.7539]])\n",
            "\n",
            " tensor([[True, True, True, True, True, True, True],\n",
            "        [True, True, True, True, True, True, True],\n",
            "        [True, True, True, True, True, True, True],\n",
            "        [True, True, True, True, True, True, True],\n",
            "        [True, True, True, True, True, True, True],\n",
            "        [True, True, True, True, True, True, True],\n",
            "        [True, True, True, True, True, True, True]])\n"
          ]
        }
      ]
    },
    {
      "cell_type": "markdown",
      "source": [
        "## CUDA, GPU & CPU"
      ],
      "metadata": {
        "id": "NzsFlmdo-Wrt"
      }
    },
    {
      "cell_type": "code",
      "source": [
        "torch.cuda.is_available()"
      ],
      "metadata": {
        "colab": {
          "base_uri": "https://localhost:8080/"
        },
        "id": "7BP7AOSm-UhI",
        "outputId": "a603b082-9f52-4b17-b684-5a3db1503ab1"
      },
      "execution_count": 79,
      "outputs": [
        {
          "output_type": "execute_result",
          "data": {
            "text/plain": [
              "False"
            ]
          },
          "metadata": {},
          "execution_count": 79
        }
      ]
    },
    {
      "cell_type": "code",
      "source": [
        "device = \"cuda\" if torch.cuda.is_available() else \"cpu\"\n",
        "device"
      ],
      "metadata": {
        "colab": {
          "base_uri": "https://localhost:8080/",
          "height": 35
        },
        "id": "Nl_3Rs03_SwG",
        "outputId": "79af44b4-fdc4-4a5d-f43a-2de8caef0f13"
      },
      "execution_count": 80,
      "outputs": [
        {
          "output_type": "execute_result",
          "data": {
            "text/plain": [
              "'cpu'"
            ],
            "application/vnd.google.colaboratory.intrinsic+json": {
              "type": "string"
            }
          },
          "metadata": {},
          "execution_count": 80
        }
      ]
    },
    {
      "cell_type": "code",
      "source": [
        "torch.cuda.device_count()"
      ],
      "metadata": {
        "colab": {
          "base_uri": "https://localhost:8080/"
        },
        "id": "VlNLqIBZ_Z6_",
        "outputId": "33046170-e098-4ea0-e536-0655f3a49af2"
      },
      "execution_count": 81,
      "outputs": [
        {
          "output_type": "execute_result",
          "data": {
            "text/plain": [
              "0"
            ]
          },
          "metadata": {},
          "execution_count": 81
        }
      ]
    },
    {
      "cell_type": "code",
      "source": [
        "tensor1 = torch.tensor([1,2,3])\n",
        "tensor1.device"
      ],
      "metadata": {
        "colab": {
          "base_uri": "https://localhost:8080/"
        },
        "id": "RcLJeZX9_e3A",
        "outputId": "0c691d69-f321-42a6-a28b-9c5866e0aca7"
      },
      "execution_count": 82,
      "outputs": [
        {
          "output_type": "execute_result",
          "data": {
            "text/plain": [
              "device(type='cpu')"
            ]
          },
          "metadata": {},
          "execution_count": 82
        }
      ]
    },
    {
      "cell_type": "markdown",
      "source": [
        "### **Note -**\n",
        "\n",
        "* Remember, when converting tensor back to numpy, don't forget to change the device to cpu first as numpy array requires cpu not gpu."
      ],
      "metadata": {
        "id": "7TxlIZ5G_6Wn"
      }
    }
  ]
}