{
  "nbformat": 4,
  "nbformat_minor": 0,
  "metadata": {
    "colab": {
      "provenance": []
    },
    "kernelspec": {
      "name": "python3",
      "display_name": "Python 3"
    },
    "language_info": {
      "name": "python"
    }
  },
  "cells": [
    {
      "cell_type": "code",
      "execution_count": 1,
      "metadata": {
        "colab": {
          "base_uri": "https://localhost:8080/"
        },
        "id": "cidEYuAjz61H",
        "outputId": "ddd1bc12-e50d-45da-8f96-e111a67b162c"
      },
      "outputs": [
        {
          "output_type": "stream",
          "name": "stdout",
          "text": [
            "2.8.0+cu126\n"
          ]
        }
      ],
      "source": [
        "import torch\n",
        "import pandas as pd\n",
        "import numpy as np\n",
        "import matplotlib.pyplot as plt\n",
        "import random\n",
        "\n",
        "print(torch.__version__)"
      ]
    },
    {
      "cell_type": "code",
      "source": [
        "# Creating a Tensor\n",
        "scalar = torch.tensor(7)\n",
        "scalar"
      ],
      "metadata": {
        "colab": {
          "base_uri": "https://localhost:8080/"
        },
        "id": "QTNID2jy0rns",
        "outputId": "e241268a-be25-40ee-e2b5-6dcbc77f80e0"
      },
      "execution_count": 2,
      "outputs": [
        {
          "output_type": "execute_result",
          "data": {
            "text/plain": [
              "tensor(7)"
            ]
          },
          "metadata": {},
          "execution_count": 2
        }
      ]
    },
    {
      "cell_type": "code",
      "source": [
        "scalar.ndim"
      ],
      "metadata": {
        "colab": {
          "base_uri": "https://localhost:8080/"
        },
        "id": "ccAtUmB6037o",
        "outputId": "0d5f7ed9-ae85-4d89-927c-86ec0d0bd2a4"
      },
      "execution_count": 3,
      "outputs": [
        {
          "output_type": "execute_result",
          "data": {
            "text/plain": [
              "0"
            ]
          },
          "metadata": {},
          "execution_count": 3
        }
      ]
    },
    {
      "cell_type": "code",
      "source": [
        "# Getting tensor back as Python item\n",
        "scalar.item()"
      ],
      "metadata": {
        "colab": {
          "base_uri": "https://localhost:8080/"
        },
        "id": "5ktSeLwh1U2P",
        "outputId": "a3b7d579-7777-4997-9ce1-905c2fc6258f"
      },
      "execution_count": 4,
      "outputs": [
        {
          "output_type": "execute_result",
          "data": {
            "text/plain": [
              "7"
            ]
          },
          "metadata": {},
          "execution_count": 4
        }
      ]
    },
    {
      "cell_type": "code",
      "source": [
        "# Creating the Vector\n",
        "vector = torch.tensor([7,7])\n",
        "vector"
      ],
      "metadata": {
        "colab": {
          "base_uri": "https://localhost:8080/"
        },
        "id": "WE2qeH_51wsU",
        "outputId": "7dc9056b-20be-4c10-d4d9-02cb4d51bad6"
      },
      "execution_count": 5,
      "outputs": [
        {
          "output_type": "execute_result",
          "data": {
            "text/plain": [
              "tensor([7, 7])"
            ]
          },
          "metadata": {},
          "execution_count": 5
        }
      ]
    },
    {
      "cell_type": "code",
      "source": [
        "vector.ndim"
      ],
      "metadata": {
        "colab": {
          "base_uri": "https://localhost:8080/"
        },
        "id": "zUgj9IVI15nI",
        "outputId": "763c43e1-2b3b-4617-87fb-11fb6f881292"
      },
      "execution_count": 6,
      "outputs": [
        {
          "output_type": "execute_result",
          "data": {
            "text/plain": [
              "1"
            ]
          },
          "metadata": {},
          "execution_count": 6
        }
      ]
    },
    {
      "cell_type": "code",
      "source": [
        "vector.shape"
      ],
      "metadata": {
        "colab": {
          "base_uri": "https://localhost:8080/"
        },
        "id": "kLJAFhQf17mw",
        "outputId": "22d26582-7640-4ce5-ab79-f608ba0cde0e"
      },
      "execution_count": 7,
      "outputs": [
        {
          "output_type": "execute_result",
          "data": {
            "text/plain": [
              "torch.Size([2])"
            ]
          },
          "metadata": {},
          "execution_count": 7
        }
      ]
    },
    {
      "cell_type": "code",
      "source": [
        "# Creating the Matrix\n",
        "MATRIX = torch.tensor([[7,8],\n",
        "                       [9,10]])\n",
        "MATRIX"
      ],
      "metadata": {
        "colab": {
          "base_uri": "https://localhost:8080/"
        },
        "id": "prDeJ1ob2BVz",
        "outputId": "4ca65d93-8423-4ac2-8b7f-ae94a0884338"
      },
      "execution_count": 8,
      "outputs": [
        {
          "output_type": "execute_result",
          "data": {
            "text/plain": [
              "tensor([[ 7,  8],\n",
              "        [ 9, 10]])"
            ]
          },
          "metadata": {},
          "execution_count": 8
        }
      ]
    },
    {
      "cell_type": "code",
      "source": [
        "MATRIX.ndim"
      ],
      "metadata": {
        "colab": {
          "base_uri": "https://localhost:8080/"
        },
        "id": "qZ71slOo2OIY",
        "outputId": "a0c369f5-5c9b-4110-c1dd-1a655d3981f4"
      },
      "execution_count": 9,
      "outputs": [
        {
          "output_type": "execute_result",
          "data": {
            "text/plain": [
              "2"
            ]
          },
          "metadata": {},
          "execution_count": 9
        }
      ]
    },
    {
      "cell_type": "code",
      "source": [
        "MATRIX[0]"
      ],
      "metadata": {
        "colab": {
          "base_uri": "https://localhost:8080/"
        },
        "id": "LckiIdye2Vvk",
        "outputId": "7c51f8b2-6baa-4714-d4d1-ee4ae90b0f28"
      },
      "execution_count": 10,
      "outputs": [
        {
          "output_type": "execute_result",
          "data": {
            "text/plain": [
              "tensor([7, 8])"
            ]
          },
          "metadata": {},
          "execution_count": 10
        }
      ]
    },
    {
      "cell_type": "code",
      "source": [
        "MATRIX[1]"
      ],
      "metadata": {
        "colab": {
          "base_uri": "https://localhost:8080/"
        },
        "id": "yoqcJTfH2ck_",
        "outputId": "67a1587b-3114-435e-8576-2258dd50e1c8"
      },
      "execution_count": 11,
      "outputs": [
        {
          "output_type": "execute_result",
          "data": {
            "text/plain": [
              "tensor([ 9, 10])"
            ]
          },
          "metadata": {},
          "execution_count": 11
        }
      ]
    },
    {
      "cell_type": "code",
      "source": [
        "MATRIX.shape"
      ],
      "metadata": {
        "colab": {
          "base_uri": "https://localhost:8080/"
        },
        "id": "qmA5Gy7I2df6",
        "outputId": "68c8632d-2703-44bb-a44e-be3a96f87e4e"
      },
      "execution_count": 12,
      "outputs": [
        {
          "output_type": "execute_result",
          "data": {
            "text/plain": [
              "torch.Size([2, 2])"
            ]
          },
          "metadata": {},
          "execution_count": 12
        }
      ]
    },
    {
      "cell_type": "code",
      "source": [
        "# TENSOR\n",
        "T = torch.tensor([[[1,2,3],\n",
        "                   [4,5,6],\n",
        "                   [7,8,9]]])\n",
        "T"
      ],
      "metadata": {
        "colab": {
          "base_uri": "https://localhost:8080/"
        },
        "id": "4v9yF9312fkM",
        "outputId": "918498ef-e036-48a3-a11e-7607db336fba"
      },
      "execution_count": 13,
      "outputs": [
        {
          "output_type": "execute_result",
          "data": {
            "text/plain": [
              "tensor([[[1, 2, 3],\n",
              "         [4, 5, 6],\n",
              "         [7, 8, 9]]])"
            ]
          },
          "metadata": {},
          "execution_count": 13
        }
      ]
    },
    {
      "cell_type": "code",
      "source": [
        "T.ndim"
      ],
      "metadata": {
        "colab": {
          "base_uri": "https://localhost:8080/"
        },
        "id": "CdkxCh1A2tZg",
        "outputId": "43cdf390-d8d5-4f54-96d9-7fcbbc332c26"
      },
      "execution_count": 14,
      "outputs": [
        {
          "output_type": "execute_result",
          "data": {
            "text/plain": [
              "3"
            ]
          },
          "metadata": {},
          "execution_count": 14
        }
      ]
    },
    {
      "cell_type": "code",
      "source": [
        "T.shape"
      ],
      "metadata": {
        "colab": {
          "base_uri": "https://localhost:8080/"
        },
        "id": "F4XIQJ7Z20N8",
        "outputId": "859c0ce5-5eb0-488c-b4c3-daeee2e5a1cb"
      },
      "execution_count": 15,
      "outputs": [
        {
          "output_type": "execute_result",
          "data": {
            "text/plain": [
              "torch.Size([1, 3, 3])"
            ]
          },
          "metadata": {},
          "execution_count": 15
        }
      ]
    },
    {
      "cell_type": "code",
      "source": [
        "T[0]"
      ],
      "metadata": {
        "colab": {
          "base_uri": "https://localhost:8080/"
        },
        "id": "-32rP3Rt229r",
        "outputId": "8b1af270-f174-41f7-9c91-a7dab1d910de"
      },
      "execution_count": 16,
      "outputs": [
        {
          "output_type": "execute_result",
          "data": {
            "text/plain": [
              "tensor([[1, 2, 3],\n",
              "        [4, 5, 6],\n",
              "        [7, 8, 9]])"
            ]
          },
          "metadata": {},
          "execution_count": 16
        }
      ]
    },
    {
      "cell_type": "code",
      "source": [
        "# Generating the Random Tensor\n",
        "A = torch.rand(2,4,3,3)\n",
        "A"
      ],
      "metadata": {
        "colab": {
          "base_uri": "https://localhost:8080/"
        },
        "id": "7lTPIhNc3F9P",
        "outputId": "476ad419-cc37-4066-cdd4-6ebd9e778b69"
      },
      "execution_count": 17,
      "outputs": [
        {
          "output_type": "execute_result",
          "data": {
            "text/plain": [
              "tensor([[[[0.7711, 0.7567, 0.3260],\n",
              "          [0.2938, 0.3323, 0.1046],\n",
              "          [0.9215, 0.8533, 0.5011]],\n",
              "\n",
              "         [[0.8347, 0.8757, 0.7542],\n",
              "          [0.3341, 0.1841, 0.9177],\n",
              "          [0.6653, 0.2851, 0.5909]],\n",
              "\n",
              "         [[0.4632, 0.3497, 0.9749],\n",
              "          [0.4630, 0.1533, 0.3243],\n",
              "          [0.3691, 0.0826, 0.7249]],\n",
              "\n",
              "         [[0.4842, 0.0459, 0.2865],\n",
              "          [0.8675, 0.9563, 0.9361],\n",
              "          [0.9921, 0.2593, 0.0227]]],\n",
              "\n",
              "\n",
              "        [[[0.9891, 0.9062, 0.4047],\n",
              "          [0.2630, 0.4265, 0.2154],\n",
              "          [0.0773, 0.2189, 0.3651]],\n",
              "\n",
              "         [[0.7196, 0.8435, 0.6798],\n",
              "          [0.9260, 0.1579, 0.3651],\n",
              "          [0.4283, 0.4292, 0.1639]],\n",
              "\n",
              "         [[0.3744, 0.8749, 0.9873],\n",
              "          [0.1871, 0.9177, 0.7194],\n",
              "          [0.0674, 0.7760, 0.2367]],\n",
              "\n",
              "         [[0.7361, 0.7932, 0.4973],\n",
              "          [0.7502, 0.3762, 0.3625],\n",
              "          [0.0976, 0.5667, 0.1591]]]])"
            ]
          },
          "metadata": {},
          "execution_count": 17
        }
      ]
    },
    {
      "cell_type": "code",
      "source": [
        "A.ndim"
      ],
      "metadata": {
        "colab": {
          "base_uri": "https://localhost:8080/"
        },
        "id": "0B7fhlgm6InJ",
        "outputId": "54706362-9570-4a10-b80f-6c9cd088c88d"
      },
      "execution_count": 18,
      "outputs": [
        {
          "output_type": "execute_result",
          "data": {
            "text/plain": [
              "4"
            ]
          },
          "metadata": {},
          "execution_count": 18
        }
      ]
    },
    {
      "cell_type": "code",
      "source": [
        "A.shape"
      ],
      "metadata": {
        "colab": {
          "base_uri": "https://localhost:8080/"
        },
        "id": "GnI5reKj6NXf",
        "outputId": "42e7ea45-c4dd-40b6-cc81-8267db0dba3a"
      },
      "execution_count": 19,
      "outputs": [
        {
          "output_type": "execute_result",
          "data": {
            "text/plain": [
              "torch.Size([2, 4, 3, 3])"
            ]
          },
          "metadata": {},
          "execution_count": 19
        }
      ]
    },
    {
      "cell_type": "code",
      "source": [
        "# Using arange function to generate Random Tensors\n",
        "B = torch.arange(0,360,1).reshape(4, 3, 2, 5, 3)\n",
        "print(B)\n",
        "print(B.shape)"
      ],
      "metadata": {
        "colab": {
          "base_uri": "https://localhost:8080/"
        },
        "id": "zKU0hDW2-Eom",
        "outputId": "59e9a8cc-c707-4f14-b08b-be91df75b068"
      },
      "execution_count": 20,
      "outputs": [
        {
          "output_type": "stream",
          "name": "stdout",
          "text": [
            "tensor([[[[[  0,   1,   2],\n",
            "           [  3,   4,   5],\n",
            "           [  6,   7,   8],\n",
            "           [  9,  10,  11],\n",
            "           [ 12,  13,  14]],\n",
            "\n",
            "          [[ 15,  16,  17],\n",
            "           [ 18,  19,  20],\n",
            "           [ 21,  22,  23],\n",
            "           [ 24,  25,  26],\n",
            "           [ 27,  28,  29]]],\n",
            "\n",
            "\n",
            "         [[[ 30,  31,  32],\n",
            "           [ 33,  34,  35],\n",
            "           [ 36,  37,  38],\n",
            "           [ 39,  40,  41],\n",
            "           [ 42,  43,  44]],\n",
            "\n",
            "          [[ 45,  46,  47],\n",
            "           [ 48,  49,  50],\n",
            "           [ 51,  52,  53],\n",
            "           [ 54,  55,  56],\n",
            "           [ 57,  58,  59]]],\n",
            "\n",
            "\n",
            "         [[[ 60,  61,  62],\n",
            "           [ 63,  64,  65],\n",
            "           [ 66,  67,  68],\n",
            "           [ 69,  70,  71],\n",
            "           [ 72,  73,  74]],\n",
            "\n",
            "          [[ 75,  76,  77],\n",
            "           [ 78,  79,  80],\n",
            "           [ 81,  82,  83],\n",
            "           [ 84,  85,  86],\n",
            "           [ 87,  88,  89]]]],\n",
            "\n",
            "\n",
            "\n",
            "        [[[[ 90,  91,  92],\n",
            "           [ 93,  94,  95],\n",
            "           [ 96,  97,  98],\n",
            "           [ 99, 100, 101],\n",
            "           [102, 103, 104]],\n",
            "\n",
            "          [[105, 106, 107],\n",
            "           [108, 109, 110],\n",
            "           [111, 112, 113],\n",
            "           [114, 115, 116],\n",
            "           [117, 118, 119]]],\n",
            "\n",
            "\n",
            "         [[[120, 121, 122],\n",
            "           [123, 124, 125],\n",
            "           [126, 127, 128],\n",
            "           [129, 130, 131],\n",
            "           [132, 133, 134]],\n",
            "\n",
            "          [[135, 136, 137],\n",
            "           [138, 139, 140],\n",
            "           [141, 142, 143],\n",
            "           [144, 145, 146],\n",
            "           [147, 148, 149]]],\n",
            "\n",
            "\n",
            "         [[[150, 151, 152],\n",
            "           [153, 154, 155],\n",
            "           [156, 157, 158],\n",
            "           [159, 160, 161],\n",
            "           [162, 163, 164]],\n",
            "\n",
            "          [[165, 166, 167],\n",
            "           [168, 169, 170],\n",
            "           [171, 172, 173],\n",
            "           [174, 175, 176],\n",
            "           [177, 178, 179]]]],\n",
            "\n",
            "\n",
            "\n",
            "        [[[[180, 181, 182],\n",
            "           [183, 184, 185],\n",
            "           [186, 187, 188],\n",
            "           [189, 190, 191],\n",
            "           [192, 193, 194]],\n",
            "\n",
            "          [[195, 196, 197],\n",
            "           [198, 199, 200],\n",
            "           [201, 202, 203],\n",
            "           [204, 205, 206],\n",
            "           [207, 208, 209]]],\n",
            "\n",
            "\n",
            "         [[[210, 211, 212],\n",
            "           [213, 214, 215],\n",
            "           [216, 217, 218],\n",
            "           [219, 220, 221],\n",
            "           [222, 223, 224]],\n",
            "\n",
            "          [[225, 226, 227],\n",
            "           [228, 229, 230],\n",
            "           [231, 232, 233],\n",
            "           [234, 235, 236],\n",
            "           [237, 238, 239]]],\n",
            "\n",
            "\n",
            "         [[[240, 241, 242],\n",
            "           [243, 244, 245],\n",
            "           [246, 247, 248],\n",
            "           [249, 250, 251],\n",
            "           [252, 253, 254]],\n",
            "\n",
            "          [[255, 256, 257],\n",
            "           [258, 259, 260],\n",
            "           [261, 262, 263],\n",
            "           [264, 265, 266],\n",
            "           [267, 268, 269]]]],\n",
            "\n",
            "\n",
            "\n",
            "        [[[[270, 271, 272],\n",
            "           [273, 274, 275],\n",
            "           [276, 277, 278],\n",
            "           [279, 280, 281],\n",
            "           [282, 283, 284]],\n",
            "\n",
            "          [[285, 286, 287],\n",
            "           [288, 289, 290],\n",
            "           [291, 292, 293],\n",
            "           [294, 295, 296],\n",
            "           [297, 298, 299]]],\n",
            "\n",
            "\n",
            "         [[[300, 301, 302],\n",
            "           [303, 304, 305],\n",
            "           [306, 307, 308],\n",
            "           [309, 310, 311],\n",
            "           [312, 313, 314]],\n",
            "\n",
            "          [[315, 316, 317],\n",
            "           [318, 319, 320],\n",
            "           [321, 322, 323],\n",
            "           [324, 325, 326],\n",
            "           [327, 328, 329]]],\n",
            "\n",
            "\n",
            "         [[[330, 331, 332],\n",
            "           [333, 334, 335],\n",
            "           [336, 337, 338],\n",
            "           [339, 340, 341],\n",
            "           [342, 343, 344]],\n",
            "\n",
            "          [[345, 346, 347],\n",
            "           [348, 349, 350],\n",
            "           [351, 352, 353],\n",
            "           [354, 355, 356],\n",
            "           [357, 358, 359]]]]])\n",
            "torch.Size([4, 3, 2, 5, 3])\n"
          ]
        }
      ]
    },
    {
      "cell_type": "code",
      "source": [
        "# Another way of Generating Tensor\n",
        "C = torch.tensor(\n",
        "    [[[[i + j + k + l for l in range(4)]\n",
        "       for k in range(3)]\n",
        "       for j in range(3)]\n",
        "       for i in range(1)]\n",
        ")\n",
        "\n",
        "print(C)\n",
        "print(C.shape)\n"
      ],
      "metadata": {
        "colab": {
          "base_uri": "https://localhost:8080/"
        },
        "id": "hZfKfXZb8a5r",
        "outputId": "ce63910e-283e-47a2-aa81-c901b72c73ed"
      },
      "execution_count": 21,
      "outputs": [
        {
          "output_type": "stream",
          "name": "stdout",
          "text": [
            "tensor([[[[0, 1, 2, 3],\n",
            "          [1, 2, 3, 4],\n",
            "          [2, 3, 4, 5]],\n",
            "\n",
            "         [[1, 2, 3, 4],\n",
            "          [2, 3, 4, 5],\n",
            "          [3, 4, 5, 6]],\n",
            "\n",
            "         [[2, 3, 4, 5],\n",
            "          [3, 4, 5, 6],\n",
            "          [4, 5, 6, 7]]]])\n",
            "torch.Size([1, 3, 3, 4])\n"
          ]
        }
      ]
    },
    {
      "cell_type": "markdown",
      "source": [
        "## Creating Tensors with Zeroes and Ones"
      ],
      "metadata": {
        "id": "gWhxBNcaOrUf"
      }
    },
    {
      "cell_type": "code",
      "source": [
        "zeroes = torch.zeros(3, 3, 4)\n",
        "zeroes"
      ],
      "metadata": {
        "colab": {
          "base_uri": "https://localhost:8080/"
        },
        "id": "PTkxdgdmOd3C",
        "outputId": "a9ad56b4-b351-417a-e0ba-e0b612133e38"
      },
      "execution_count": 22,
      "outputs": [
        {
          "output_type": "execute_result",
          "data": {
            "text/plain": [
              "tensor([[[0., 0., 0., 0.],\n",
              "         [0., 0., 0., 0.],\n",
              "         [0., 0., 0., 0.]],\n",
              "\n",
              "        [[0., 0., 0., 0.],\n",
              "         [0., 0., 0., 0.],\n",
              "         [0., 0., 0., 0.]],\n",
              "\n",
              "        [[0., 0., 0., 0.],\n",
              "         [0., 0., 0., 0.],\n",
              "         [0., 0., 0., 0.]]])"
            ]
          },
          "metadata": {},
          "execution_count": 22
        }
      ]
    },
    {
      "cell_type": "code",
      "source": [
        "zeroes * C"
      ],
      "metadata": {
        "colab": {
          "base_uri": "https://localhost:8080/"
        },
        "id": "NlyK_HtwOdz5",
        "outputId": "ee9449e7-fcd0-4929-f339-4a62d15dcb61"
      },
      "execution_count": 23,
      "outputs": [
        {
          "output_type": "execute_result",
          "data": {
            "text/plain": [
              "tensor([[[[0., 0., 0., 0.],\n",
              "          [0., 0., 0., 0.],\n",
              "          [0., 0., 0., 0.]],\n",
              "\n",
              "         [[0., 0., 0., 0.],\n",
              "          [0., 0., 0., 0.],\n",
              "          [0., 0., 0., 0.]],\n",
              "\n",
              "         [[0., 0., 0., 0.],\n",
              "          [0., 0., 0., 0.],\n",
              "          [0., 0., 0., 0.]]]])"
            ]
          },
          "metadata": {},
          "execution_count": 23
        }
      ]
    },
    {
      "cell_type": "code",
      "source": [
        "ones = torch.ones(3, 3, 4)\n",
        "ones"
      ],
      "metadata": {
        "colab": {
          "base_uri": "https://localhost:8080/"
        },
        "id": "COj1VW-_OdwB",
        "outputId": "7731a046-818e-4a0d-e10f-31b462e6d427"
      },
      "execution_count": 24,
      "outputs": [
        {
          "output_type": "execute_result",
          "data": {
            "text/plain": [
              "tensor([[[1., 1., 1., 1.],\n",
              "         [1., 1., 1., 1.],\n",
              "         [1., 1., 1., 1.]],\n",
              "\n",
              "        [[1., 1., 1., 1.],\n",
              "         [1., 1., 1., 1.],\n",
              "         [1., 1., 1., 1.]],\n",
              "\n",
              "        [[1., 1., 1., 1.],\n",
              "         [1., 1., 1., 1.],\n",
              "         [1., 1., 1., 1.]]])"
            ]
          },
          "metadata": {},
          "execution_count": 24
        }
      ]
    },
    {
      "cell_type": "code",
      "source": [
        "print(ones.ndim)\n",
        "print(ones.shape)\n",
        "print(ones.dtype)"
      ],
      "metadata": {
        "colab": {
          "base_uri": "https://localhost:8080/"
        },
        "id": "rlIbyDaiOdrg",
        "outputId": "41497c92-bdd8-4b2d-b494-ff8177b9719e"
      },
      "execution_count": 25,
      "outputs": [
        {
          "output_type": "stream",
          "name": "stdout",
          "text": [
            "3\n",
            "torch.Size([3, 3, 4])\n",
            "torch.float32\n"
          ]
        }
      ]
    },
    {
      "cell_type": "markdown",
      "source": [
        "## Creating Tensors like other Tensors"
      ],
      "metadata": {
        "id": "Zapb9RrKQ72x"
      }
    },
    {
      "cell_type": "code",
      "source": [
        "# It will create the same shape tensor like the given tensor, we can fill it up with ones or zeros.\n",
        "CT = torch.ones_like(input=A)\n",
        "CT"
      ],
      "metadata": {
        "colab": {
          "base_uri": "https://localhost:8080/"
        },
        "id": "6Udfyv96OdoH",
        "outputId": "430d441f-2db0-4bf9-87e0-cbc4b50f3c70"
      },
      "execution_count": 26,
      "outputs": [
        {
          "output_type": "execute_result",
          "data": {
            "text/plain": [
              "tensor([[[[1., 1., 1.],\n",
              "          [1., 1., 1.],\n",
              "          [1., 1., 1.]],\n",
              "\n",
              "         [[1., 1., 1.],\n",
              "          [1., 1., 1.],\n",
              "          [1., 1., 1.]],\n",
              "\n",
              "         [[1., 1., 1.],\n",
              "          [1., 1., 1.],\n",
              "          [1., 1., 1.]],\n",
              "\n",
              "         [[1., 1., 1.],\n",
              "          [1., 1., 1.],\n",
              "          [1., 1., 1.]]],\n",
              "\n",
              "\n",
              "        [[[1., 1., 1.],\n",
              "          [1., 1., 1.],\n",
              "          [1., 1., 1.]],\n",
              "\n",
              "         [[1., 1., 1.],\n",
              "          [1., 1., 1.],\n",
              "          [1., 1., 1.]],\n",
              "\n",
              "         [[1., 1., 1.],\n",
              "          [1., 1., 1.],\n",
              "          [1., 1., 1.]],\n",
              "\n",
              "         [[1., 1., 1.],\n",
              "          [1., 1., 1.],\n",
              "          [1., 1., 1.]]]])"
            ]
          },
          "metadata": {},
          "execution_count": 26
        }
      ]
    },
    {
      "cell_type": "code",
      "source": [
        "CT = torch.zeros_like(input=A)\n",
        "CT"
      ],
      "metadata": {
        "colab": {
          "base_uri": "https://localhost:8080/"
        },
        "id": "g6yM_95ZOdj-",
        "outputId": "77ac4104-53b7-4923-e43b-fb62423d0c8e"
      },
      "execution_count": 27,
      "outputs": [
        {
          "output_type": "execute_result",
          "data": {
            "text/plain": [
              "tensor([[[[0., 0., 0.],\n",
              "          [0., 0., 0.],\n",
              "          [0., 0., 0.]],\n",
              "\n",
              "         [[0., 0., 0.],\n",
              "          [0., 0., 0.],\n",
              "          [0., 0., 0.]],\n",
              "\n",
              "         [[0., 0., 0.],\n",
              "          [0., 0., 0.],\n",
              "          [0., 0., 0.]],\n",
              "\n",
              "         [[0., 0., 0.],\n",
              "          [0., 0., 0.],\n",
              "          [0., 0., 0.]]],\n",
              "\n",
              "\n",
              "        [[[0., 0., 0.],\n",
              "          [0., 0., 0.],\n",
              "          [0., 0., 0.]],\n",
              "\n",
              "         [[0., 0., 0.],\n",
              "          [0., 0., 0.],\n",
              "          [0., 0., 0.]],\n",
              "\n",
              "         [[0., 0., 0.],\n",
              "          [0., 0., 0.],\n",
              "          [0., 0., 0.]],\n",
              "\n",
              "         [[0., 0., 0.],\n",
              "          [0., 0., 0.],\n",
              "          [0., 0., 0.]]]])"
            ]
          },
          "metadata": {},
          "execution_count": 27
        }
      ]
    },
    {
      "cell_type": "markdown",
      "source": [
        "## Tensor Datatypes"
      ],
      "metadata": {
        "id": "8k7N9WZoSMoS"
      }
    },
    {
      "cell_type": "code",
      "source": [
        "fl_32_tensor = torch.tensor([2.0, 4.0, 7.0], dtype = None)\n",
        "fl_32_tensor"
      ],
      "metadata": {
        "colab": {
          "base_uri": "https://localhost:8080/"
        },
        "id": "ZzBvvzq7Rtht",
        "outputId": "a4b17f43-a181-427a-d264-66094f0fe4f1"
      },
      "execution_count": 28,
      "outputs": [
        {
          "output_type": "execute_result",
          "data": {
            "text/plain": [
              "tensor([2., 4., 7.])"
            ]
          },
          "metadata": {},
          "execution_count": 28
        }
      ]
    },
    {
      "cell_type": "code",
      "source": [
        "# Even after defining the Datatype as NONE, it will allot float32 by default\n",
        "fl_32_tensor.dtype"
      ],
      "metadata": {
        "colab": {
          "base_uri": "https://localhost:8080/"
        },
        "id": "H2sgtwxQSh_g",
        "outputId": "d9166da6-3efb-48f7-9cd1-32a54c1be528"
      },
      "execution_count": 29,
      "outputs": [
        {
          "output_type": "execute_result",
          "data": {
            "text/plain": [
              "torch.float32"
            ]
          },
          "metadata": {},
          "execution_count": 29
        }
      ]
    },
    {
      "cell_type": "code",
      "source": [
        "fl_16_tensor = torch.tensor([2.0, 4.0, 7.0], dtype = torch.float16, device=None, requires_grad=False)\n",
        "fl_16_tensor"
      ],
      "metadata": {
        "colab": {
          "base_uri": "https://localhost:8080/"
        },
        "id": "kkitkySoSyCt",
        "outputId": "c07a1249-c9e5-4f62-be0c-2ac4c09d6b77"
      },
      "execution_count": 30,
      "outputs": [
        {
          "output_type": "execute_result",
          "data": {
            "text/plain": [
              "tensor([2., 4., 7.], dtype=torch.float16)"
            ]
          },
          "metadata": {},
          "execution_count": 30
        }
      ]
    },
    {
      "cell_type": "code",
      "source": [
        "fl_16_tensor.dtype"
      ],
      "metadata": {
        "colab": {
          "base_uri": "https://localhost:8080/"
        },
        "id": "XFvM0tVCTN8C",
        "outputId": "abc23293-b6bb-42e3-dfed-4b2de2d18312"
      },
      "execution_count": 31,
      "outputs": [
        {
          "output_type": "execute_result",
          "data": {
            "text/plain": [
              "torch.float16"
            ]
          },
          "metadata": {},
          "execution_count": 31
        }
      ]
    },
    {
      "cell_type": "code",
      "source": [
        "# Changing the Datatype of float32 to float16\n",
        "fl_32_tensor = fl_32_tensor.type(torch.float16)\n",
        "fl_32_tensor"
      ],
      "metadata": {
        "colab": {
          "base_uri": "https://localhost:8080/"
        },
        "id": "siBoy3_HTTgF",
        "outputId": "66d4cbcc-ac06-40d9-9d15-33c9b82e78b0"
      },
      "execution_count": 32,
      "outputs": [
        {
          "output_type": "execute_result",
          "data": {
            "text/plain": [
              "tensor([2., 4., 7.], dtype=torch.float16)"
            ]
          },
          "metadata": {},
          "execution_count": 32
        }
      ]
    },
    {
      "cell_type": "markdown",
      "source": [
        "## Checking Tensor Device"
      ],
      "metadata": {
        "id": "x6-0Vrp-XjHw"
      }
    },
    {
      "cell_type": "code",
      "source": [
        "fl_16_tensor.device"
      ],
      "metadata": {
        "colab": {
          "base_uri": "https://localhost:8080/"
        },
        "id": "bZ3eeT5cas4r",
        "outputId": "a3c3bf9c-4993-480a-c9dd-f014bebc8473"
      },
      "execution_count": 33,
      "outputs": [
        {
          "output_type": "execute_result",
          "data": {
            "text/plain": [
              "device(type='cpu')"
            ]
          },
          "metadata": {},
          "execution_count": 33
        }
      ]
    },
    {
      "cell_type": "markdown",
      "source": [
        "## Tensor Operations"
      ],
      "metadata": {
        "id": "oI5MRnojXdEv"
      }
    },
    {
      "cell_type": "markdown",
      "source": [
        "#### Addition"
      ],
      "metadata": {
        "id": "TauSlejKX_l7"
      }
    },
    {
      "cell_type": "code",
      "source": [
        "tensor = torch.tensor([1,2,3])\n",
        "tensor = tensor + 10"
      ],
      "metadata": {
        "id": "Gvb_NJ3bXgqw"
      },
      "execution_count": 36,
      "outputs": []
    },
    {
      "cell_type": "markdown",
      "source": [
        "#### Subtraction"
      ],
      "metadata": {
        "id": "B1PpL3ejYCW3"
      }
    },
    {
      "cell_type": "code",
      "source": [
        "tensor - 10"
      ],
      "metadata": {
        "colab": {
          "base_uri": "https://localhost:8080/"
        },
        "id": "1uTM9IZ2XgnW",
        "outputId": "3eb9f748-fd26-4a51-b4ef-35010aa42714"
      },
      "execution_count": 37,
      "outputs": [
        {
          "output_type": "execute_result",
          "data": {
            "text/plain": [
              "tensor([1, 2, 3])"
            ]
          },
          "metadata": {},
          "execution_count": 37
        }
      ]
    },
    {
      "cell_type": "code",
      "source": [
        "tensor.sub(10) # Built-in Function for Subtraction"
      ],
      "metadata": {
        "colab": {
          "base_uri": "https://localhost:8080/"
        },
        "id": "W-gm1v56YS4h",
        "outputId": "5c8c9bb7-2816-48c8-de3a-b259cc1d1c4f"
      },
      "execution_count": 38,
      "outputs": [
        {
          "output_type": "execute_result",
          "data": {
            "text/plain": [
              "tensor([1, 2, 3])"
            ]
          },
          "metadata": {},
          "execution_count": 38
        }
      ]
    },
    {
      "cell_type": "markdown",
      "source": [
        "#### Multiplication"
      ],
      "metadata": {
        "id": "2XVbqOhbYE3b"
      }
    },
    {
      "cell_type": "code",
      "source": [
        "tensor * 10"
      ],
      "metadata": {
        "colab": {
          "base_uri": "https://localhost:8080/"
        },
        "id": "yEgqPJh_XgkU",
        "outputId": "358edc5f-a2b0-46f4-96b6-17c75431882c"
      },
      "execution_count": 39,
      "outputs": [
        {
          "output_type": "execute_result",
          "data": {
            "text/plain": [
              "tensor([110, 120, 130])"
            ]
          },
          "metadata": {},
          "execution_count": 39
        }
      ]
    },
    {
      "cell_type": "code",
      "source": [
        "tensor.mul(10)"
      ],
      "metadata": {
        "colab": {
          "base_uri": "https://localhost:8080/"
        },
        "id": "xrPClhA9Xghl",
        "outputId": "c0c97ed5-fc53-46e3-c3ec-4706880356e8"
      },
      "execution_count": 40,
      "outputs": [
        {
          "output_type": "execute_result",
          "data": {
            "text/plain": [
              "tensor([110, 120, 130])"
            ]
          },
          "metadata": {},
          "execution_count": 40
        }
      ]
    },
    {
      "cell_type": "markdown",
      "source": [
        "#### Element-Wise Multiplication, Dot Product, Matrix Multiplication"
      ],
      "metadata": {
        "id": "wTBnDfwyd11L"
      }
    },
    {
      "cell_type": "code",
      "source": [
        "tensor"
      ],
      "metadata": {
        "colab": {
          "base_uri": "https://localhost:8080/"
        },
        "id": "M-bWWQQ_Xfpw",
        "outputId": "8e9f9804-dafd-4d3f-d91f-54187718d12d"
      },
      "execution_count": 41,
      "outputs": [
        {
          "output_type": "execute_result",
          "data": {
            "text/plain": [
              "tensor([11, 12, 13])"
            ]
          },
          "metadata": {},
          "execution_count": 41
        }
      ]
    },
    {
      "cell_type": "code",
      "source": [
        "# Element - Wise Multiplication\n",
        "tensor * tensor"
      ],
      "metadata": {
        "colab": {
          "base_uri": "https://localhost:8080/"
        },
        "id": "TOjdG_S2d-gu",
        "outputId": "3b63eb1a-9eed-4eb8-8664-ac0edcc1c31f"
      },
      "execution_count": 42,
      "outputs": [
        {
          "output_type": "execute_result",
          "data": {
            "text/plain": [
              "tensor([121, 144, 169])"
            ]
          },
          "metadata": {},
          "execution_count": 42
        }
      ]
    },
    {
      "cell_type": "code",
      "source": [
        "# Dot Product (It is always equal to the summation of Element-Wise Multiplication Matrix)\n",
        "# So, in this case it is (121 + 144 + 169)\n",
        "torch.dot(tensor, tensor)"
      ],
      "metadata": {
        "colab": {
          "base_uri": "https://localhost:8080/"
        },
        "id": "Y15HpT4NeAon",
        "outputId": "79bb47ca-ffe0-456b-90bf-bf8ac2b85519"
      },
      "execution_count": 45,
      "outputs": [
        {
          "output_type": "execute_result",
          "data": {
            "text/plain": [
              "tensor(434)"
            ]
          },
          "metadata": {},
          "execution_count": 45
        }
      ]
    },
    {
      "cell_type": "code",
      "source": [
        "# matmul does dot product for 1D Vectors instead of Matrix Multiplication\n",
        "torch.matmul(tensor, tensor)"
      ],
      "metadata": {
        "colab": {
          "base_uri": "https://localhost:8080/"
        },
        "id": "8eGkcaOrfulW",
        "outputId": "5c87fd2b-1317-4940-8abb-2cd178aa1116"
      },
      "execution_count": 50,
      "outputs": [
        {
          "output_type": "execute_result",
          "data": {
            "text/plain": [
              "tensor(434)"
            ]
          },
          "metadata": {},
          "execution_count": 50
        }
      ]
    },
    {
      "cell_type": "code",
      "source": [
        "# Matrix Multiplication\n",
        "matrix1 = torch.tensor([[1,2,3],\n",
        "                        [4,5,6],\n",
        "                        [7,8,9]])\n",
        "\n",
        "matrix2 = torch.tensor([[1,2,3],\n",
        "                        [4,5,6],\n",
        "                        [7,8,9]])\n",
        "\n",
        "matrix1.matmul(matrix2)"
      ],
      "metadata": {
        "colab": {
          "base_uri": "https://localhost:8080/"
        },
        "id": "gbageX5yeK1V",
        "outputId": "a5f95af8-048b-4d89-824f-6afdf13f7475"
      },
      "execution_count": 49,
      "outputs": [
        {
          "output_type": "execute_result",
          "data": {
            "text/plain": [
              "tensor([[ 30,  36,  42],\n",
              "        [ 66,  81,  96],\n",
              "        [102, 126, 150]])"
            ]
          },
          "metadata": {},
          "execution_count": 49
        }
      ]
    },
    {
      "cell_type": "code",
      "source": [],
      "metadata": {
        "id": "P3mkuNzJeyQT"
      },
      "execution_count": null,
      "outputs": []
    }
  ]
}