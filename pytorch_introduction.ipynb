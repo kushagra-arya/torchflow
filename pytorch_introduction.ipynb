{
  "nbformat": 4,
  "nbformat_minor": 0,
  "metadata": {
    "colab": {
      "provenance": [],
      "toc_visible": true
    },
    "kernelspec": {
      "name": "python3",
      "display_name": "Python 3"
    },
    "language_info": {
      "name": "python"
    }
  },
  "cells": [
    {
      "cell_type": "code",
      "execution_count": 1,
      "metadata": {
        "colab": {
          "base_uri": "https://localhost:8080/"
        },
        "id": "cidEYuAjz61H",
        "outputId": "fa504bf2-5e8b-48b3-fda2-5d5579e090dc"
      },
      "outputs": [
        {
          "output_type": "stream",
          "name": "stdout",
          "text": [
            "2.8.0+cu126\n"
          ]
        }
      ],
      "source": [
        "import torch\n",
        "import pandas as pd\n",
        "import numpy as np\n",
        "import matplotlib.pyplot as plt\n",
        "import random\n",
        "\n",
        "print(torch.__version__)"
      ]
    },
    {
      "cell_type": "code",
      "source": [
        "# Creating a Tensor\n",
        "scalar = torch.tensor(7)\n",
        "scalar"
      ],
      "metadata": {
        "colab": {
          "base_uri": "https://localhost:8080/"
        },
        "id": "QTNID2jy0rns",
        "outputId": "8ac38156-74e6-45cd-aa6d-546200496bd7"
      },
      "execution_count": 2,
      "outputs": [
        {
          "output_type": "execute_result",
          "data": {
            "text/plain": [
              "tensor(7)"
            ]
          },
          "metadata": {},
          "execution_count": 2
        }
      ]
    },
    {
      "cell_type": "code",
      "source": [
        "scalar.ndim"
      ],
      "metadata": {
        "colab": {
          "base_uri": "https://localhost:8080/"
        },
        "id": "ccAtUmB6037o",
        "outputId": "18d2797e-5965-4ddc-9701-a217c5029327"
      },
      "execution_count": 3,
      "outputs": [
        {
          "output_type": "execute_result",
          "data": {
            "text/plain": [
              "0"
            ]
          },
          "metadata": {},
          "execution_count": 3
        }
      ]
    },
    {
      "cell_type": "code",
      "source": [
        "# Getting tensor back as Python item\n",
        "scalar.item()"
      ],
      "metadata": {
        "colab": {
          "base_uri": "https://localhost:8080/"
        },
        "id": "5ktSeLwh1U2P",
        "outputId": "dd304714-9899-4f9c-f496-ec813fdaaed6"
      },
      "execution_count": 4,
      "outputs": [
        {
          "output_type": "execute_result",
          "data": {
            "text/plain": [
              "7"
            ]
          },
          "metadata": {},
          "execution_count": 4
        }
      ]
    },
    {
      "cell_type": "code",
      "source": [
        "# Creating the Vector\n",
        "vector = torch.tensor([7,7])\n",
        "vector"
      ],
      "metadata": {
        "colab": {
          "base_uri": "https://localhost:8080/"
        },
        "id": "WE2qeH_51wsU",
        "outputId": "999444d1-cc0f-4edd-eab7-c6b273c6d29e"
      },
      "execution_count": 5,
      "outputs": [
        {
          "output_type": "execute_result",
          "data": {
            "text/plain": [
              "tensor([7, 7])"
            ]
          },
          "metadata": {},
          "execution_count": 5
        }
      ]
    },
    {
      "cell_type": "code",
      "source": [
        "vector.ndim"
      ],
      "metadata": {
        "colab": {
          "base_uri": "https://localhost:8080/"
        },
        "id": "zUgj9IVI15nI",
        "outputId": "e6de5314-05bd-472d-91ca-3b2c724305af"
      },
      "execution_count": 6,
      "outputs": [
        {
          "output_type": "execute_result",
          "data": {
            "text/plain": [
              "1"
            ]
          },
          "metadata": {},
          "execution_count": 6
        }
      ]
    },
    {
      "cell_type": "code",
      "source": [
        "vector.shape"
      ],
      "metadata": {
        "colab": {
          "base_uri": "https://localhost:8080/"
        },
        "id": "kLJAFhQf17mw",
        "outputId": "b3bdb5b8-a696-456f-a217-0192347b9097"
      },
      "execution_count": 7,
      "outputs": [
        {
          "output_type": "execute_result",
          "data": {
            "text/plain": [
              "torch.Size([2])"
            ]
          },
          "metadata": {},
          "execution_count": 7
        }
      ]
    },
    {
      "cell_type": "code",
      "source": [
        "# Creating the Matrix\n",
        "MATRIX = torch.tensor([[7,8],\n",
        "                       [9,10]])\n",
        "MATRIX"
      ],
      "metadata": {
        "colab": {
          "base_uri": "https://localhost:8080/"
        },
        "id": "prDeJ1ob2BVz",
        "outputId": "f82ad241-a521-4416-db42-180c23dab18c"
      },
      "execution_count": 8,
      "outputs": [
        {
          "output_type": "execute_result",
          "data": {
            "text/plain": [
              "tensor([[ 7,  8],\n",
              "        [ 9, 10]])"
            ]
          },
          "metadata": {},
          "execution_count": 8
        }
      ]
    },
    {
      "cell_type": "code",
      "source": [
        "MATRIX.ndim"
      ],
      "metadata": {
        "colab": {
          "base_uri": "https://localhost:8080/"
        },
        "id": "qZ71slOo2OIY",
        "outputId": "8c6f6611-e586-4472-9b4c-a77ddff7078a"
      },
      "execution_count": 9,
      "outputs": [
        {
          "output_type": "execute_result",
          "data": {
            "text/plain": [
              "2"
            ]
          },
          "metadata": {},
          "execution_count": 9
        }
      ]
    },
    {
      "cell_type": "code",
      "source": [
        "MATRIX[0]"
      ],
      "metadata": {
        "colab": {
          "base_uri": "https://localhost:8080/"
        },
        "id": "LckiIdye2Vvk",
        "outputId": "cba3e058-0f80-4ba8-9f80-245d87f3cabd"
      },
      "execution_count": 10,
      "outputs": [
        {
          "output_type": "execute_result",
          "data": {
            "text/plain": [
              "tensor([7, 8])"
            ]
          },
          "metadata": {},
          "execution_count": 10
        }
      ]
    },
    {
      "cell_type": "code",
      "source": [
        "MATRIX[1]"
      ],
      "metadata": {
        "colab": {
          "base_uri": "https://localhost:8080/"
        },
        "id": "yoqcJTfH2ck_",
        "outputId": "7b4cf9a5-f191-42c9-d33c-8c39679dafda"
      },
      "execution_count": 11,
      "outputs": [
        {
          "output_type": "execute_result",
          "data": {
            "text/plain": [
              "tensor([ 9, 10])"
            ]
          },
          "metadata": {},
          "execution_count": 11
        }
      ]
    },
    {
      "cell_type": "code",
      "source": [
        "MATRIX.shape"
      ],
      "metadata": {
        "colab": {
          "base_uri": "https://localhost:8080/"
        },
        "id": "qmA5Gy7I2df6",
        "outputId": "bf27cfaf-dede-4cde-8629-471ab996bdd1"
      },
      "execution_count": 12,
      "outputs": [
        {
          "output_type": "execute_result",
          "data": {
            "text/plain": [
              "torch.Size([2, 2])"
            ]
          },
          "metadata": {},
          "execution_count": 12
        }
      ]
    },
    {
      "cell_type": "code",
      "source": [
        "# TENSOR\n",
        "T = torch.tensor([[[1,2,3],\n",
        "                   [4,5,6],\n",
        "                   [7,8,9]]])\n",
        "T"
      ],
      "metadata": {
        "colab": {
          "base_uri": "https://localhost:8080/"
        },
        "id": "4v9yF9312fkM",
        "outputId": "f8048126-d0d9-4c6e-81df-f6dda501bad6"
      },
      "execution_count": 13,
      "outputs": [
        {
          "output_type": "execute_result",
          "data": {
            "text/plain": [
              "tensor([[[1, 2, 3],\n",
              "         [4, 5, 6],\n",
              "         [7, 8, 9]]])"
            ]
          },
          "metadata": {},
          "execution_count": 13
        }
      ]
    },
    {
      "cell_type": "code",
      "source": [
        "T.ndim"
      ],
      "metadata": {
        "colab": {
          "base_uri": "https://localhost:8080/"
        },
        "id": "CdkxCh1A2tZg",
        "outputId": "b6575ea6-8869-41cc-b552-2b7676fade16"
      },
      "execution_count": 14,
      "outputs": [
        {
          "output_type": "execute_result",
          "data": {
            "text/plain": [
              "3"
            ]
          },
          "metadata": {},
          "execution_count": 14
        }
      ]
    },
    {
      "cell_type": "code",
      "source": [
        "T.shape"
      ],
      "metadata": {
        "colab": {
          "base_uri": "https://localhost:8080/"
        },
        "id": "F4XIQJ7Z20N8",
        "outputId": "81159fc6-434f-416a-9824-9904da1bdef7"
      },
      "execution_count": 15,
      "outputs": [
        {
          "output_type": "execute_result",
          "data": {
            "text/plain": [
              "torch.Size([1, 3, 3])"
            ]
          },
          "metadata": {},
          "execution_count": 15
        }
      ]
    },
    {
      "cell_type": "code",
      "source": [
        "T[0]"
      ],
      "metadata": {
        "colab": {
          "base_uri": "https://localhost:8080/"
        },
        "id": "-32rP3Rt229r",
        "outputId": "75b5125b-6d96-4880-8d00-823c380f9b35"
      },
      "execution_count": 16,
      "outputs": [
        {
          "output_type": "execute_result",
          "data": {
            "text/plain": [
              "tensor([[1, 2, 3],\n",
              "        [4, 5, 6],\n",
              "        [7, 8, 9]])"
            ]
          },
          "metadata": {},
          "execution_count": 16
        }
      ]
    },
    {
      "cell_type": "code",
      "source": [
        "# Generating the Random Tensor\n",
        "A = torch.rand(2,4,3,3)\n",
        "A"
      ],
      "metadata": {
        "colab": {
          "base_uri": "https://localhost:8080/"
        },
        "id": "7lTPIhNc3F9P",
        "outputId": "1de04c03-6d19-4ee3-dec6-04634f537a31"
      },
      "execution_count": 17,
      "outputs": [
        {
          "output_type": "execute_result",
          "data": {
            "text/plain": [
              "tensor([[[[0.2908, 0.0865, 0.0595],\n",
              "          [0.4696, 0.9589, 0.2832],\n",
              "          [0.2241, 0.7116, 0.6921]],\n",
              "\n",
              "         [[0.0118, 0.8523, 0.6849],\n",
              "          [0.3814, 0.9735, 0.6875],\n",
              "          [0.1772, 0.1392, 0.3997]],\n",
              "\n",
              "         [[0.2893, 0.7965, 0.6569],\n",
              "          [0.5328, 0.8842, 0.8865],\n",
              "          [0.4243, 0.5006, 0.6854]],\n",
              "\n",
              "         [[0.9472, 0.7240, 0.1880],\n",
              "          [0.6097, 0.2483, 0.2013],\n",
              "          [0.2034, 0.3502, 0.1396]]],\n",
              "\n",
              "\n",
              "        [[[0.0269, 0.9195, 0.4690],\n",
              "          [0.4664, 0.8769, 0.1440],\n",
              "          [0.5868, 0.0741, 0.2336]],\n",
              "\n",
              "         [[0.2895, 0.1481, 0.2815],\n",
              "          [0.1168, 0.0405, 0.9547],\n",
              "          [0.6806, 0.8951, 0.8188]],\n",
              "\n",
              "         [[0.7718, 0.6538, 0.2557],\n",
              "          [0.9608, 0.9736, 0.7171],\n",
              "          [0.1623, 0.3031, 0.9715]],\n",
              "\n",
              "         [[0.1930, 0.9522, 0.0714],\n",
              "          [0.1891, 0.6257, 0.4811],\n",
              "          [0.0015, 0.5612, 0.5370]]]])"
            ]
          },
          "metadata": {},
          "execution_count": 17
        }
      ]
    },
    {
      "cell_type": "code",
      "source": [
        "A.ndim"
      ],
      "metadata": {
        "colab": {
          "base_uri": "https://localhost:8080/"
        },
        "id": "0B7fhlgm6InJ",
        "outputId": "f3c9aaf5-71dd-4f9d-eebf-2b75c047aad4"
      },
      "execution_count": 18,
      "outputs": [
        {
          "output_type": "execute_result",
          "data": {
            "text/plain": [
              "4"
            ]
          },
          "metadata": {},
          "execution_count": 18
        }
      ]
    },
    {
      "cell_type": "code",
      "source": [
        "A.shape"
      ],
      "metadata": {
        "colab": {
          "base_uri": "https://localhost:8080/"
        },
        "id": "GnI5reKj6NXf",
        "outputId": "cbcc91d0-dfa3-4df9-9095-d5de2ee03907"
      },
      "execution_count": 19,
      "outputs": [
        {
          "output_type": "execute_result",
          "data": {
            "text/plain": [
              "torch.Size([2, 4, 3, 3])"
            ]
          },
          "metadata": {},
          "execution_count": 19
        }
      ]
    },
    {
      "cell_type": "code",
      "source": [
        "# Using arange function to generate Random Tensors\n",
        "B = torch.arange(0,360,1).reshape(4, 3, 2, 5, 3)\n",
        "print(B)\n",
        "print(B.shape)"
      ],
      "metadata": {
        "colab": {
          "base_uri": "https://localhost:8080/"
        },
        "id": "zKU0hDW2-Eom",
        "outputId": "44a3bdb8-7a07-4961-b223-95114fa13b58"
      },
      "execution_count": 20,
      "outputs": [
        {
          "output_type": "stream",
          "name": "stdout",
          "text": [
            "tensor([[[[[  0,   1,   2],\n",
            "           [  3,   4,   5],\n",
            "           [  6,   7,   8],\n",
            "           [  9,  10,  11],\n",
            "           [ 12,  13,  14]],\n",
            "\n",
            "          [[ 15,  16,  17],\n",
            "           [ 18,  19,  20],\n",
            "           [ 21,  22,  23],\n",
            "           [ 24,  25,  26],\n",
            "           [ 27,  28,  29]]],\n",
            "\n",
            "\n",
            "         [[[ 30,  31,  32],\n",
            "           [ 33,  34,  35],\n",
            "           [ 36,  37,  38],\n",
            "           [ 39,  40,  41],\n",
            "           [ 42,  43,  44]],\n",
            "\n",
            "          [[ 45,  46,  47],\n",
            "           [ 48,  49,  50],\n",
            "           [ 51,  52,  53],\n",
            "           [ 54,  55,  56],\n",
            "           [ 57,  58,  59]]],\n",
            "\n",
            "\n",
            "         [[[ 60,  61,  62],\n",
            "           [ 63,  64,  65],\n",
            "           [ 66,  67,  68],\n",
            "           [ 69,  70,  71],\n",
            "           [ 72,  73,  74]],\n",
            "\n",
            "          [[ 75,  76,  77],\n",
            "           [ 78,  79,  80],\n",
            "           [ 81,  82,  83],\n",
            "           [ 84,  85,  86],\n",
            "           [ 87,  88,  89]]]],\n",
            "\n",
            "\n",
            "\n",
            "        [[[[ 90,  91,  92],\n",
            "           [ 93,  94,  95],\n",
            "           [ 96,  97,  98],\n",
            "           [ 99, 100, 101],\n",
            "           [102, 103, 104]],\n",
            "\n",
            "          [[105, 106, 107],\n",
            "           [108, 109, 110],\n",
            "           [111, 112, 113],\n",
            "           [114, 115, 116],\n",
            "           [117, 118, 119]]],\n",
            "\n",
            "\n",
            "         [[[120, 121, 122],\n",
            "           [123, 124, 125],\n",
            "           [126, 127, 128],\n",
            "           [129, 130, 131],\n",
            "           [132, 133, 134]],\n",
            "\n",
            "          [[135, 136, 137],\n",
            "           [138, 139, 140],\n",
            "           [141, 142, 143],\n",
            "           [144, 145, 146],\n",
            "           [147, 148, 149]]],\n",
            "\n",
            "\n",
            "         [[[150, 151, 152],\n",
            "           [153, 154, 155],\n",
            "           [156, 157, 158],\n",
            "           [159, 160, 161],\n",
            "           [162, 163, 164]],\n",
            "\n",
            "          [[165, 166, 167],\n",
            "           [168, 169, 170],\n",
            "           [171, 172, 173],\n",
            "           [174, 175, 176],\n",
            "           [177, 178, 179]]]],\n",
            "\n",
            "\n",
            "\n",
            "        [[[[180, 181, 182],\n",
            "           [183, 184, 185],\n",
            "           [186, 187, 188],\n",
            "           [189, 190, 191],\n",
            "           [192, 193, 194]],\n",
            "\n",
            "          [[195, 196, 197],\n",
            "           [198, 199, 200],\n",
            "           [201, 202, 203],\n",
            "           [204, 205, 206],\n",
            "           [207, 208, 209]]],\n",
            "\n",
            "\n",
            "         [[[210, 211, 212],\n",
            "           [213, 214, 215],\n",
            "           [216, 217, 218],\n",
            "           [219, 220, 221],\n",
            "           [222, 223, 224]],\n",
            "\n",
            "          [[225, 226, 227],\n",
            "           [228, 229, 230],\n",
            "           [231, 232, 233],\n",
            "           [234, 235, 236],\n",
            "           [237, 238, 239]]],\n",
            "\n",
            "\n",
            "         [[[240, 241, 242],\n",
            "           [243, 244, 245],\n",
            "           [246, 247, 248],\n",
            "           [249, 250, 251],\n",
            "           [252, 253, 254]],\n",
            "\n",
            "          [[255, 256, 257],\n",
            "           [258, 259, 260],\n",
            "           [261, 262, 263],\n",
            "           [264, 265, 266],\n",
            "           [267, 268, 269]]]],\n",
            "\n",
            "\n",
            "\n",
            "        [[[[270, 271, 272],\n",
            "           [273, 274, 275],\n",
            "           [276, 277, 278],\n",
            "           [279, 280, 281],\n",
            "           [282, 283, 284]],\n",
            "\n",
            "          [[285, 286, 287],\n",
            "           [288, 289, 290],\n",
            "           [291, 292, 293],\n",
            "           [294, 295, 296],\n",
            "           [297, 298, 299]]],\n",
            "\n",
            "\n",
            "         [[[300, 301, 302],\n",
            "           [303, 304, 305],\n",
            "           [306, 307, 308],\n",
            "           [309, 310, 311],\n",
            "           [312, 313, 314]],\n",
            "\n",
            "          [[315, 316, 317],\n",
            "           [318, 319, 320],\n",
            "           [321, 322, 323],\n",
            "           [324, 325, 326],\n",
            "           [327, 328, 329]]],\n",
            "\n",
            "\n",
            "         [[[330, 331, 332],\n",
            "           [333, 334, 335],\n",
            "           [336, 337, 338],\n",
            "           [339, 340, 341],\n",
            "           [342, 343, 344]],\n",
            "\n",
            "          [[345, 346, 347],\n",
            "           [348, 349, 350],\n",
            "           [351, 352, 353],\n",
            "           [354, 355, 356],\n",
            "           [357, 358, 359]]]]])\n",
            "torch.Size([4, 3, 2, 5, 3])\n"
          ]
        }
      ]
    },
    {
      "cell_type": "code",
      "source": [
        "# Another way of Generating Tensor\n",
        "C = torch.tensor(\n",
        "    [[[[i + j + k + l for l in range(4)]\n",
        "       for k in range(3)]\n",
        "       for j in range(3)]\n",
        "       for i in range(1)]\n",
        ")\n",
        "\n",
        "print(C)\n",
        "print(C.shape)\n"
      ],
      "metadata": {
        "colab": {
          "base_uri": "https://localhost:8080/"
        },
        "id": "hZfKfXZb8a5r",
        "outputId": "b22bec29-7211-47e0-b60b-430127ba60cd"
      },
      "execution_count": 21,
      "outputs": [
        {
          "output_type": "stream",
          "name": "stdout",
          "text": [
            "tensor([[[[0, 1, 2, 3],\n",
            "          [1, 2, 3, 4],\n",
            "          [2, 3, 4, 5]],\n",
            "\n",
            "         [[1, 2, 3, 4],\n",
            "          [2, 3, 4, 5],\n",
            "          [3, 4, 5, 6]],\n",
            "\n",
            "         [[2, 3, 4, 5],\n",
            "          [3, 4, 5, 6],\n",
            "          [4, 5, 6, 7]]]])\n",
            "torch.Size([1, 3, 3, 4])\n"
          ]
        }
      ]
    },
    {
      "cell_type": "markdown",
      "source": [
        "## Creating Tensors with Zeroes and Ones"
      ],
      "metadata": {
        "id": "gWhxBNcaOrUf"
      }
    },
    {
      "cell_type": "code",
      "source": [
        "zeroes = torch.zeros(3, 3, 4)\n",
        "zeroes"
      ],
      "metadata": {
        "colab": {
          "base_uri": "https://localhost:8080/"
        },
        "id": "PTkxdgdmOd3C",
        "outputId": "f35feedb-2e61-4146-e29d-5d6efa5188ea"
      },
      "execution_count": 22,
      "outputs": [
        {
          "output_type": "execute_result",
          "data": {
            "text/plain": [
              "tensor([[[0., 0., 0., 0.],\n",
              "         [0., 0., 0., 0.],\n",
              "         [0., 0., 0., 0.]],\n",
              "\n",
              "        [[0., 0., 0., 0.],\n",
              "         [0., 0., 0., 0.],\n",
              "         [0., 0., 0., 0.]],\n",
              "\n",
              "        [[0., 0., 0., 0.],\n",
              "         [0., 0., 0., 0.],\n",
              "         [0., 0., 0., 0.]]])"
            ]
          },
          "metadata": {},
          "execution_count": 22
        }
      ]
    },
    {
      "cell_type": "code",
      "source": [
        "zeroes * C"
      ],
      "metadata": {
        "colab": {
          "base_uri": "https://localhost:8080/"
        },
        "id": "NlyK_HtwOdz5",
        "outputId": "5ee96a63-6db0-49f6-be2d-f5c33d3331d5"
      },
      "execution_count": 23,
      "outputs": [
        {
          "output_type": "execute_result",
          "data": {
            "text/plain": [
              "tensor([[[[0., 0., 0., 0.],\n",
              "          [0., 0., 0., 0.],\n",
              "          [0., 0., 0., 0.]],\n",
              "\n",
              "         [[0., 0., 0., 0.],\n",
              "          [0., 0., 0., 0.],\n",
              "          [0., 0., 0., 0.]],\n",
              "\n",
              "         [[0., 0., 0., 0.],\n",
              "          [0., 0., 0., 0.],\n",
              "          [0., 0., 0., 0.]]]])"
            ]
          },
          "metadata": {},
          "execution_count": 23
        }
      ]
    },
    {
      "cell_type": "code",
      "source": [
        "ones = torch.ones(3, 3, 4)\n",
        "ones"
      ],
      "metadata": {
        "colab": {
          "base_uri": "https://localhost:8080/"
        },
        "id": "COj1VW-_OdwB",
        "outputId": "a4227842-1c38-4216-d9a9-d6fe4c902ef8"
      },
      "execution_count": 24,
      "outputs": [
        {
          "output_type": "execute_result",
          "data": {
            "text/plain": [
              "tensor([[[1., 1., 1., 1.],\n",
              "         [1., 1., 1., 1.],\n",
              "         [1., 1., 1., 1.]],\n",
              "\n",
              "        [[1., 1., 1., 1.],\n",
              "         [1., 1., 1., 1.],\n",
              "         [1., 1., 1., 1.]],\n",
              "\n",
              "        [[1., 1., 1., 1.],\n",
              "         [1., 1., 1., 1.],\n",
              "         [1., 1., 1., 1.]]])"
            ]
          },
          "metadata": {},
          "execution_count": 24
        }
      ]
    },
    {
      "cell_type": "code",
      "source": [
        "print(ones.ndim)\n",
        "print(ones.shape)\n",
        "print(ones.dtype)"
      ],
      "metadata": {
        "colab": {
          "base_uri": "https://localhost:8080/"
        },
        "id": "rlIbyDaiOdrg",
        "outputId": "fe1e7d48-17e5-44e7-d3cf-169439d8ad36"
      },
      "execution_count": 25,
      "outputs": [
        {
          "output_type": "stream",
          "name": "stdout",
          "text": [
            "3\n",
            "torch.Size([3, 3, 4])\n",
            "torch.float32\n"
          ]
        }
      ]
    },
    {
      "cell_type": "markdown",
      "source": [
        "## Creating Tensors like other Tensors"
      ],
      "metadata": {
        "id": "Zapb9RrKQ72x"
      }
    },
    {
      "cell_type": "code",
      "source": [
        "# It will create the same shape tensor like the given tensor, we can fill it up with ones or zeros.\n",
        "CT = torch.ones_like(input=A)\n",
        "CT"
      ],
      "metadata": {
        "colab": {
          "base_uri": "https://localhost:8080/"
        },
        "id": "6Udfyv96OdoH",
        "outputId": "fb494a6c-1ab3-4ab8-e7d6-1619edb663c0"
      },
      "execution_count": 26,
      "outputs": [
        {
          "output_type": "execute_result",
          "data": {
            "text/plain": [
              "tensor([[[[1., 1., 1.],\n",
              "          [1., 1., 1.],\n",
              "          [1., 1., 1.]],\n",
              "\n",
              "         [[1., 1., 1.],\n",
              "          [1., 1., 1.],\n",
              "          [1., 1., 1.]],\n",
              "\n",
              "         [[1., 1., 1.],\n",
              "          [1., 1., 1.],\n",
              "          [1., 1., 1.]],\n",
              "\n",
              "         [[1., 1., 1.],\n",
              "          [1., 1., 1.],\n",
              "          [1., 1., 1.]]],\n",
              "\n",
              "\n",
              "        [[[1., 1., 1.],\n",
              "          [1., 1., 1.],\n",
              "          [1., 1., 1.]],\n",
              "\n",
              "         [[1., 1., 1.],\n",
              "          [1., 1., 1.],\n",
              "          [1., 1., 1.]],\n",
              "\n",
              "         [[1., 1., 1.],\n",
              "          [1., 1., 1.],\n",
              "          [1., 1., 1.]],\n",
              "\n",
              "         [[1., 1., 1.],\n",
              "          [1., 1., 1.],\n",
              "          [1., 1., 1.]]]])"
            ]
          },
          "metadata": {},
          "execution_count": 26
        }
      ]
    },
    {
      "cell_type": "code",
      "source": [
        "CT = torch.zeros_like(input=A)\n",
        "CT"
      ],
      "metadata": {
        "colab": {
          "base_uri": "https://localhost:8080/"
        },
        "id": "g6yM_95ZOdj-",
        "outputId": "f9c27104-b74f-475d-b54a-afef9df8fbb0"
      },
      "execution_count": 27,
      "outputs": [
        {
          "output_type": "execute_result",
          "data": {
            "text/plain": [
              "tensor([[[[0., 0., 0.],\n",
              "          [0., 0., 0.],\n",
              "          [0., 0., 0.]],\n",
              "\n",
              "         [[0., 0., 0.],\n",
              "          [0., 0., 0.],\n",
              "          [0., 0., 0.]],\n",
              "\n",
              "         [[0., 0., 0.],\n",
              "          [0., 0., 0.],\n",
              "          [0., 0., 0.]],\n",
              "\n",
              "         [[0., 0., 0.],\n",
              "          [0., 0., 0.],\n",
              "          [0., 0., 0.]]],\n",
              "\n",
              "\n",
              "        [[[0., 0., 0.],\n",
              "          [0., 0., 0.],\n",
              "          [0., 0., 0.]],\n",
              "\n",
              "         [[0., 0., 0.],\n",
              "          [0., 0., 0.],\n",
              "          [0., 0., 0.]],\n",
              "\n",
              "         [[0., 0., 0.],\n",
              "          [0., 0., 0.],\n",
              "          [0., 0., 0.]],\n",
              "\n",
              "         [[0., 0., 0.],\n",
              "          [0., 0., 0.],\n",
              "          [0., 0., 0.]]]])"
            ]
          },
          "metadata": {},
          "execution_count": 27
        }
      ]
    },
    {
      "cell_type": "markdown",
      "source": [
        "## Tensor Datatypes"
      ],
      "metadata": {
        "id": "8k7N9WZoSMoS"
      }
    },
    {
      "cell_type": "code",
      "source": [
        "fl_32_tensor = torch.tensor([2.0, 4.0, 7.0], dtype = None)\n",
        "fl_32_tensor"
      ],
      "metadata": {
        "colab": {
          "base_uri": "https://localhost:8080/"
        },
        "id": "ZzBvvzq7Rtht",
        "outputId": "c7286058-4b4f-4eb4-c8a5-2c72cdad6e34"
      },
      "execution_count": 28,
      "outputs": [
        {
          "output_type": "execute_result",
          "data": {
            "text/plain": [
              "tensor([2., 4., 7.])"
            ]
          },
          "metadata": {},
          "execution_count": 28
        }
      ]
    },
    {
      "cell_type": "code",
      "source": [
        "# Even after defining the Datatype as NONE, it will allot float32 by default\n",
        "fl_32_tensor.dtype"
      ],
      "metadata": {
        "colab": {
          "base_uri": "https://localhost:8080/"
        },
        "id": "H2sgtwxQSh_g",
        "outputId": "7370487a-abec-4ec8-fcb4-0a5951a08475"
      },
      "execution_count": 29,
      "outputs": [
        {
          "output_type": "execute_result",
          "data": {
            "text/plain": [
              "torch.float32"
            ]
          },
          "metadata": {},
          "execution_count": 29
        }
      ]
    },
    {
      "cell_type": "code",
      "source": [
        "fl_16_tensor = torch.tensor([2.0, 4.0, 7.0], dtype = torch.float16, device=None, requires_grad=False)\n",
        "fl_16_tensor"
      ],
      "metadata": {
        "colab": {
          "base_uri": "https://localhost:8080/"
        },
        "id": "kkitkySoSyCt",
        "outputId": "d04a3111-1221-4f20-c89c-e877e37b9c53"
      },
      "execution_count": 30,
      "outputs": [
        {
          "output_type": "execute_result",
          "data": {
            "text/plain": [
              "tensor([2., 4., 7.], dtype=torch.float16)"
            ]
          },
          "metadata": {},
          "execution_count": 30
        }
      ]
    },
    {
      "cell_type": "code",
      "source": [
        "fl_16_tensor.dtype"
      ],
      "metadata": {
        "colab": {
          "base_uri": "https://localhost:8080/"
        },
        "id": "XFvM0tVCTN8C",
        "outputId": "65c6a310-469b-4983-83e5-71a83a383c38"
      },
      "execution_count": 31,
      "outputs": [
        {
          "output_type": "execute_result",
          "data": {
            "text/plain": [
              "torch.float16"
            ]
          },
          "metadata": {},
          "execution_count": 31
        }
      ]
    },
    {
      "cell_type": "code",
      "source": [
        "# Changing the Datatype of float32 to float16\n",
        "fl_32_tensor = fl_32_tensor.type(torch.float16)\n",
        "fl_32_tensor"
      ],
      "metadata": {
        "colab": {
          "base_uri": "https://localhost:8080/"
        },
        "id": "siBoy3_HTTgF",
        "outputId": "a3b3403e-29e2-41cb-d6f6-7ea884baaa84"
      },
      "execution_count": 32,
      "outputs": [
        {
          "output_type": "execute_result",
          "data": {
            "text/plain": [
              "tensor([2., 4., 7.], dtype=torch.float16)"
            ]
          },
          "metadata": {},
          "execution_count": 32
        }
      ]
    },
    {
      "cell_type": "markdown",
      "source": [
        "## Checking Tensor Device"
      ],
      "metadata": {
        "id": "x6-0Vrp-XjHw"
      }
    },
    {
      "cell_type": "code",
      "source": [
        "fl_16_tensor.device"
      ],
      "metadata": {
        "colab": {
          "base_uri": "https://localhost:8080/"
        },
        "id": "bZ3eeT5cas4r",
        "outputId": "a9606429-0483-471a-d4b3-e8e0e11ff96d"
      },
      "execution_count": 33,
      "outputs": [
        {
          "output_type": "execute_result",
          "data": {
            "text/plain": [
              "device(type='cpu')"
            ]
          },
          "metadata": {},
          "execution_count": 33
        }
      ]
    },
    {
      "cell_type": "markdown",
      "source": [
        "## Tensor Operations"
      ],
      "metadata": {
        "id": "oI5MRnojXdEv"
      }
    },
    {
      "cell_type": "markdown",
      "source": [
        "#### Addition"
      ],
      "metadata": {
        "id": "TauSlejKX_l7"
      }
    },
    {
      "cell_type": "code",
      "source": [
        "tensor = torch.tensor([1,2,3])\n",
        "tensor = tensor + 10"
      ],
      "metadata": {
        "id": "Gvb_NJ3bXgqw"
      },
      "execution_count": 34,
      "outputs": []
    },
    {
      "cell_type": "markdown",
      "source": [
        "#### Subtraction"
      ],
      "metadata": {
        "id": "B1PpL3ejYCW3"
      }
    },
    {
      "cell_type": "code",
      "source": [
        "tensor - 10"
      ],
      "metadata": {
        "colab": {
          "base_uri": "https://localhost:8080/"
        },
        "id": "1uTM9IZ2XgnW",
        "outputId": "9bcb265c-56a7-462d-961a-217cf65f84e9"
      },
      "execution_count": 35,
      "outputs": [
        {
          "output_type": "execute_result",
          "data": {
            "text/plain": [
              "tensor([1, 2, 3])"
            ]
          },
          "metadata": {},
          "execution_count": 35
        }
      ]
    },
    {
      "cell_type": "code",
      "source": [
        "tensor.sub(10) # Built-in Function for Subtraction"
      ],
      "metadata": {
        "colab": {
          "base_uri": "https://localhost:8080/"
        },
        "id": "W-gm1v56YS4h",
        "outputId": "394fe0cf-f938-40b6-ab86-182c15404aa7"
      },
      "execution_count": 36,
      "outputs": [
        {
          "output_type": "execute_result",
          "data": {
            "text/plain": [
              "tensor([1, 2, 3])"
            ]
          },
          "metadata": {},
          "execution_count": 36
        }
      ]
    },
    {
      "cell_type": "markdown",
      "source": [
        "#### Multiplication"
      ],
      "metadata": {
        "id": "2XVbqOhbYE3b"
      }
    },
    {
      "cell_type": "code",
      "source": [
        "tensor * 10"
      ],
      "metadata": {
        "colab": {
          "base_uri": "https://localhost:8080/"
        },
        "id": "yEgqPJh_XgkU",
        "outputId": "6f50308a-3de8-4b1a-ae22-fb838664f728"
      },
      "execution_count": 37,
      "outputs": [
        {
          "output_type": "execute_result",
          "data": {
            "text/plain": [
              "tensor([110, 120, 130])"
            ]
          },
          "metadata": {},
          "execution_count": 37
        }
      ]
    },
    {
      "cell_type": "code",
      "source": [
        "tensor.mul(10)"
      ],
      "metadata": {
        "colab": {
          "base_uri": "https://localhost:8080/"
        },
        "id": "xrPClhA9Xghl",
        "outputId": "e2ab1752-90eb-46e4-81c1-4bc8a4866e40"
      },
      "execution_count": 38,
      "outputs": [
        {
          "output_type": "execute_result",
          "data": {
            "text/plain": [
              "tensor([110, 120, 130])"
            ]
          },
          "metadata": {},
          "execution_count": 38
        }
      ]
    },
    {
      "cell_type": "markdown",
      "source": [
        "#### Element-Wise Multiplication, Dot Product, Matrix Multiplication"
      ],
      "metadata": {
        "id": "wTBnDfwyd11L"
      }
    },
    {
      "cell_type": "code",
      "source": [
        "tensor"
      ],
      "metadata": {
        "colab": {
          "base_uri": "https://localhost:8080/"
        },
        "id": "M-bWWQQ_Xfpw",
        "outputId": "95c84405-20e6-4d7d-e760-9352ae6fc9bd"
      },
      "execution_count": 39,
      "outputs": [
        {
          "output_type": "execute_result",
          "data": {
            "text/plain": [
              "tensor([11, 12, 13])"
            ]
          },
          "metadata": {},
          "execution_count": 39
        }
      ]
    },
    {
      "cell_type": "code",
      "source": [
        "# Element - Wise Multiplication\n",
        "tensor * tensor"
      ],
      "metadata": {
        "colab": {
          "base_uri": "https://localhost:8080/"
        },
        "id": "TOjdG_S2d-gu",
        "outputId": "6faf170a-fd3d-49b4-d6cf-c071fc2de527"
      },
      "execution_count": 40,
      "outputs": [
        {
          "output_type": "execute_result",
          "data": {
            "text/plain": [
              "tensor([121, 144, 169])"
            ]
          },
          "metadata": {},
          "execution_count": 40
        }
      ]
    },
    {
      "cell_type": "code",
      "source": [
        "# Dot Product (It is always equal to the summation of Element-Wise Multiplication Matrix)\n",
        "# So, in this case it is (121 + 144 + 169)\n",
        "torch.dot(tensor, tensor)"
      ],
      "metadata": {
        "colab": {
          "base_uri": "https://localhost:8080/"
        },
        "id": "Y15HpT4NeAon",
        "outputId": "21e42a3b-5ba3-4b99-df03-058cdde05885"
      },
      "execution_count": 41,
      "outputs": [
        {
          "output_type": "execute_result",
          "data": {
            "text/plain": [
              "tensor(434)"
            ]
          },
          "metadata": {},
          "execution_count": 41
        }
      ]
    },
    {
      "cell_type": "code",
      "source": [
        "# matmul does dot product for 1D Vectors instead of Matrix Multiplication\n",
        "torch.matmul(tensor, tensor)"
      ],
      "metadata": {
        "colab": {
          "base_uri": "https://localhost:8080/"
        },
        "id": "8eGkcaOrfulW",
        "outputId": "4d35f854-9bf7-4ec4-be66-ee62165567ef"
      },
      "execution_count": 42,
      "outputs": [
        {
          "output_type": "execute_result",
          "data": {
            "text/plain": [
              "tensor(434)"
            ]
          },
          "metadata": {},
          "execution_count": 42
        }
      ]
    },
    {
      "cell_type": "code",
      "source": [
        "# Matrix Multiplication\n",
        "matrix1 = torch.tensor([[1,2,3],\n",
        "                        [4,5,6],\n",
        "                        [7,8,9]])\n",
        "\n",
        "matrix2 = torch.tensor([[1,2,3],\n",
        "                        [4,5,6],\n",
        "                        [7,8,9]])\n",
        "\n",
        "matrix1.matmul(matrix2)"
      ],
      "metadata": {
        "colab": {
          "base_uri": "https://localhost:8080/"
        },
        "id": "gbageX5yeK1V",
        "outputId": "505804d3-9ace-4497-870b-c501f4abc59b"
      },
      "execution_count": 43,
      "outputs": [
        {
          "output_type": "execute_result",
          "data": {
            "text/plain": [
              "tensor([[ 30,  36,  42],\n",
              "        [ 66,  81,  96],\n",
              "        [102, 126, 150]])"
            ]
          },
          "metadata": {},
          "execution_count": 43
        }
      ]
    },
    {
      "cell_type": "markdown",
      "source": [
        "### Tensor Aggregation (Min, Max, Mean, Sum, etc.)"
      ],
      "metadata": {
        "id": "OOC7XUtpNAfQ"
      }
    },
    {
      "cell_type": "code",
      "source": [
        "x = torch.arange(0, 101, 4)\n",
        "x"
      ],
      "metadata": {
        "id": "P3mkuNzJeyQT",
        "colab": {
          "base_uri": "https://localhost:8080/"
        },
        "outputId": "d041105d-c7eb-4d5d-8155-fc99a4e89740"
      },
      "execution_count": 44,
      "outputs": [
        {
          "output_type": "execute_result",
          "data": {
            "text/plain": [
              "tensor([  0,   4,   8,  12,  16,  20,  24,  28,  32,  36,  40,  44,  48,  52,\n",
              "         56,  60,  64,  68,  72,  76,  80,  84,  88,  92,  96, 100])"
            ]
          },
          "metadata": {},
          "execution_count": 44
        }
      ]
    },
    {
      "cell_type": "code",
      "source": [
        "x.dtype"
      ],
      "metadata": {
        "colab": {
          "base_uri": "https://localhost:8080/"
        },
        "id": "dR7FJ26UPePg",
        "outputId": "31018ac8-098b-462b-9cca-412b40f736b6"
      },
      "execution_count": 45,
      "outputs": [
        {
          "output_type": "execute_result",
          "data": {
            "text/plain": [
              "torch.int64"
            ]
          },
          "metadata": {},
          "execution_count": 45
        }
      ]
    },
    {
      "cell_type": "markdown",
      "source": [
        "#### Minimum"
      ],
      "metadata": {
        "id": "gio8Hvl6PBnL"
      }
    },
    {
      "cell_type": "code",
      "source": [
        "torch.min(x)"
      ],
      "metadata": {
        "colab": {
          "base_uri": "https://localhost:8080/"
        },
        "id": "U-LzrizkNbKd",
        "outputId": "a5bfcb77-f9c5-4010-fecc-9200484024b7"
      },
      "execution_count": 46,
      "outputs": [
        {
          "output_type": "execute_result",
          "data": {
            "text/plain": [
              "tensor(0)"
            ]
          },
          "metadata": {},
          "execution_count": 46
        }
      ]
    },
    {
      "cell_type": "code",
      "source": [
        "x.min()"
      ],
      "metadata": {
        "colab": {
          "base_uri": "https://localhost:8080/"
        },
        "id": "00lBMy3NO9Bm",
        "outputId": "4f116a94-2770-4d7a-c9bd-e7d2bfd5571d"
      },
      "execution_count": 47,
      "outputs": [
        {
          "output_type": "execute_result",
          "data": {
            "text/plain": [
              "tensor(0)"
            ]
          },
          "metadata": {},
          "execution_count": 47
        }
      ]
    },
    {
      "cell_type": "markdown",
      "source": [
        "#### Maximum"
      ],
      "metadata": {
        "id": "4oGHh9RbPEHk"
      }
    },
    {
      "cell_type": "code",
      "source": [
        "torch.max(x)"
      ],
      "metadata": {
        "colab": {
          "base_uri": "https://localhost:8080/"
        },
        "id": "efHp8kwxO_h0",
        "outputId": "75626d6e-1342-47fa-ea35-f8a9750f6591"
      },
      "execution_count": 48,
      "outputs": [
        {
          "output_type": "execute_result",
          "data": {
            "text/plain": [
              "tensor(100)"
            ]
          },
          "metadata": {},
          "execution_count": 48
        }
      ]
    },
    {
      "cell_type": "code",
      "source": [
        "x.max()"
      ],
      "metadata": {
        "colab": {
          "base_uri": "https://localhost:8080/"
        },
        "id": "6HVGbK8JPK1p",
        "outputId": "fcb5d83b-23f2-4247-e3d0-cdad6f2de9c8"
      },
      "execution_count": 49,
      "outputs": [
        {
          "output_type": "execute_result",
          "data": {
            "text/plain": [
              "tensor(100)"
            ]
          },
          "metadata": {},
          "execution_count": 49
        }
      ]
    },
    {
      "cell_type": "markdown",
      "source": [
        "#### Mean"
      ],
      "metadata": {
        "id": "UhreSBJBPN7m"
      }
    },
    {
      "cell_type": "code",
      "source": [
        "torch.mean(x.type(torch.float32)) # Changed the Datatype to float32 as torch.mean() requires float32 datatype"
      ],
      "metadata": {
        "colab": {
          "base_uri": "https://localhost:8080/"
        },
        "id": "X4MScdjzPMKJ",
        "outputId": "e0a3baa8-30cc-496c-dfe4-5f6de666e4d0"
      },
      "execution_count": 50,
      "outputs": [
        {
          "output_type": "execute_result",
          "data": {
            "text/plain": [
              "tensor(50.)"
            ]
          },
          "metadata": {},
          "execution_count": 50
        }
      ]
    },
    {
      "cell_type": "code",
      "source": [
        "x.type(torch.float32).mean()"
      ],
      "metadata": {
        "colab": {
          "base_uri": "https://localhost:8080/"
        },
        "id": "ySJejGG1PQSy",
        "outputId": "145845d0-660c-4abb-f3f9-e56e2ba11691"
      },
      "execution_count": 51,
      "outputs": [
        {
          "output_type": "execute_result",
          "data": {
            "text/plain": [
              "tensor(50.)"
            ]
          },
          "metadata": {},
          "execution_count": 51
        }
      ]
    },
    {
      "cell_type": "markdown",
      "source": [
        "#### Sum"
      ],
      "metadata": {
        "id": "bYgzY5OoQT1P"
      }
    },
    {
      "cell_type": "code",
      "source": [
        "torch.sum(x)"
      ],
      "metadata": {
        "colab": {
          "base_uri": "https://localhost:8080/"
        },
        "id": "yYImyr61P5EC",
        "outputId": "75880e2d-503d-44d3-8aaa-3984f7f1fec2"
      },
      "execution_count": 52,
      "outputs": [
        {
          "output_type": "execute_result",
          "data": {
            "text/plain": [
              "tensor(1300)"
            ]
          },
          "metadata": {},
          "execution_count": 52
        }
      ]
    },
    {
      "cell_type": "code",
      "source": [
        "x.sum()"
      ],
      "metadata": {
        "colab": {
          "base_uri": "https://localhost:8080/"
        },
        "id": "4F12yfpdQWSQ",
        "outputId": "3fb0cbc8-6a39-40eb-fa97-efb5d479f613"
      },
      "execution_count": 53,
      "outputs": [
        {
          "output_type": "execute_result",
          "data": {
            "text/plain": [
              "tensor(1300)"
            ]
          },
          "metadata": {},
          "execution_count": 53
        }
      ]
    },
    {
      "cell_type": "markdown",
      "source": [
        "### Index Position of Min and Max"
      ],
      "metadata": {
        "id": "H_Cl0BkfQ-F1"
      }
    },
    {
      "cell_type": "code",
      "source": [
        "# It returns the index value of minimum value in a tensor\n",
        "torch.argmin(x), x.argmin()"
      ],
      "metadata": {
        "colab": {
          "base_uri": "https://localhost:8080/"
        },
        "id": "qM8lQCPsQYaE",
        "outputId": "6846b1bb-3635-4ee0-f7a9-7a6c8aa362a0"
      },
      "execution_count": 54,
      "outputs": [
        {
          "output_type": "execute_result",
          "data": {
            "text/plain": [
              "(tensor(0), tensor(0))"
            ]
          },
          "metadata": {},
          "execution_count": 54
        }
      ]
    },
    {
      "cell_type": "code",
      "source": [
        "# It returns the index value of maximum value in a tensor\n",
        "torch.argmax(x), x.argmax()"
      ],
      "metadata": {
        "colab": {
          "base_uri": "https://localhost:8080/"
        },
        "id": "fmLlOL4-RHYx",
        "outputId": "3d5371df-09de-4e4c-ce70-8b759e032d1e"
      },
      "execution_count": 55,
      "outputs": [
        {
          "output_type": "execute_result",
          "data": {
            "text/plain": [
              "(tensor(25), tensor(25))"
            ]
          },
          "metadata": {},
          "execution_count": 55
        }
      ]
    },
    {
      "cell_type": "markdown",
      "source": [
        "### View and Stacking Tensors"
      ],
      "metadata": {
        "id": "lhepdDs4V_vd"
      }
    },
    {
      "cell_type": "markdown",
      "source": [
        "#### View"
      ],
      "metadata": {
        "id": "i3M_haFGWmJ7"
      }
    },
    {
      "cell_type": "code",
      "source": [
        "x = torch.arange(1,11)\n",
        "x, x.shape"
      ],
      "metadata": {
        "colab": {
          "base_uri": "https://localhost:8080/"
        },
        "id": "iSlbizgzWGHD",
        "outputId": "73b16f11-0dad-401c-b878-e9bc6474ee6c"
      },
      "execution_count": 56,
      "outputs": [
        {
          "output_type": "execute_result",
          "data": {
            "text/plain": [
              "(tensor([ 1,  2,  3,  4,  5,  6,  7,  8,  9, 10]), torch.Size([10]))"
            ]
          },
          "metadata": {},
          "execution_count": 56
        }
      ]
    },
    {
      "cell_type": "code",
      "source": [
        "# Here z shares the same memory as of x, so changing z will change x as well\n",
        "z = x.view(1, 10)\n",
        "z, z.shape"
      ],
      "metadata": {
        "colab": {
          "base_uri": "https://localhost:8080/"
        },
        "id": "n3vuZJsBRnAD",
        "outputId": "e3279889-f697-4f45-d74e-e407203ce568"
      },
      "execution_count": 57,
      "outputs": [
        {
          "output_type": "execute_result",
          "data": {
            "text/plain": [
              "(tensor([[ 1,  2,  3,  4,  5,  6,  7,  8,  9, 10]]), torch.Size([1, 10]))"
            ]
          },
          "metadata": {},
          "execution_count": 57
        }
      ]
    },
    {
      "cell_type": "code",
      "source": [
        "z[:, 0] = 4\n",
        "z, x"
      ],
      "metadata": {
        "colab": {
          "base_uri": "https://localhost:8080/"
        },
        "id": "Y5SOXMvXWSau",
        "outputId": "756fe157-398a-49bf-d61e-5aef2e50d670"
      },
      "execution_count": 58,
      "outputs": [
        {
          "output_type": "execute_result",
          "data": {
            "text/plain": [
              "(tensor([[ 4,  2,  3,  4,  5,  6,  7,  8,  9, 10]]),\n",
              " tensor([ 4,  2,  3,  4,  5,  6,  7,  8,  9, 10]))"
            ]
          },
          "metadata": {},
          "execution_count": 58
        }
      ]
    },
    {
      "cell_type": "markdown",
      "source": [
        "#### Stacking"
      ],
      "metadata": {
        "id": "spaNxDt7WpMG"
      }
    },
    {
      "cell_type": "code",
      "source": [
        "x_stacked = torch.stack((x, x, x, x), dim = 0)\n",
        "x_stacked"
      ],
      "metadata": {
        "colab": {
          "base_uri": "https://localhost:8080/"
        },
        "id": "LDOnIJkiWbgA",
        "outputId": "85817cad-3742-4e76-ceb3-623decb003ce"
      },
      "execution_count": 72,
      "outputs": [
        {
          "output_type": "execute_result",
          "data": {
            "text/plain": [
              "tensor([[ 4,  2,  3,  4,  5,  6,  7,  8,  9, 10],\n",
              "        [ 4,  2,  3,  4,  5,  6,  7,  8,  9, 10],\n",
              "        [ 4,  2,  3,  4,  5,  6,  7,  8,  9, 10],\n",
              "        [ 4,  2,  3,  4,  5,  6,  7,  8,  9, 10]])"
            ]
          },
          "metadata": {},
          "execution_count": 72
        }
      ]
    },
    {
      "cell_type": "code",
      "source": [
        "x_stacked.shape"
      ],
      "metadata": {
        "colab": {
          "base_uri": "https://localhost:8080/"
        },
        "id": "QIgc6PxPbLFf",
        "outputId": "fb6e83a2-d4cb-44ac-c80b-efa82bd50bbe"
      },
      "execution_count": 73,
      "outputs": [
        {
          "output_type": "execute_result",
          "data": {
            "text/plain": [
              "torch.Size([4, 10])"
            ]
          },
          "metadata": {},
          "execution_count": 73
        }
      ]
    },
    {
      "cell_type": "code",
      "source": [
        "x_stacked = torch.vstack((x, x, x, x))\n",
        "x_stacked"
      ],
      "metadata": {
        "colab": {
          "base_uri": "https://localhost:8080/"
        },
        "id": "Ov5XUeGRXPIv",
        "outputId": "f43e7345-33e1-4c95-95a0-8f04948a31cb"
      },
      "execution_count": 69,
      "outputs": [
        {
          "output_type": "execute_result",
          "data": {
            "text/plain": [
              "tensor([[ 4,  2,  3,  4,  5,  6,  7,  8,  9, 10],\n",
              "        [ 4,  2,  3,  4,  5,  6,  7,  8,  9, 10],\n",
              "        [ 4,  2,  3,  4,  5,  6,  7,  8,  9, 10],\n",
              "        [ 4,  2,  3,  4,  5,  6,  7,  8,  9, 10]])"
            ]
          },
          "metadata": {},
          "execution_count": 69
        }
      ]
    },
    {
      "cell_type": "code",
      "source": [
        "# Creates a Dimension, and transposes the first tensor as first row etc.\n",
        "x_stacked = torch.stack([x, x, x, x], dim = 1)\n",
        "x_stacked"
      ],
      "metadata": {
        "colab": {
          "base_uri": "https://localhost:8080/"
        },
        "id": "9U4Ca-gUW9Rm",
        "outputId": "fc474dd8-1873-4f68-90ec-acfc092f763b"
      },
      "execution_count": 66,
      "outputs": [
        {
          "output_type": "execute_result",
          "data": {
            "text/plain": [
              "tensor([[ 4,  4,  4,  4],\n",
              "        [ 2,  2,  2,  2],\n",
              "        [ 3,  3,  3,  3],\n",
              "        [ 4,  4,  4,  4],\n",
              "        [ 5,  5,  5,  5],\n",
              "        [ 6,  6,  6,  6],\n",
              "        [ 7,  7,  7,  7],\n",
              "        [ 8,  8,  8,  8],\n",
              "        [ 9,  9,  9,  9],\n",
              "        [10, 10, 10, 10]])"
            ]
          },
          "metadata": {},
          "execution_count": 66
        }
      ]
    },
    {
      "cell_type": "code",
      "source": [
        "# It just concatenates horizontally, it is different from others.\n",
        "x_stacked = torch.hstack((x, x, x, x))\n",
        "x_stacked"
      ],
      "metadata": {
        "colab": {
          "base_uri": "https://localhost:8080/"
        },
        "id": "jtB_4NxRXCIB",
        "outputId": "7106b9f9-6761-4ca6-a577-9c65e6406aa7"
      },
      "execution_count": 68,
      "outputs": [
        {
          "output_type": "execute_result",
          "data": {
            "text/plain": [
              "tensor([ 4,  2,  3,  4,  5,  6,  7,  8,  9, 10,  4,  2,  3,  4,  5,  6,  7,  8,\n",
              "         9, 10,  4,  2,  3,  4,  5,  6,  7,  8,  9, 10,  4,  2,  3,  4,  5,  6,\n",
              "         7,  8,  9, 10])"
            ]
          },
          "metadata": {},
          "execution_count": 68
        }
      ]
    },
    {
      "cell_type": "markdown",
      "source": [
        "### Squeeze\n",
        "The `squeeze()` function removes all dimensions of size 1 from a tensor."
      ],
      "metadata": {
        "id": "ayKJkQ8HhYBU"
      }
    },
    {
      "cell_type": "code",
      "source": [
        "# Create a tensor with a size of (1, 3, 1, 4)\n",
        "tensor = torch.randn(1, 3, 1, 4)\n",
        "print(\"Original tensor shape:\", tensor.shape)\n",
        "\n",
        "# Apply squeeze to remove all dimensions of size 1\n",
        "squeezed_tensor = tensor.squeeze()\n",
        "print(\"After squeeze:\", squeezed_tensor.shape)"
      ],
      "metadata": {
        "colab": {
          "base_uri": "https://localhost:8080/"
        },
        "id": "D96w9_gcYG5F",
        "outputId": "fee246bb-a256-40c6-cb69-deb92ef99367"
      },
      "execution_count": 80,
      "outputs": [
        {
          "output_type": "stream",
          "name": "stdout",
          "text": [
            "Original tensor shape: torch.Size([1, 3, 1, 4])\n",
            "After squeeze: torch.Size([3, 4])\n"
          ]
        }
      ]
    },
    {
      "cell_type": "markdown",
      "source": [
        "### Unsqueeze\n",
        "The `unsqueeze()` function adds a singleton dimension (dimension of size 1) at a specific position in the tensor."
      ],
      "metadata": {
        "id": "PEmPz9EZhUis"
      }
    },
    {
      "cell_type": "code",
      "source": [
        "# Create a tensor with a size of (3, 4)\n",
        "tensor = torch.randn(3, 4)\n",
        "print(\"Original tensor shape:\", tensor.shape)\n",
        "\n",
        "# Apply unsqueeze to add a dimension at position 0\n",
        "unsqueezed_tensor = tensor.unsqueeze(0)\n",
        "print(\"After unsqueeze at 0:\", unsqueezed_tensor.shape)\n",
        "\n",
        "# Apply unsqueeze to add a dimension at position 2\n",
        "unsqueezed_tensor_1 = tensor.unsqueeze(1)\n",
        "print(\"After unsqueeze at 1:\", unsqueezed_tensor_1.shape)\n",
        "\n",
        "# Apply unsqueeze to add a dimension at position 2\n",
        "unsqueezed_tensor_2 = tensor.unsqueeze(2)\n",
        "print(\"After unsqueeze at 2:\", unsqueezed_tensor_2.shape)"
      ],
      "metadata": {
        "colab": {
          "base_uri": "https://localhost:8080/"
        },
        "id": "FoIeuj1_f77s",
        "outputId": "dc511336-f392-4963-b182-899e8764600f"
      },
      "execution_count": 79,
      "outputs": [
        {
          "output_type": "stream",
          "name": "stdout",
          "text": [
            "Original tensor shape: torch.Size([3, 4])\n",
            "After unsqueeze at 0: torch.Size([1, 3, 4])\n",
            "After unsqueeze at 1: torch.Size([3, 1, 4])\n",
            "After unsqueeze at 2: torch.Size([3, 4, 1])\n"
          ]
        }
      ]
    },
    {
      "cell_type": "markdown",
      "source": [
        "### Permute\n",
        "In PyTorch, `permute()` is used to change the order of dimensions in a tensor. It allows you to rearrange the axes of the tensor to a new specified order."
      ],
      "metadata": {
        "id": "1hCIVQDLlicW"
      }
    },
    {
      "cell_type": "code",
      "source": [
        "tensor = torch.randn(2, 3, 4)\n",
        "print(\"Original tensor shape:\", tensor.shape)\n",
        "\n",
        "# Applying permute to change the dimension order\n",
        "permuted_tensor = tensor.permute(1, 0, 2)  # Swap 0th and 1st dimensions\n",
        "print(\"Permuted tensor shape:\", permuted_tensor.shape)"
      ],
      "metadata": {
        "colab": {
          "base_uri": "https://localhost:8080/"
        },
        "id": "qlTTmN4gjPqF",
        "outputId": "d925f710-b3cf-4fa0-9020-51342682c2a9"
      },
      "execution_count": 86,
      "outputs": [
        {
          "output_type": "stream",
          "name": "stdout",
          "text": [
            "Original tensor shape: torch.Size([2, 3, 4])\n",
            "Permuted tensor shape: torch.Size([3, 2, 4])\n"
          ]
        }
      ]
    },
    {
      "cell_type": "code",
      "source": [],
      "metadata": {
        "id": "FN_d81jHm2EF"
      },
      "execution_count": null,
      "outputs": []
    }
  ]
}