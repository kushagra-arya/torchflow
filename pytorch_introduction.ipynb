{
  "nbformat": 4,
  "nbformat_minor": 0,
  "metadata": {
    "colab": {
      "provenance": [],
      "toc_visible": true
    },
    "kernelspec": {
      "name": "python3",
      "display_name": "Python 3"
    },
    "language_info": {
      "name": "python"
    }
  },
  "cells": [
    {
      "cell_type": "code",
      "execution_count": 1,
      "metadata": {
        "colab": {
          "base_uri": "https://localhost:8080/"
        },
        "id": "cidEYuAjz61H",
        "outputId": "e9b9849a-b03f-404d-cb89-069921437692"
      },
      "outputs": [
        {
          "output_type": "stream",
          "name": "stdout",
          "text": [
            "2.8.0+cu126\n"
          ]
        }
      ],
      "source": [
        "import torch\n",
        "import pandas as pd\n",
        "import numpy as np\n",
        "import matplotlib.pyplot as plt\n",
        "import random\n",
        "\n",
        "print(torch.__version__)"
      ]
    },
    {
      "cell_type": "code",
      "source": [
        "# Creating a Tensor\n",
        "scalar = torch.tensor(7)\n",
        "scalar"
      ],
      "metadata": {
        "colab": {
          "base_uri": "https://localhost:8080/"
        },
        "id": "QTNID2jy0rns",
        "outputId": "14f70ddd-1992-4441-a862-93c56c0b6fd1"
      },
      "execution_count": 2,
      "outputs": [
        {
          "output_type": "execute_result",
          "data": {
            "text/plain": [
              "tensor(7)"
            ]
          },
          "metadata": {},
          "execution_count": 2
        }
      ]
    },
    {
      "cell_type": "code",
      "source": [
        "scalar.ndim"
      ],
      "metadata": {
        "colab": {
          "base_uri": "https://localhost:8080/"
        },
        "id": "ccAtUmB6037o",
        "outputId": "0bca2d5d-de48-4a32-9684-f4b888a5af43"
      },
      "execution_count": 3,
      "outputs": [
        {
          "output_type": "execute_result",
          "data": {
            "text/plain": [
              "0"
            ]
          },
          "metadata": {},
          "execution_count": 3
        }
      ]
    },
    {
      "cell_type": "code",
      "source": [
        "# Getting tensor back as Python item\n",
        "scalar.item()"
      ],
      "metadata": {
        "colab": {
          "base_uri": "https://localhost:8080/"
        },
        "id": "5ktSeLwh1U2P",
        "outputId": "20d4daa0-d4b7-46ae-8a71-3d2985131fe9"
      },
      "execution_count": 4,
      "outputs": [
        {
          "output_type": "execute_result",
          "data": {
            "text/plain": [
              "7"
            ]
          },
          "metadata": {},
          "execution_count": 4
        }
      ]
    },
    {
      "cell_type": "code",
      "source": [
        "# Creating the Vector\n",
        "vector = torch.tensor([7,7])\n",
        "vector"
      ],
      "metadata": {
        "colab": {
          "base_uri": "https://localhost:8080/"
        },
        "id": "WE2qeH_51wsU",
        "outputId": "ead97b8c-77f2-4220-9724-8a9acfd752cf"
      },
      "execution_count": 5,
      "outputs": [
        {
          "output_type": "execute_result",
          "data": {
            "text/plain": [
              "tensor([7, 7])"
            ]
          },
          "metadata": {},
          "execution_count": 5
        }
      ]
    },
    {
      "cell_type": "code",
      "source": [
        "vector.ndim"
      ],
      "metadata": {
        "colab": {
          "base_uri": "https://localhost:8080/"
        },
        "id": "zUgj9IVI15nI",
        "outputId": "57e56947-cddb-491b-e2b5-31f544bb3d7c"
      },
      "execution_count": 6,
      "outputs": [
        {
          "output_type": "execute_result",
          "data": {
            "text/plain": [
              "1"
            ]
          },
          "metadata": {},
          "execution_count": 6
        }
      ]
    },
    {
      "cell_type": "code",
      "source": [
        "vector.shape"
      ],
      "metadata": {
        "colab": {
          "base_uri": "https://localhost:8080/"
        },
        "id": "kLJAFhQf17mw",
        "outputId": "213df371-bec4-44be-a634-9eb8689879e8"
      },
      "execution_count": 7,
      "outputs": [
        {
          "output_type": "execute_result",
          "data": {
            "text/plain": [
              "torch.Size([2])"
            ]
          },
          "metadata": {},
          "execution_count": 7
        }
      ]
    },
    {
      "cell_type": "code",
      "source": [
        "# Creating the Matrix\n",
        "MATRIX = torch.tensor([[7,8],\n",
        "                       [9,10]])\n",
        "MATRIX"
      ],
      "metadata": {
        "colab": {
          "base_uri": "https://localhost:8080/"
        },
        "id": "prDeJ1ob2BVz",
        "outputId": "ae2860b1-a0be-4e0e-f549-509a5d5d04bd"
      },
      "execution_count": 8,
      "outputs": [
        {
          "output_type": "execute_result",
          "data": {
            "text/plain": [
              "tensor([[ 7,  8],\n",
              "        [ 9, 10]])"
            ]
          },
          "metadata": {},
          "execution_count": 8
        }
      ]
    },
    {
      "cell_type": "code",
      "source": [
        "MATRIX.ndim"
      ],
      "metadata": {
        "colab": {
          "base_uri": "https://localhost:8080/"
        },
        "id": "qZ71slOo2OIY",
        "outputId": "1ac8e20e-6c06-4d6d-efc6-134ba1cbd423"
      },
      "execution_count": 9,
      "outputs": [
        {
          "output_type": "execute_result",
          "data": {
            "text/plain": [
              "2"
            ]
          },
          "metadata": {},
          "execution_count": 9
        }
      ]
    },
    {
      "cell_type": "code",
      "source": [
        "MATRIX[0]"
      ],
      "metadata": {
        "colab": {
          "base_uri": "https://localhost:8080/"
        },
        "id": "LckiIdye2Vvk",
        "outputId": "d47be449-7837-4875-ad33-8ca7057e8955"
      },
      "execution_count": 10,
      "outputs": [
        {
          "output_type": "execute_result",
          "data": {
            "text/plain": [
              "tensor([7, 8])"
            ]
          },
          "metadata": {},
          "execution_count": 10
        }
      ]
    },
    {
      "cell_type": "code",
      "source": [
        "MATRIX[1]"
      ],
      "metadata": {
        "colab": {
          "base_uri": "https://localhost:8080/"
        },
        "id": "yoqcJTfH2ck_",
        "outputId": "65110c3f-05a2-42fa-86c0-c23ad238bf0c"
      },
      "execution_count": 11,
      "outputs": [
        {
          "output_type": "execute_result",
          "data": {
            "text/plain": [
              "tensor([ 9, 10])"
            ]
          },
          "metadata": {},
          "execution_count": 11
        }
      ]
    },
    {
      "cell_type": "code",
      "source": [
        "MATRIX.shape"
      ],
      "metadata": {
        "colab": {
          "base_uri": "https://localhost:8080/"
        },
        "id": "qmA5Gy7I2df6",
        "outputId": "7ae10eb4-035e-4c9e-8935-9408d5d27c3d"
      },
      "execution_count": 12,
      "outputs": [
        {
          "output_type": "execute_result",
          "data": {
            "text/plain": [
              "torch.Size([2, 2])"
            ]
          },
          "metadata": {},
          "execution_count": 12
        }
      ]
    },
    {
      "cell_type": "code",
      "source": [
        "# TENSOR\n",
        "T = torch.tensor([[[1,2,3],\n",
        "                   [4,5,6],\n",
        "                   [7,8,9]]])\n",
        "T"
      ],
      "metadata": {
        "colab": {
          "base_uri": "https://localhost:8080/"
        },
        "id": "4v9yF9312fkM",
        "outputId": "866d8ada-b46d-4ff0-d702-d66ac5fcbee8"
      },
      "execution_count": 13,
      "outputs": [
        {
          "output_type": "execute_result",
          "data": {
            "text/plain": [
              "tensor([[[1, 2, 3],\n",
              "         [4, 5, 6],\n",
              "         [7, 8, 9]]])"
            ]
          },
          "metadata": {},
          "execution_count": 13
        }
      ]
    },
    {
      "cell_type": "code",
      "source": [
        "T.ndim"
      ],
      "metadata": {
        "colab": {
          "base_uri": "https://localhost:8080/"
        },
        "id": "CdkxCh1A2tZg",
        "outputId": "5e25fcea-0cf6-48dd-fa63-6577da1ae19b"
      },
      "execution_count": 14,
      "outputs": [
        {
          "output_type": "execute_result",
          "data": {
            "text/plain": [
              "3"
            ]
          },
          "metadata": {},
          "execution_count": 14
        }
      ]
    },
    {
      "cell_type": "code",
      "source": [
        "T.shape"
      ],
      "metadata": {
        "colab": {
          "base_uri": "https://localhost:8080/"
        },
        "id": "F4XIQJ7Z20N8",
        "outputId": "eac471a6-87d4-4f9e-9690-e1afa19d3830"
      },
      "execution_count": 15,
      "outputs": [
        {
          "output_type": "execute_result",
          "data": {
            "text/plain": [
              "torch.Size([1, 3, 3])"
            ]
          },
          "metadata": {},
          "execution_count": 15
        }
      ]
    },
    {
      "cell_type": "code",
      "source": [
        "T[0]"
      ],
      "metadata": {
        "colab": {
          "base_uri": "https://localhost:8080/"
        },
        "id": "-32rP3Rt229r",
        "outputId": "c5ed2ecf-734e-493a-aa51-92702ca8f1bb"
      },
      "execution_count": 16,
      "outputs": [
        {
          "output_type": "execute_result",
          "data": {
            "text/plain": [
              "tensor([[1, 2, 3],\n",
              "        [4, 5, 6],\n",
              "        [7, 8, 9]])"
            ]
          },
          "metadata": {},
          "execution_count": 16
        }
      ]
    },
    {
      "cell_type": "code",
      "source": [
        "# Generating the Random Tensor\n",
        "A = torch.rand(2,4,3,3)\n",
        "A"
      ],
      "metadata": {
        "colab": {
          "base_uri": "https://localhost:8080/"
        },
        "id": "7lTPIhNc3F9P",
        "outputId": "1a268f3a-c18a-46a2-e928-52d88ae290eb"
      },
      "execution_count": 17,
      "outputs": [
        {
          "output_type": "execute_result",
          "data": {
            "text/plain": [
              "tensor([[[[0.0957, 0.3119, 0.6192],\n",
              "          [0.4300, 0.8162, 0.9856],\n",
              "          [0.7756, 0.2714, 0.6475]],\n",
              "\n",
              "         [[0.1388, 0.7206, 0.5434],\n",
              "          [0.2706, 0.4425, 0.0411],\n",
              "          [0.1029, 0.2226, 0.6546]],\n",
              "\n",
              "         [[0.4576, 0.9330, 0.3435],\n",
              "          [0.7918, 0.7206, 0.1116],\n",
              "          [0.7640, 0.8452, 0.9201]],\n",
              "\n",
              "         [[0.7197, 0.6323, 0.4578],\n",
              "          [0.9090, 0.5647, 0.4500],\n",
              "          [0.6300, 0.5180, 0.3829]]],\n",
              "\n",
              "\n",
              "        [[[0.4574, 0.8143, 0.6071],\n",
              "          [0.2962, 0.7297, 0.9853],\n",
              "          [0.5006, 0.8629, 0.3356]],\n",
              "\n",
              "         [[0.3453, 0.9345, 0.9385],\n",
              "          [0.4993, 0.5373, 0.3767],\n",
              "          [0.5027, 0.6292, 0.7832]],\n",
              "\n",
              "         [[0.8136, 0.4049, 0.6417],\n",
              "          [0.7982, 0.4356, 0.3485],\n",
              "          [0.4338, 0.4981, 0.8935]],\n",
              "\n",
              "         [[0.9467, 0.2362, 0.2529],\n",
              "          [0.7227, 0.9834, 0.4514],\n",
              "          [0.7454, 0.4488, 0.5835]]]])"
            ]
          },
          "metadata": {},
          "execution_count": 17
        }
      ]
    },
    {
      "cell_type": "code",
      "source": [
        "A.ndim"
      ],
      "metadata": {
        "colab": {
          "base_uri": "https://localhost:8080/"
        },
        "id": "0B7fhlgm6InJ",
        "outputId": "91282fc2-1a72-4792-97f2-453dc9afd815"
      },
      "execution_count": 18,
      "outputs": [
        {
          "output_type": "execute_result",
          "data": {
            "text/plain": [
              "4"
            ]
          },
          "metadata": {},
          "execution_count": 18
        }
      ]
    },
    {
      "cell_type": "code",
      "source": [
        "A.shape"
      ],
      "metadata": {
        "colab": {
          "base_uri": "https://localhost:8080/"
        },
        "id": "GnI5reKj6NXf",
        "outputId": "f1659c01-3f99-4a25-849d-296f7f4eedb8"
      },
      "execution_count": 19,
      "outputs": [
        {
          "output_type": "execute_result",
          "data": {
            "text/plain": [
              "torch.Size([2, 4, 3, 3])"
            ]
          },
          "metadata": {},
          "execution_count": 19
        }
      ]
    },
    {
      "cell_type": "code",
      "source": [
        "# Using arange function to generate Random Tensors\n",
        "B = torch.arange(0,360,1).reshape(4, 3, 2, 5, 3)\n",
        "print(B)\n",
        "print(B.shape)"
      ],
      "metadata": {
        "colab": {
          "base_uri": "https://localhost:8080/"
        },
        "id": "zKU0hDW2-Eom",
        "outputId": "8d66c911-2fb5-4aa3-c6a8-b1d9dbb2198c"
      },
      "execution_count": 20,
      "outputs": [
        {
          "output_type": "stream",
          "name": "stdout",
          "text": [
            "tensor([[[[[  0,   1,   2],\n",
            "           [  3,   4,   5],\n",
            "           [  6,   7,   8],\n",
            "           [  9,  10,  11],\n",
            "           [ 12,  13,  14]],\n",
            "\n",
            "          [[ 15,  16,  17],\n",
            "           [ 18,  19,  20],\n",
            "           [ 21,  22,  23],\n",
            "           [ 24,  25,  26],\n",
            "           [ 27,  28,  29]]],\n",
            "\n",
            "\n",
            "         [[[ 30,  31,  32],\n",
            "           [ 33,  34,  35],\n",
            "           [ 36,  37,  38],\n",
            "           [ 39,  40,  41],\n",
            "           [ 42,  43,  44]],\n",
            "\n",
            "          [[ 45,  46,  47],\n",
            "           [ 48,  49,  50],\n",
            "           [ 51,  52,  53],\n",
            "           [ 54,  55,  56],\n",
            "           [ 57,  58,  59]]],\n",
            "\n",
            "\n",
            "         [[[ 60,  61,  62],\n",
            "           [ 63,  64,  65],\n",
            "           [ 66,  67,  68],\n",
            "           [ 69,  70,  71],\n",
            "           [ 72,  73,  74]],\n",
            "\n",
            "          [[ 75,  76,  77],\n",
            "           [ 78,  79,  80],\n",
            "           [ 81,  82,  83],\n",
            "           [ 84,  85,  86],\n",
            "           [ 87,  88,  89]]]],\n",
            "\n",
            "\n",
            "\n",
            "        [[[[ 90,  91,  92],\n",
            "           [ 93,  94,  95],\n",
            "           [ 96,  97,  98],\n",
            "           [ 99, 100, 101],\n",
            "           [102, 103, 104]],\n",
            "\n",
            "          [[105, 106, 107],\n",
            "           [108, 109, 110],\n",
            "           [111, 112, 113],\n",
            "           [114, 115, 116],\n",
            "           [117, 118, 119]]],\n",
            "\n",
            "\n",
            "         [[[120, 121, 122],\n",
            "           [123, 124, 125],\n",
            "           [126, 127, 128],\n",
            "           [129, 130, 131],\n",
            "           [132, 133, 134]],\n",
            "\n",
            "          [[135, 136, 137],\n",
            "           [138, 139, 140],\n",
            "           [141, 142, 143],\n",
            "           [144, 145, 146],\n",
            "           [147, 148, 149]]],\n",
            "\n",
            "\n",
            "         [[[150, 151, 152],\n",
            "           [153, 154, 155],\n",
            "           [156, 157, 158],\n",
            "           [159, 160, 161],\n",
            "           [162, 163, 164]],\n",
            "\n",
            "          [[165, 166, 167],\n",
            "           [168, 169, 170],\n",
            "           [171, 172, 173],\n",
            "           [174, 175, 176],\n",
            "           [177, 178, 179]]]],\n",
            "\n",
            "\n",
            "\n",
            "        [[[[180, 181, 182],\n",
            "           [183, 184, 185],\n",
            "           [186, 187, 188],\n",
            "           [189, 190, 191],\n",
            "           [192, 193, 194]],\n",
            "\n",
            "          [[195, 196, 197],\n",
            "           [198, 199, 200],\n",
            "           [201, 202, 203],\n",
            "           [204, 205, 206],\n",
            "           [207, 208, 209]]],\n",
            "\n",
            "\n",
            "         [[[210, 211, 212],\n",
            "           [213, 214, 215],\n",
            "           [216, 217, 218],\n",
            "           [219, 220, 221],\n",
            "           [222, 223, 224]],\n",
            "\n",
            "          [[225, 226, 227],\n",
            "           [228, 229, 230],\n",
            "           [231, 232, 233],\n",
            "           [234, 235, 236],\n",
            "           [237, 238, 239]]],\n",
            "\n",
            "\n",
            "         [[[240, 241, 242],\n",
            "           [243, 244, 245],\n",
            "           [246, 247, 248],\n",
            "           [249, 250, 251],\n",
            "           [252, 253, 254]],\n",
            "\n",
            "          [[255, 256, 257],\n",
            "           [258, 259, 260],\n",
            "           [261, 262, 263],\n",
            "           [264, 265, 266],\n",
            "           [267, 268, 269]]]],\n",
            "\n",
            "\n",
            "\n",
            "        [[[[270, 271, 272],\n",
            "           [273, 274, 275],\n",
            "           [276, 277, 278],\n",
            "           [279, 280, 281],\n",
            "           [282, 283, 284]],\n",
            "\n",
            "          [[285, 286, 287],\n",
            "           [288, 289, 290],\n",
            "           [291, 292, 293],\n",
            "           [294, 295, 296],\n",
            "           [297, 298, 299]]],\n",
            "\n",
            "\n",
            "         [[[300, 301, 302],\n",
            "           [303, 304, 305],\n",
            "           [306, 307, 308],\n",
            "           [309, 310, 311],\n",
            "           [312, 313, 314]],\n",
            "\n",
            "          [[315, 316, 317],\n",
            "           [318, 319, 320],\n",
            "           [321, 322, 323],\n",
            "           [324, 325, 326],\n",
            "           [327, 328, 329]]],\n",
            "\n",
            "\n",
            "         [[[330, 331, 332],\n",
            "           [333, 334, 335],\n",
            "           [336, 337, 338],\n",
            "           [339, 340, 341],\n",
            "           [342, 343, 344]],\n",
            "\n",
            "          [[345, 346, 347],\n",
            "           [348, 349, 350],\n",
            "           [351, 352, 353],\n",
            "           [354, 355, 356],\n",
            "           [357, 358, 359]]]]])\n",
            "torch.Size([4, 3, 2, 5, 3])\n"
          ]
        }
      ]
    },
    {
      "cell_type": "code",
      "source": [
        "# Another way of Generating Tensor\n",
        "C = torch.tensor(\n",
        "    [[[[i + j + k + l for l in range(4)]\n",
        "       for k in range(3)]\n",
        "       for j in range(3)]\n",
        "       for i in range(1)]\n",
        ")\n",
        "\n",
        "print(C)\n",
        "print(C.shape)\n"
      ],
      "metadata": {
        "colab": {
          "base_uri": "https://localhost:8080/"
        },
        "id": "hZfKfXZb8a5r",
        "outputId": "9a54fd96-0aec-4f26-e2b2-f5bb6671f095"
      },
      "execution_count": 21,
      "outputs": [
        {
          "output_type": "stream",
          "name": "stdout",
          "text": [
            "tensor([[[[0, 1, 2, 3],\n",
            "          [1, 2, 3, 4],\n",
            "          [2, 3, 4, 5]],\n",
            "\n",
            "         [[1, 2, 3, 4],\n",
            "          [2, 3, 4, 5],\n",
            "          [3, 4, 5, 6]],\n",
            "\n",
            "         [[2, 3, 4, 5],\n",
            "          [3, 4, 5, 6],\n",
            "          [4, 5, 6, 7]]]])\n",
            "torch.Size([1, 3, 3, 4])\n"
          ]
        }
      ]
    },
    {
      "cell_type": "markdown",
      "source": [
        "## Creating Tensors with Zeroes and Ones"
      ],
      "metadata": {
        "id": "gWhxBNcaOrUf"
      }
    },
    {
      "cell_type": "code",
      "source": [
        "zeroes = torch.zeros(3, 3, 4)\n",
        "zeroes"
      ],
      "metadata": {
        "colab": {
          "base_uri": "https://localhost:8080/"
        },
        "id": "PTkxdgdmOd3C",
        "outputId": "d65af2b5-28d5-4ee8-fb0f-0a8adc0b53e2"
      },
      "execution_count": 22,
      "outputs": [
        {
          "output_type": "execute_result",
          "data": {
            "text/plain": [
              "tensor([[[0., 0., 0., 0.],\n",
              "         [0., 0., 0., 0.],\n",
              "         [0., 0., 0., 0.]],\n",
              "\n",
              "        [[0., 0., 0., 0.],\n",
              "         [0., 0., 0., 0.],\n",
              "         [0., 0., 0., 0.]],\n",
              "\n",
              "        [[0., 0., 0., 0.],\n",
              "         [0., 0., 0., 0.],\n",
              "         [0., 0., 0., 0.]]])"
            ]
          },
          "metadata": {},
          "execution_count": 22
        }
      ]
    },
    {
      "cell_type": "code",
      "source": [
        "zeroes * C"
      ],
      "metadata": {
        "colab": {
          "base_uri": "https://localhost:8080/"
        },
        "id": "NlyK_HtwOdz5",
        "outputId": "313d56e2-37e7-4a2f-f96a-bcd1759eeb77"
      },
      "execution_count": 23,
      "outputs": [
        {
          "output_type": "execute_result",
          "data": {
            "text/plain": [
              "tensor([[[[0., 0., 0., 0.],\n",
              "          [0., 0., 0., 0.],\n",
              "          [0., 0., 0., 0.]],\n",
              "\n",
              "         [[0., 0., 0., 0.],\n",
              "          [0., 0., 0., 0.],\n",
              "          [0., 0., 0., 0.]],\n",
              "\n",
              "         [[0., 0., 0., 0.],\n",
              "          [0., 0., 0., 0.],\n",
              "          [0., 0., 0., 0.]]]])"
            ]
          },
          "metadata": {},
          "execution_count": 23
        }
      ]
    },
    {
      "cell_type": "code",
      "source": [
        "ones = torch.ones(3, 3, 4)\n",
        "ones"
      ],
      "metadata": {
        "colab": {
          "base_uri": "https://localhost:8080/"
        },
        "id": "COj1VW-_OdwB",
        "outputId": "40c5d399-526c-49e4-fbd2-58a2e98299ca"
      },
      "execution_count": 24,
      "outputs": [
        {
          "output_type": "execute_result",
          "data": {
            "text/plain": [
              "tensor([[[1., 1., 1., 1.],\n",
              "         [1., 1., 1., 1.],\n",
              "         [1., 1., 1., 1.]],\n",
              "\n",
              "        [[1., 1., 1., 1.],\n",
              "         [1., 1., 1., 1.],\n",
              "         [1., 1., 1., 1.]],\n",
              "\n",
              "        [[1., 1., 1., 1.],\n",
              "         [1., 1., 1., 1.],\n",
              "         [1., 1., 1., 1.]]])"
            ]
          },
          "metadata": {},
          "execution_count": 24
        }
      ]
    },
    {
      "cell_type": "code",
      "source": [
        "print(ones.ndim)\n",
        "print(ones.shape)\n",
        "print(ones.dtype)"
      ],
      "metadata": {
        "colab": {
          "base_uri": "https://localhost:8080/"
        },
        "id": "rlIbyDaiOdrg",
        "outputId": "2d7a648b-13fb-40f7-9af5-a6a32985db5b"
      },
      "execution_count": 25,
      "outputs": [
        {
          "output_type": "stream",
          "name": "stdout",
          "text": [
            "3\n",
            "torch.Size([3, 3, 4])\n",
            "torch.float32\n"
          ]
        }
      ]
    },
    {
      "cell_type": "markdown",
      "source": [
        "## Creating Tensors like other Tensors"
      ],
      "metadata": {
        "id": "Zapb9RrKQ72x"
      }
    },
    {
      "cell_type": "code",
      "source": [
        "# It will create the same shape tensor like the given tensor, we can fill it up with ones or zeros.\n",
        "CT = torch.ones_like(input=A)\n",
        "CT"
      ],
      "metadata": {
        "colab": {
          "base_uri": "https://localhost:8080/"
        },
        "id": "6Udfyv96OdoH",
        "outputId": "d5f66a0b-167b-435b-ddb6-e98bd5cb6ae6"
      },
      "execution_count": 26,
      "outputs": [
        {
          "output_type": "execute_result",
          "data": {
            "text/plain": [
              "tensor([[[[1., 1., 1.],\n",
              "          [1., 1., 1.],\n",
              "          [1., 1., 1.]],\n",
              "\n",
              "         [[1., 1., 1.],\n",
              "          [1., 1., 1.],\n",
              "          [1., 1., 1.]],\n",
              "\n",
              "         [[1., 1., 1.],\n",
              "          [1., 1., 1.],\n",
              "          [1., 1., 1.]],\n",
              "\n",
              "         [[1., 1., 1.],\n",
              "          [1., 1., 1.],\n",
              "          [1., 1., 1.]]],\n",
              "\n",
              "\n",
              "        [[[1., 1., 1.],\n",
              "          [1., 1., 1.],\n",
              "          [1., 1., 1.]],\n",
              "\n",
              "         [[1., 1., 1.],\n",
              "          [1., 1., 1.],\n",
              "          [1., 1., 1.]],\n",
              "\n",
              "         [[1., 1., 1.],\n",
              "          [1., 1., 1.],\n",
              "          [1., 1., 1.]],\n",
              "\n",
              "         [[1., 1., 1.],\n",
              "          [1., 1., 1.],\n",
              "          [1., 1., 1.]]]])"
            ]
          },
          "metadata": {},
          "execution_count": 26
        }
      ]
    },
    {
      "cell_type": "code",
      "source": [
        "CT = torch.zeros_like(input=A)\n",
        "CT"
      ],
      "metadata": {
        "colab": {
          "base_uri": "https://localhost:8080/"
        },
        "id": "g6yM_95ZOdj-",
        "outputId": "f930969f-acee-4f5d-e983-8c616b1c039d"
      },
      "execution_count": 27,
      "outputs": [
        {
          "output_type": "execute_result",
          "data": {
            "text/plain": [
              "tensor([[[[0., 0., 0.],\n",
              "          [0., 0., 0.],\n",
              "          [0., 0., 0.]],\n",
              "\n",
              "         [[0., 0., 0.],\n",
              "          [0., 0., 0.],\n",
              "          [0., 0., 0.]],\n",
              "\n",
              "         [[0., 0., 0.],\n",
              "          [0., 0., 0.],\n",
              "          [0., 0., 0.]],\n",
              "\n",
              "         [[0., 0., 0.],\n",
              "          [0., 0., 0.],\n",
              "          [0., 0., 0.]]],\n",
              "\n",
              "\n",
              "        [[[0., 0., 0.],\n",
              "          [0., 0., 0.],\n",
              "          [0., 0., 0.]],\n",
              "\n",
              "         [[0., 0., 0.],\n",
              "          [0., 0., 0.],\n",
              "          [0., 0., 0.]],\n",
              "\n",
              "         [[0., 0., 0.],\n",
              "          [0., 0., 0.],\n",
              "          [0., 0., 0.]],\n",
              "\n",
              "         [[0., 0., 0.],\n",
              "          [0., 0., 0.],\n",
              "          [0., 0., 0.]]]])"
            ]
          },
          "metadata": {},
          "execution_count": 27
        }
      ]
    },
    {
      "cell_type": "markdown",
      "source": [
        "## Tensor Datatypes"
      ],
      "metadata": {
        "id": "8k7N9WZoSMoS"
      }
    },
    {
      "cell_type": "code",
      "source": [
        "fl_32_tensor = torch.tensor([2.0, 4.0, 7.0], dtype = None)\n",
        "fl_32_tensor"
      ],
      "metadata": {
        "colab": {
          "base_uri": "https://localhost:8080/"
        },
        "id": "ZzBvvzq7Rtht",
        "outputId": "9f5a945f-c307-4aff-c698-35e729daecd7"
      },
      "execution_count": 28,
      "outputs": [
        {
          "output_type": "execute_result",
          "data": {
            "text/plain": [
              "tensor([2., 4., 7.])"
            ]
          },
          "metadata": {},
          "execution_count": 28
        }
      ]
    },
    {
      "cell_type": "code",
      "source": [
        "# Even after defining the Datatype as NONE, it will allot float32 by default\n",
        "fl_32_tensor.dtype"
      ],
      "metadata": {
        "colab": {
          "base_uri": "https://localhost:8080/"
        },
        "id": "H2sgtwxQSh_g",
        "outputId": "41037835-b71f-445b-f0ce-9ebde3e73d47"
      },
      "execution_count": 29,
      "outputs": [
        {
          "output_type": "execute_result",
          "data": {
            "text/plain": [
              "torch.float32"
            ]
          },
          "metadata": {},
          "execution_count": 29
        }
      ]
    },
    {
      "cell_type": "code",
      "source": [
        "fl_16_tensor = torch.tensor([2.0, 4.0, 7.0], dtype = torch.float16, device=None, requires_grad=False)\n",
        "fl_16_tensor"
      ],
      "metadata": {
        "colab": {
          "base_uri": "https://localhost:8080/"
        },
        "id": "kkitkySoSyCt",
        "outputId": "fb2ba473-b894-47f4-a8d6-c8aa6c26a890"
      },
      "execution_count": 30,
      "outputs": [
        {
          "output_type": "execute_result",
          "data": {
            "text/plain": [
              "tensor([2., 4., 7.], dtype=torch.float16)"
            ]
          },
          "metadata": {},
          "execution_count": 30
        }
      ]
    },
    {
      "cell_type": "code",
      "source": [
        "fl_16_tensor.dtype"
      ],
      "metadata": {
        "colab": {
          "base_uri": "https://localhost:8080/"
        },
        "id": "XFvM0tVCTN8C",
        "outputId": "d99d5857-e64b-4848-c2e5-5427537ab2a4"
      },
      "execution_count": 31,
      "outputs": [
        {
          "output_type": "execute_result",
          "data": {
            "text/plain": [
              "torch.float16"
            ]
          },
          "metadata": {},
          "execution_count": 31
        }
      ]
    },
    {
      "cell_type": "code",
      "source": [
        "# Changing the Datatype of float32 to float16\n",
        "fl_32_tensor = fl_32_tensor.type(torch.float16)\n",
        "fl_32_tensor"
      ],
      "metadata": {
        "colab": {
          "base_uri": "https://localhost:8080/"
        },
        "id": "siBoy3_HTTgF",
        "outputId": "f4a9bb95-2fed-4033-faef-60034673c5dd"
      },
      "execution_count": 32,
      "outputs": [
        {
          "output_type": "execute_result",
          "data": {
            "text/plain": [
              "tensor([2., 4., 7.], dtype=torch.float16)"
            ]
          },
          "metadata": {},
          "execution_count": 32
        }
      ]
    },
    {
      "cell_type": "markdown",
      "source": [
        "## Checking Tensor Device"
      ],
      "metadata": {
        "id": "x6-0Vrp-XjHw"
      }
    },
    {
      "cell_type": "code",
      "source": [
        "fl_16_tensor.device"
      ],
      "metadata": {
        "colab": {
          "base_uri": "https://localhost:8080/"
        },
        "id": "bZ3eeT5cas4r",
        "outputId": "e5083eb4-5be4-4dcc-d23e-17eaccbd2ea9"
      },
      "execution_count": 33,
      "outputs": [
        {
          "output_type": "execute_result",
          "data": {
            "text/plain": [
              "device(type='cpu')"
            ]
          },
          "metadata": {},
          "execution_count": 33
        }
      ]
    },
    {
      "cell_type": "markdown",
      "source": [
        "## Tensor Operations"
      ],
      "metadata": {
        "id": "oI5MRnojXdEv"
      }
    },
    {
      "cell_type": "markdown",
      "source": [
        "#### Addition"
      ],
      "metadata": {
        "id": "TauSlejKX_l7"
      }
    },
    {
      "cell_type": "code",
      "source": [
        "tensor = torch.tensor([1,2,3])\n",
        "tensor = tensor + 10"
      ],
      "metadata": {
        "id": "Gvb_NJ3bXgqw"
      },
      "execution_count": 34,
      "outputs": []
    },
    {
      "cell_type": "markdown",
      "source": [
        "#### Subtraction"
      ],
      "metadata": {
        "id": "B1PpL3ejYCW3"
      }
    },
    {
      "cell_type": "code",
      "source": [
        "tensor - 10"
      ],
      "metadata": {
        "colab": {
          "base_uri": "https://localhost:8080/"
        },
        "id": "1uTM9IZ2XgnW",
        "outputId": "b7587df2-0c96-4129-a6d8-adbe263c6c48"
      },
      "execution_count": 35,
      "outputs": [
        {
          "output_type": "execute_result",
          "data": {
            "text/plain": [
              "tensor([1, 2, 3])"
            ]
          },
          "metadata": {},
          "execution_count": 35
        }
      ]
    },
    {
      "cell_type": "code",
      "source": [
        "tensor.sub(10) # Built-in Function for Subtraction"
      ],
      "metadata": {
        "colab": {
          "base_uri": "https://localhost:8080/"
        },
        "id": "W-gm1v56YS4h",
        "outputId": "7001d515-fbd1-4453-93f6-69b41feb1fae"
      },
      "execution_count": 36,
      "outputs": [
        {
          "output_type": "execute_result",
          "data": {
            "text/plain": [
              "tensor([1, 2, 3])"
            ]
          },
          "metadata": {},
          "execution_count": 36
        }
      ]
    },
    {
      "cell_type": "markdown",
      "source": [
        "#### Multiplication"
      ],
      "metadata": {
        "id": "2XVbqOhbYE3b"
      }
    },
    {
      "cell_type": "code",
      "source": [
        "tensor * 10"
      ],
      "metadata": {
        "colab": {
          "base_uri": "https://localhost:8080/"
        },
        "id": "yEgqPJh_XgkU",
        "outputId": "289b429b-59a0-4f1f-9b12-93199afa7520"
      },
      "execution_count": 37,
      "outputs": [
        {
          "output_type": "execute_result",
          "data": {
            "text/plain": [
              "tensor([110, 120, 130])"
            ]
          },
          "metadata": {},
          "execution_count": 37
        }
      ]
    },
    {
      "cell_type": "code",
      "source": [
        "tensor.mul(10)"
      ],
      "metadata": {
        "colab": {
          "base_uri": "https://localhost:8080/"
        },
        "id": "xrPClhA9Xghl",
        "outputId": "7147c5fb-bff1-481a-e87e-81361b4b1f30"
      },
      "execution_count": 38,
      "outputs": [
        {
          "output_type": "execute_result",
          "data": {
            "text/plain": [
              "tensor([110, 120, 130])"
            ]
          },
          "metadata": {},
          "execution_count": 38
        }
      ]
    },
    {
      "cell_type": "markdown",
      "source": [
        "#### Element-Wise Multiplication, Dot Product, Matrix Multiplication"
      ],
      "metadata": {
        "id": "wTBnDfwyd11L"
      }
    },
    {
      "cell_type": "code",
      "source": [
        "tensor"
      ],
      "metadata": {
        "colab": {
          "base_uri": "https://localhost:8080/"
        },
        "id": "M-bWWQQ_Xfpw",
        "outputId": "f91e1416-21dd-47d4-e177-8282eeeac95c"
      },
      "execution_count": 39,
      "outputs": [
        {
          "output_type": "execute_result",
          "data": {
            "text/plain": [
              "tensor([11, 12, 13])"
            ]
          },
          "metadata": {},
          "execution_count": 39
        }
      ]
    },
    {
      "cell_type": "code",
      "source": [
        "# Element - Wise Multiplication\n",
        "tensor * tensor"
      ],
      "metadata": {
        "colab": {
          "base_uri": "https://localhost:8080/"
        },
        "id": "TOjdG_S2d-gu",
        "outputId": "f8ed0eb7-5129-4136-e61c-f5b88ff55418"
      },
      "execution_count": 40,
      "outputs": [
        {
          "output_type": "execute_result",
          "data": {
            "text/plain": [
              "tensor([121, 144, 169])"
            ]
          },
          "metadata": {},
          "execution_count": 40
        }
      ]
    },
    {
      "cell_type": "code",
      "source": [
        "# Dot Product (It is always equal to the summation of Element-Wise Multiplication Matrix)\n",
        "# So, in this case it is (121 + 144 + 169)\n",
        "torch.dot(tensor, tensor)"
      ],
      "metadata": {
        "colab": {
          "base_uri": "https://localhost:8080/"
        },
        "id": "Y15HpT4NeAon",
        "outputId": "fd1827d9-02ce-4de5-f4df-cf249d7e1dd2"
      },
      "execution_count": 41,
      "outputs": [
        {
          "output_type": "execute_result",
          "data": {
            "text/plain": [
              "tensor(434)"
            ]
          },
          "metadata": {},
          "execution_count": 41
        }
      ]
    },
    {
      "cell_type": "code",
      "source": [
        "# matmul does dot product for 1D Vectors instead of Matrix Multiplication\n",
        "torch.matmul(tensor, tensor)"
      ],
      "metadata": {
        "colab": {
          "base_uri": "https://localhost:8080/"
        },
        "id": "8eGkcaOrfulW",
        "outputId": "796602f8-93d0-49bf-cf0d-0f076320a68e"
      },
      "execution_count": 42,
      "outputs": [
        {
          "output_type": "execute_result",
          "data": {
            "text/plain": [
              "tensor(434)"
            ]
          },
          "metadata": {},
          "execution_count": 42
        }
      ]
    },
    {
      "cell_type": "code",
      "source": [
        "# Matrix Multiplication\n",
        "matrix1 = torch.tensor([[1,2,3],\n",
        "                        [4,5,6],\n",
        "                        [7,8,9]])\n",
        "\n",
        "matrix2 = torch.tensor([[1,2,3],\n",
        "                        [4,5,6],\n",
        "                        [7,8,9]])\n",
        "\n",
        "matrix1.matmul(matrix2)"
      ],
      "metadata": {
        "colab": {
          "base_uri": "https://localhost:8080/"
        },
        "id": "gbageX5yeK1V",
        "outputId": "0c8a396d-1b5c-4c63-9ea3-02c642aaeb04"
      },
      "execution_count": 43,
      "outputs": [
        {
          "output_type": "execute_result",
          "data": {
            "text/plain": [
              "tensor([[ 30,  36,  42],\n",
              "        [ 66,  81,  96],\n",
              "        [102, 126, 150]])"
            ]
          },
          "metadata": {},
          "execution_count": 43
        }
      ]
    },
    {
      "cell_type": "markdown",
      "source": [
        "### Tensor Aggregation (Min, Max, Mean, Sum, etc.)"
      ],
      "metadata": {
        "id": "OOC7XUtpNAfQ"
      }
    },
    {
      "cell_type": "code",
      "source": [
        "x = torch.arange(0, 101, 4)\n",
        "x"
      ],
      "metadata": {
        "id": "P3mkuNzJeyQT",
        "colab": {
          "base_uri": "https://localhost:8080/"
        },
        "outputId": "b97d571a-3e1b-4d53-e4d0-64a178b7e8f1"
      },
      "execution_count": 44,
      "outputs": [
        {
          "output_type": "execute_result",
          "data": {
            "text/plain": [
              "tensor([  0,   4,   8,  12,  16,  20,  24,  28,  32,  36,  40,  44,  48,  52,\n",
              "         56,  60,  64,  68,  72,  76,  80,  84,  88,  92,  96, 100])"
            ]
          },
          "metadata": {},
          "execution_count": 44
        }
      ]
    },
    {
      "cell_type": "code",
      "source": [
        "x.dtype"
      ],
      "metadata": {
        "colab": {
          "base_uri": "https://localhost:8080/"
        },
        "id": "dR7FJ26UPePg",
        "outputId": "705670e2-cbe9-4af2-b885-ed1f3235f8a9"
      },
      "execution_count": 45,
      "outputs": [
        {
          "output_type": "execute_result",
          "data": {
            "text/plain": [
              "torch.int64"
            ]
          },
          "metadata": {},
          "execution_count": 45
        }
      ]
    },
    {
      "cell_type": "markdown",
      "source": [
        "#### Minimum"
      ],
      "metadata": {
        "id": "gio8Hvl6PBnL"
      }
    },
    {
      "cell_type": "code",
      "source": [
        "torch.min(x)"
      ],
      "metadata": {
        "colab": {
          "base_uri": "https://localhost:8080/"
        },
        "id": "U-LzrizkNbKd",
        "outputId": "f7534cb4-0f11-4142-e769-ca0f1a9c5daa"
      },
      "execution_count": 46,
      "outputs": [
        {
          "output_type": "execute_result",
          "data": {
            "text/plain": [
              "tensor(0)"
            ]
          },
          "metadata": {},
          "execution_count": 46
        }
      ]
    },
    {
      "cell_type": "code",
      "source": [
        "x.min()"
      ],
      "metadata": {
        "colab": {
          "base_uri": "https://localhost:8080/"
        },
        "id": "00lBMy3NO9Bm",
        "outputId": "55e61aee-17d0-42bb-b91f-1bbe9fd3748e"
      },
      "execution_count": 47,
      "outputs": [
        {
          "output_type": "execute_result",
          "data": {
            "text/plain": [
              "tensor(0)"
            ]
          },
          "metadata": {},
          "execution_count": 47
        }
      ]
    },
    {
      "cell_type": "markdown",
      "source": [
        "#### Maximum"
      ],
      "metadata": {
        "id": "4oGHh9RbPEHk"
      }
    },
    {
      "cell_type": "code",
      "source": [
        "torch.max(x)"
      ],
      "metadata": {
        "colab": {
          "base_uri": "https://localhost:8080/"
        },
        "id": "efHp8kwxO_h0",
        "outputId": "8c36f620-33eb-4fb9-b7b3-24d6f0e5fdb3"
      },
      "execution_count": 48,
      "outputs": [
        {
          "output_type": "execute_result",
          "data": {
            "text/plain": [
              "tensor(100)"
            ]
          },
          "metadata": {},
          "execution_count": 48
        }
      ]
    },
    {
      "cell_type": "code",
      "source": [
        "x.max()"
      ],
      "metadata": {
        "colab": {
          "base_uri": "https://localhost:8080/"
        },
        "id": "6HVGbK8JPK1p",
        "outputId": "8310d644-9c80-4270-b6dd-4e68f8624981"
      },
      "execution_count": 49,
      "outputs": [
        {
          "output_type": "execute_result",
          "data": {
            "text/plain": [
              "tensor(100)"
            ]
          },
          "metadata": {},
          "execution_count": 49
        }
      ]
    },
    {
      "cell_type": "markdown",
      "source": [
        "#### Mean"
      ],
      "metadata": {
        "id": "UhreSBJBPN7m"
      }
    },
    {
      "cell_type": "code",
      "source": [
        "torch.mean(x.type(torch.float32)) # Changed the Datatype to float32 as torch.mean() requires float32 datatype"
      ],
      "metadata": {
        "colab": {
          "base_uri": "https://localhost:8080/"
        },
        "id": "X4MScdjzPMKJ",
        "outputId": "9c7cb318-a37e-4502-ad18-d5e012afff3c"
      },
      "execution_count": 50,
      "outputs": [
        {
          "output_type": "execute_result",
          "data": {
            "text/plain": [
              "tensor(50.)"
            ]
          },
          "metadata": {},
          "execution_count": 50
        }
      ]
    },
    {
      "cell_type": "code",
      "source": [
        "x.type(torch.float32).mean()"
      ],
      "metadata": {
        "colab": {
          "base_uri": "https://localhost:8080/"
        },
        "id": "ySJejGG1PQSy",
        "outputId": "cbf2819b-92ff-4c48-e24c-a7c69c376373"
      },
      "execution_count": 51,
      "outputs": [
        {
          "output_type": "execute_result",
          "data": {
            "text/plain": [
              "tensor(50.)"
            ]
          },
          "metadata": {},
          "execution_count": 51
        }
      ]
    },
    {
      "cell_type": "markdown",
      "source": [
        "#### Sum"
      ],
      "metadata": {
        "id": "bYgzY5OoQT1P"
      }
    },
    {
      "cell_type": "code",
      "source": [
        "torch.sum(x)"
      ],
      "metadata": {
        "colab": {
          "base_uri": "https://localhost:8080/"
        },
        "id": "yYImyr61P5EC",
        "outputId": "d0952a4d-6a7e-47f8-8713-f5bf65747a23"
      },
      "execution_count": 52,
      "outputs": [
        {
          "output_type": "execute_result",
          "data": {
            "text/plain": [
              "tensor(1300)"
            ]
          },
          "metadata": {},
          "execution_count": 52
        }
      ]
    },
    {
      "cell_type": "code",
      "source": [
        "x.sum()"
      ],
      "metadata": {
        "colab": {
          "base_uri": "https://localhost:8080/"
        },
        "id": "4F12yfpdQWSQ",
        "outputId": "7338a810-bcc4-4254-c797-77bcd1a12452"
      },
      "execution_count": 53,
      "outputs": [
        {
          "output_type": "execute_result",
          "data": {
            "text/plain": [
              "tensor(1300)"
            ]
          },
          "metadata": {},
          "execution_count": 53
        }
      ]
    },
    {
      "cell_type": "markdown",
      "source": [
        "### Index Position of Min and Max"
      ],
      "metadata": {
        "id": "H_Cl0BkfQ-F1"
      }
    },
    {
      "cell_type": "code",
      "source": [
        "# It returns the index value of minimum value in a tensor\n",
        "torch.argmin(x), x.argmin()"
      ],
      "metadata": {
        "colab": {
          "base_uri": "https://localhost:8080/"
        },
        "id": "qM8lQCPsQYaE",
        "outputId": "a9a3ac8c-d597-4189-928d-296960f94bda"
      },
      "execution_count": 54,
      "outputs": [
        {
          "output_type": "execute_result",
          "data": {
            "text/plain": [
              "(tensor(0), tensor(0))"
            ]
          },
          "metadata": {},
          "execution_count": 54
        }
      ]
    },
    {
      "cell_type": "code",
      "source": [
        "# It returns the index value of maximum value in a tensor\n",
        "torch.argmax(x), x.argmax()"
      ],
      "metadata": {
        "colab": {
          "base_uri": "https://localhost:8080/"
        },
        "id": "fmLlOL4-RHYx",
        "outputId": "d1d7b5da-5417-4845-fffd-743afd554dc2"
      },
      "execution_count": 55,
      "outputs": [
        {
          "output_type": "execute_result",
          "data": {
            "text/plain": [
              "(tensor(25), tensor(25))"
            ]
          },
          "metadata": {},
          "execution_count": 55
        }
      ]
    },
    {
      "cell_type": "markdown",
      "source": [
        "### View and Stacking Tensors"
      ],
      "metadata": {
        "id": "lhepdDs4V_vd"
      }
    },
    {
      "cell_type": "markdown",
      "source": [
        "#### View"
      ],
      "metadata": {
        "id": "i3M_haFGWmJ7"
      }
    },
    {
      "cell_type": "code",
      "source": [
        "x = torch.arange(1,11)\n",
        "x, x.shape"
      ],
      "metadata": {
        "colab": {
          "base_uri": "https://localhost:8080/"
        },
        "id": "iSlbizgzWGHD",
        "outputId": "758f6e7d-d3cf-4c0f-a88e-5e4abbf91a3d"
      },
      "execution_count": 56,
      "outputs": [
        {
          "output_type": "execute_result",
          "data": {
            "text/plain": [
              "(tensor([ 1,  2,  3,  4,  5,  6,  7,  8,  9, 10]), torch.Size([10]))"
            ]
          },
          "metadata": {},
          "execution_count": 56
        }
      ]
    },
    {
      "cell_type": "code",
      "source": [
        "# Here z shares the same memory as of x, so changing z will change x as well\n",
        "z = x.view(1, 10)\n",
        "z, z.shape"
      ],
      "metadata": {
        "colab": {
          "base_uri": "https://localhost:8080/"
        },
        "id": "n3vuZJsBRnAD",
        "outputId": "b46e9534-eeb3-4469-eecf-d10051451e5d"
      },
      "execution_count": 57,
      "outputs": [
        {
          "output_type": "execute_result",
          "data": {
            "text/plain": [
              "(tensor([[ 1,  2,  3,  4,  5,  6,  7,  8,  9, 10]]), torch.Size([1, 10]))"
            ]
          },
          "metadata": {},
          "execution_count": 57
        }
      ]
    },
    {
      "cell_type": "code",
      "source": [
        "z[:, 0] = 4\n",
        "z, x"
      ],
      "metadata": {
        "colab": {
          "base_uri": "https://localhost:8080/"
        },
        "id": "Y5SOXMvXWSau",
        "outputId": "f0b44700-23be-4f31-bfb9-2b0e52b12b65"
      },
      "execution_count": 58,
      "outputs": [
        {
          "output_type": "execute_result",
          "data": {
            "text/plain": [
              "(tensor([[ 4,  2,  3,  4,  5,  6,  7,  8,  9, 10]]),\n",
              " tensor([ 4,  2,  3,  4,  5,  6,  7,  8,  9, 10]))"
            ]
          },
          "metadata": {},
          "execution_count": 58
        }
      ]
    },
    {
      "cell_type": "markdown",
      "source": [
        "#### Stacking"
      ],
      "metadata": {
        "id": "spaNxDt7WpMG"
      }
    },
    {
      "cell_type": "code",
      "source": [
        "x_stacked = torch.stack((x, x, x, x), dim = 0)\n",
        "x_stacked"
      ],
      "metadata": {
        "colab": {
          "base_uri": "https://localhost:8080/"
        },
        "id": "LDOnIJkiWbgA",
        "outputId": "61b004a2-e6cd-4b95-b2cc-ec16865bdd5f"
      },
      "execution_count": 59,
      "outputs": [
        {
          "output_type": "execute_result",
          "data": {
            "text/plain": [
              "tensor([[ 4,  2,  3,  4,  5,  6,  7,  8,  9, 10],\n",
              "        [ 4,  2,  3,  4,  5,  6,  7,  8,  9, 10],\n",
              "        [ 4,  2,  3,  4,  5,  6,  7,  8,  9, 10],\n",
              "        [ 4,  2,  3,  4,  5,  6,  7,  8,  9, 10]])"
            ]
          },
          "metadata": {},
          "execution_count": 59
        }
      ]
    },
    {
      "cell_type": "code",
      "source": [
        "x_stacked.shape"
      ],
      "metadata": {
        "colab": {
          "base_uri": "https://localhost:8080/"
        },
        "id": "QIgc6PxPbLFf",
        "outputId": "5be42bcc-a4fc-4f92-9af9-177a80622b17"
      },
      "execution_count": 60,
      "outputs": [
        {
          "output_type": "execute_result",
          "data": {
            "text/plain": [
              "torch.Size([4, 10])"
            ]
          },
          "metadata": {},
          "execution_count": 60
        }
      ]
    },
    {
      "cell_type": "code",
      "source": [
        "x_stacked = torch.vstack((x, x, x, x))\n",
        "x_stacked"
      ],
      "metadata": {
        "colab": {
          "base_uri": "https://localhost:8080/"
        },
        "id": "Ov5XUeGRXPIv",
        "outputId": "651e5e80-1c41-4427-c8ee-a4336884dd68"
      },
      "execution_count": 61,
      "outputs": [
        {
          "output_type": "execute_result",
          "data": {
            "text/plain": [
              "tensor([[ 4,  2,  3,  4,  5,  6,  7,  8,  9, 10],\n",
              "        [ 4,  2,  3,  4,  5,  6,  7,  8,  9, 10],\n",
              "        [ 4,  2,  3,  4,  5,  6,  7,  8,  9, 10],\n",
              "        [ 4,  2,  3,  4,  5,  6,  7,  8,  9, 10]])"
            ]
          },
          "metadata": {},
          "execution_count": 61
        }
      ]
    },
    {
      "cell_type": "code",
      "source": [
        "# Creates a Dimension, and transposes the first tensor as first row etc.\n",
        "x_stacked = torch.stack([x, x, x, x], dim = 1)\n",
        "x_stacked"
      ],
      "metadata": {
        "colab": {
          "base_uri": "https://localhost:8080/"
        },
        "id": "9U4Ca-gUW9Rm",
        "outputId": "316de6d5-43a3-4a44-e9c7-d90d42a1e961"
      },
      "execution_count": 62,
      "outputs": [
        {
          "output_type": "execute_result",
          "data": {
            "text/plain": [
              "tensor([[ 4,  4,  4,  4],\n",
              "        [ 2,  2,  2,  2],\n",
              "        [ 3,  3,  3,  3],\n",
              "        [ 4,  4,  4,  4],\n",
              "        [ 5,  5,  5,  5],\n",
              "        [ 6,  6,  6,  6],\n",
              "        [ 7,  7,  7,  7],\n",
              "        [ 8,  8,  8,  8],\n",
              "        [ 9,  9,  9,  9],\n",
              "        [10, 10, 10, 10]])"
            ]
          },
          "metadata": {},
          "execution_count": 62
        }
      ]
    },
    {
      "cell_type": "code",
      "source": [
        "# It just concatenates horizontally, it is different from others.\n",
        "x_stacked = torch.hstack((x, x, x, x))\n",
        "x_stacked"
      ],
      "metadata": {
        "colab": {
          "base_uri": "https://localhost:8080/"
        },
        "id": "jtB_4NxRXCIB",
        "outputId": "af9370b6-785f-4a25-8305-9c69a14a6af7"
      },
      "execution_count": 63,
      "outputs": [
        {
          "output_type": "execute_result",
          "data": {
            "text/plain": [
              "tensor([ 4,  2,  3,  4,  5,  6,  7,  8,  9, 10,  4,  2,  3,  4,  5,  6,  7,  8,\n",
              "         9, 10,  4,  2,  3,  4,  5,  6,  7,  8,  9, 10,  4,  2,  3,  4,  5,  6,\n",
              "         7,  8,  9, 10])"
            ]
          },
          "metadata": {},
          "execution_count": 63
        }
      ]
    },
    {
      "cell_type": "markdown",
      "source": [
        "### Squeeze\n",
        "The `squeeze()` function removes all dimensions of size 1 from a tensor."
      ],
      "metadata": {
        "id": "ayKJkQ8HhYBU"
      }
    },
    {
      "cell_type": "code",
      "source": [
        "# Create a tensor with a size of (1, 3, 1, 4)\n",
        "tensor = torch.randn(1, 3, 1, 4)\n",
        "print(\"Original tensor shape:\", tensor.shape)\n",
        "\n",
        "# Apply squeeze to remove all dimensions of size 1\n",
        "squeezed_tensor = tensor.squeeze()\n",
        "print(\"After squeeze:\", squeezed_tensor.shape)"
      ],
      "metadata": {
        "colab": {
          "base_uri": "https://localhost:8080/"
        },
        "id": "D96w9_gcYG5F",
        "outputId": "1c105de7-cb34-4df9-dd7f-d79fea7d50bd"
      },
      "execution_count": 64,
      "outputs": [
        {
          "output_type": "stream",
          "name": "stdout",
          "text": [
            "Original tensor shape: torch.Size([1, 3, 1, 4])\n",
            "After squeeze: torch.Size([3, 4])\n"
          ]
        }
      ]
    },
    {
      "cell_type": "markdown",
      "source": [
        "### Unsqueeze\n",
        "The `unsqueeze()` function adds a singleton dimension (dimension of size 1) at a specific position in the tensor."
      ],
      "metadata": {
        "id": "PEmPz9EZhUis"
      }
    },
    {
      "cell_type": "code",
      "source": [
        "# Create a tensor with a size of (3, 4)\n",
        "tensor = torch.randn(3, 4)\n",
        "print(\"Original tensor shape:\", tensor.shape)\n",
        "\n",
        "# Apply unsqueeze to add a dimension at position 0\n",
        "unsqueezed_tensor = tensor.unsqueeze(0)\n",
        "print(\"After unsqueeze at 0:\", unsqueezed_tensor.shape)\n",
        "\n",
        "# Apply unsqueeze to add a dimension at position 2\n",
        "unsqueezed_tensor_1 = tensor.unsqueeze(1)\n",
        "print(\"After unsqueeze at 1:\", unsqueezed_tensor_1.shape)\n",
        "\n",
        "# Apply unsqueeze to add a dimension at position 2\n",
        "unsqueezed_tensor_2 = tensor.unsqueeze(2)\n",
        "print(\"After unsqueeze at 2:\", unsqueezed_tensor_2.shape)"
      ],
      "metadata": {
        "colab": {
          "base_uri": "https://localhost:8080/"
        },
        "id": "FoIeuj1_f77s",
        "outputId": "02bf023e-ac19-406c-c761-4f9c980aa3ff"
      },
      "execution_count": 65,
      "outputs": [
        {
          "output_type": "stream",
          "name": "stdout",
          "text": [
            "Original tensor shape: torch.Size([3, 4])\n",
            "After unsqueeze at 0: torch.Size([1, 3, 4])\n",
            "After unsqueeze at 1: torch.Size([3, 1, 4])\n",
            "After unsqueeze at 2: torch.Size([3, 4, 1])\n"
          ]
        }
      ]
    },
    {
      "cell_type": "markdown",
      "source": [
        "### Permute\n",
        "In PyTorch, `permute()` is used to change the order of dimensions in a tensor. It allows you to rearrange the axes of the tensor to a new specified order."
      ],
      "metadata": {
        "id": "1hCIVQDLlicW"
      }
    },
    {
      "cell_type": "code",
      "source": [
        "tensor = torch.randn(2, 3, 4)\n",
        "print(\"Original tensor shape:\", tensor.shape)\n",
        "\n",
        "# Applying permute to change the dimension order\n",
        "permuted_tensor = tensor.permute(1, 0, 2)  # Swap 0th and 1st dimensions\n",
        "print(\"Permuted tensor shape:\", permuted_tensor.shape)"
      ],
      "metadata": {
        "colab": {
          "base_uri": "https://localhost:8080/"
        },
        "id": "qlTTmN4gjPqF",
        "outputId": "9a3e18e4-9c4f-4077-88df-91814c151d84"
      },
      "execution_count": 66,
      "outputs": [
        {
          "output_type": "stream",
          "name": "stdout",
          "text": [
            "Original tensor shape: torch.Size([2, 3, 4])\n",
            "Permuted tensor shape: torch.Size([3, 2, 4])\n"
          ]
        }
      ]
    },
    {
      "cell_type": "markdown",
      "source": [
        "## Indexing"
      ],
      "metadata": {
        "id": "fEoCjEgMw0w4"
      }
    },
    {
      "cell_type": "code",
      "source": [
        "x = torch.arange(0, 18).reshape(2, 3, 3)\n",
        "x"
      ],
      "metadata": {
        "id": "FN_d81jHm2EF",
        "colab": {
          "base_uri": "https://localhost:8080/"
        },
        "outputId": "6bf86ea6-cca7-4fef-e108-637429ecb1fa"
      },
      "execution_count": 72,
      "outputs": [
        {
          "output_type": "execute_result",
          "data": {
            "text/plain": [
              "tensor([[[ 0,  1,  2],\n",
              "         [ 3,  4,  5],\n",
              "         [ 6,  7,  8]],\n",
              "\n",
              "        [[ 9, 10, 11],\n",
              "         [12, 13, 14],\n",
              "         [15, 16, 17]]])"
            ]
          },
          "metadata": {},
          "execution_count": 72
        }
      ]
    },
    {
      "cell_type": "code",
      "source": [
        "x[0]"
      ],
      "metadata": {
        "colab": {
          "base_uri": "https://localhost:8080/"
        },
        "id": "9pY54X6gwayG",
        "outputId": "14240ecd-1180-4d66-a59f-74b144eb0a54"
      },
      "execution_count": 74,
      "outputs": [
        {
          "output_type": "execute_result",
          "data": {
            "text/plain": [
              "tensor([[0, 1, 2],\n",
              "        [3, 4, 5],\n",
              "        [6, 7, 8]])"
            ]
          },
          "metadata": {},
          "execution_count": 74
        }
      ]
    },
    {
      "cell_type": "code",
      "source": [
        "x[1,1,1]"
      ],
      "metadata": {
        "colab": {
          "base_uri": "https://localhost:8080/"
        },
        "id": "LMqv9krWv7UN",
        "outputId": "e4a753bc-e375-4e0c-b9f2-0afb84db73dd"
      },
      "execution_count": 73,
      "outputs": [
        {
          "output_type": "execute_result",
          "data": {
            "text/plain": [
              "tensor(13)"
            ]
          },
          "metadata": {},
          "execution_count": 73
        }
      ]
    },
    {
      "cell_type": "code",
      "source": [
        "x[0,1]"
      ],
      "metadata": {
        "colab": {
          "base_uri": "https://localhost:8080/"
        },
        "id": "aGtGTdQNwB_L",
        "outputId": "51b3b07e-b383-4cbf-a060-52c8a5498303"
      },
      "execution_count": 75,
      "outputs": [
        {
          "output_type": "execute_result",
          "data": {
            "text/plain": [
              "tensor([3, 4, 5])"
            ]
          },
          "metadata": {},
          "execution_count": 75
        }
      ]
    },
    {
      "cell_type": "code",
      "source": [
        "x[0,2,:2]"
      ],
      "metadata": {
        "colab": {
          "base_uri": "https://localhost:8080/"
        },
        "id": "k8huWiBKwIVF",
        "outputId": "b392d5f7-5d23-46c6-fa38-1eb0f26c2812"
      },
      "execution_count": 86,
      "outputs": [
        {
          "output_type": "execute_result",
          "data": {
            "text/plain": [
              "tensor([6, 7])"
            ]
          },
          "metadata": {},
          "execution_count": 86
        }
      ]
    },
    {
      "cell_type": "code",
      "source": [
        "x[0,2,0:1]"
      ],
      "metadata": {
        "colab": {
          "base_uri": "https://localhost:8080/"
        },
        "id": "RygLft5Lx0Ik",
        "outputId": "bd5cc434-4a1d-406a-a8c6-c811e9c586f4"
      },
      "execution_count": 87,
      "outputs": [
        {
          "output_type": "execute_result",
          "data": {
            "text/plain": [
              "tensor([6])"
            ]
          },
          "metadata": {},
          "execution_count": 87
        }
      ]
    },
    {
      "cell_type": "code",
      "source": [
        "x[0,:,-1]"
      ],
      "metadata": {
        "colab": {
          "base_uri": "https://localhost:8080/"
        },
        "id": "ZjEZJoQj1VvZ",
        "outputId": "7206b9b3-4dd0-4865-aeb5-86e7dcc26e37"
      },
      "execution_count": 91,
      "outputs": [
        {
          "output_type": "execute_result",
          "data": {
            "text/plain": [
              "tensor([2, 5, 8])"
            ]
          },
          "metadata": {},
          "execution_count": 91
        }
      ]
    },
    {
      "cell_type": "code",
      "source": [
        "x[1,1:,1]"
      ],
      "metadata": {
        "colab": {
          "base_uri": "https://localhost:8080/"
        },
        "id": "B1I_hv232eWZ",
        "outputId": "8ba4d1ce-c53e-4c56-dcf0-f38efc4184d8"
      },
      "execution_count": 92,
      "outputs": [
        {
          "output_type": "execute_result",
          "data": {
            "text/plain": [
              "tensor([13, 16])"
            ]
          },
          "metadata": {},
          "execution_count": 92
        }
      ]
    },
    {
      "cell_type": "markdown",
      "source": [
        "## Tensors and NumPy"
      ],
      "metadata": {
        "id": "SCO2q3i5-NP2"
      }
    },
    {
      "cell_type": "markdown",
      "source": [
        "### NumPy to Tensor"
      ],
      "metadata": {
        "id": "5UbEFlDZBh1p"
      }
    },
    {
      "cell_type": "code",
      "source": [
        "import numpy as np\n",
        "\n",
        "a = np.arange(1,11)\n",
        "tensor = torch.from_numpy(a)\n",
        "a, tensor, tensor.dtype"
      ],
      "metadata": {
        "colab": {
          "base_uri": "https://localhost:8080/"
        },
        "id": "cKqVxQdN2AK3",
        "outputId": "40bbbf5b-c0d0-4bd9-836e-4b35686cb5c7"
      },
      "execution_count": 107,
      "outputs": [
        {
          "output_type": "execute_result",
          "data": {
            "text/plain": [
              "(array([ 1,  2,  3,  4,  5,  6,  7,  8,  9, 10]),\n",
              " tensor([ 1,  2,  3,  4,  5,  6,  7,  8,  9, 10]),\n",
              " torch.int64)"
            ]
          },
          "metadata": {},
          "execution_count": 107
        }
      ]
    },
    {
      "cell_type": "code",
      "source": [
        "a = a + 1\n",
        "a, tensor"
      ],
      "metadata": {
        "colab": {
          "base_uri": "https://localhost:8080/"
        },
        "id": "kpxo_ofpB-Se",
        "outputId": "773cb6da-80e7-4154-90f4-725df6f47fc0"
      },
      "execution_count": 108,
      "outputs": [
        {
          "output_type": "execute_result",
          "data": {
            "text/plain": [
              "(array([ 2,  3,  4,  5,  6,  7,  8,  9, 10, 11]),\n",
              " tensor([ 1,  2,  3,  4,  5,  6,  7,  8,  9, 10]))"
            ]
          },
          "metadata": {},
          "execution_count": 108
        }
      ]
    },
    {
      "cell_type": "markdown",
      "source": [
        "### Tensor to NumPy"
      ],
      "metadata": {
        "id": "hNfsMK0_CcLs"
      }
    },
    {
      "cell_type": "code",
      "source": [
        "tensor = torch.ones(7)\n",
        "numpy_tensor = tensor.numpy()\n",
        "tensor, numpy_tensor"
      ],
      "metadata": {
        "colab": {
          "base_uri": "https://localhost:8080/"
        },
        "id": "9GHajlTnCaXF",
        "outputId": "a0df25ca-6bbb-46cf-e25e-39d72bf24031"
      },
      "execution_count": 109,
      "outputs": [
        {
          "output_type": "execute_result",
          "data": {
            "text/plain": [
              "(tensor([1., 1., 1., 1., 1., 1., 1.]),\n",
              " array([1., 1., 1., 1., 1., 1., 1.], dtype=float32))"
            ]
          },
          "metadata": {},
          "execution_count": 109
        }
      ]
    },
    {
      "cell_type": "markdown",
      "source": [
        "## Reproducibility (Seed)"
      ],
      "metadata": {
        "id": "Ik0Jfoh5-QMf"
      }
    },
    {
      "cell_type": "code",
      "source": [
        "# We need to call Random Seed everytime before creating tensor if we want the reproducibility.\n",
        "random_seed = 42\n",
        "\n",
        "torch.manual_seed(random_seed)\n",
        "random1 = torch.rand(7,7)\n",
        "\n",
        "torch.manual_seed(random_seed)\n",
        "random2 = torch.rand(7,7)\n",
        "\n",
        "print(random1)\n",
        "print(\"\\n\", random2)\n",
        "print(\"\\n\", random1 == random2)"
      ],
      "metadata": {
        "colab": {
          "base_uri": "https://localhost:8080/"
        },
        "id": "V7x2vHLL-S5h",
        "outputId": "042a10eb-d769-4914-87d9-1403cd953064"
      },
      "execution_count": 98,
      "outputs": [
        {
          "output_type": "stream",
          "name": "stdout",
          "text": [
            "tensor([[0.8823, 0.9150, 0.3829, 0.9593, 0.3904, 0.6009, 0.2566],\n",
            "        [0.7936, 0.9408, 0.1332, 0.9346, 0.5936, 0.8694, 0.5677],\n",
            "        [0.7411, 0.4294, 0.8854, 0.5739, 0.2666, 0.6274, 0.2696],\n",
            "        [0.4414, 0.2969, 0.8317, 0.1053, 0.2695, 0.3588, 0.1994],\n",
            "        [0.5472, 0.0062, 0.9516, 0.0753, 0.8860, 0.5832, 0.3376],\n",
            "        [0.8090, 0.5779, 0.9040, 0.5547, 0.3423, 0.6343, 0.3644],\n",
            "        [0.7104, 0.9464, 0.7890, 0.2814, 0.7886, 0.5895, 0.7539]])\n",
            "\n",
            " tensor([[0.8823, 0.9150, 0.3829, 0.9593, 0.3904, 0.6009, 0.2566],\n",
            "        [0.7936, 0.9408, 0.1332, 0.9346, 0.5936, 0.8694, 0.5677],\n",
            "        [0.7411, 0.4294, 0.8854, 0.5739, 0.2666, 0.6274, 0.2696],\n",
            "        [0.4414, 0.2969, 0.8317, 0.1053, 0.2695, 0.3588, 0.1994],\n",
            "        [0.5472, 0.0062, 0.9516, 0.0753, 0.8860, 0.5832, 0.3376],\n",
            "        [0.8090, 0.5779, 0.9040, 0.5547, 0.3423, 0.6343, 0.3644],\n",
            "        [0.7104, 0.9464, 0.7890, 0.2814, 0.7886, 0.5895, 0.7539]])\n",
            "\n",
            " tensor([[True, True, True, True, True, True, True],\n",
            "        [True, True, True, True, True, True, True],\n",
            "        [True, True, True, True, True, True, True],\n",
            "        [True, True, True, True, True, True, True],\n",
            "        [True, True, True, True, True, True, True],\n",
            "        [True, True, True, True, True, True, True],\n",
            "        [True, True, True, True, True, True, True]])\n"
          ]
        }
      ]
    },
    {
      "cell_type": "markdown",
      "source": [
        "## CUDA, GPU & CPU"
      ],
      "metadata": {
        "id": "NzsFlmdo-Wrt"
      }
    },
    {
      "cell_type": "code",
      "source": [
        "torch.cuda.is_available()"
      ],
      "metadata": {
        "colab": {
          "base_uri": "https://localhost:8080/"
        },
        "id": "7BP7AOSm-UhI",
        "outputId": "089c3b2c-66e8-45f6-b47e-76c14c0bc4eb"
      },
      "execution_count": 99,
      "outputs": [
        {
          "output_type": "execute_result",
          "data": {
            "text/plain": [
              "False"
            ]
          },
          "metadata": {},
          "execution_count": 99
        }
      ]
    },
    {
      "cell_type": "code",
      "source": [
        "device = \"cuda\" if torch.cuda.is_available() else \"cpu\"\n",
        "device"
      ],
      "metadata": {
        "colab": {
          "base_uri": "https://localhost:8080/",
          "height": 35
        },
        "id": "Nl_3Rs03_SwG",
        "outputId": "46a887cd-2da2-46fa-ec83-0a6a57881b35"
      },
      "execution_count": 100,
      "outputs": [
        {
          "output_type": "execute_result",
          "data": {
            "text/plain": [
              "'cpu'"
            ],
            "application/vnd.google.colaboratory.intrinsic+json": {
              "type": "string"
            }
          },
          "metadata": {},
          "execution_count": 100
        }
      ]
    },
    {
      "cell_type": "code",
      "source": [
        "torch.cuda.device_count()"
      ],
      "metadata": {
        "colab": {
          "base_uri": "https://localhost:8080/"
        },
        "id": "VlNLqIBZ_Z6_",
        "outputId": "43a1c7f5-98a6-4d9c-e3c2-f514c5c12898"
      },
      "execution_count": 101,
      "outputs": [
        {
          "output_type": "execute_result",
          "data": {
            "text/plain": [
              "0"
            ]
          },
          "metadata": {},
          "execution_count": 101
        }
      ]
    },
    {
      "cell_type": "code",
      "source": [
        "tensor1 = torch.tensor([1,2,3])\n",
        "tensor1.device"
      ],
      "metadata": {
        "colab": {
          "base_uri": "https://localhost:8080/"
        },
        "id": "RcLJeZX9_e3A",
        "outputId": "52aed3e1-d40e-4548-a6f6-59bc48314bcf"
      },
      "execution_count": 102,
      "outputs": [
        {
          "output_type": "execute_result",
          "data": {
            "text/plain": [
              "device(type='cpu')"
            ]
          },
          "metadata": {},
          "execution_count": 102
        }
      ]
    },
    {
      "cell_type": "markdown",
      "source": [
        "### **Note -**\n",
        "\n",
        "* Remember, when converting tensor back to numpy, don't forget to change the device to cpu first as numpy array requires cpu not gpu."
      ],
      "metadata": {
        "id": "7TxlIZ5G_6Wn"
      }
    }
  ]
}